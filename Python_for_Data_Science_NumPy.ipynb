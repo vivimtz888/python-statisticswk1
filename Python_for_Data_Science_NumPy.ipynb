{
  "cells": [
    {
      "cell_type": "code",
      "execution_count": 2,
      "metadata": {
        "id": "ynE9R19cPIMT"
      },
      "outputs": [],
      "source": [
        "# The first step of using numpy is to tell python to import it\n",
        "import numpy as np"
      ]
    },
    {
      "cell_type": "markdown",
      "metadata": {
        "id": "V7NoTi0kTGVz"
      },
      "source": [
        "### 2.1 NumPy Arrays"
      ]
    },
    {
      "cell_type": "markdown",
      "metadata": {
        "id": "cYsQgeSWalcG"
      },
      "source": [
        "**NumPy Array**\n",
        "* An array is a data structure that stores values of same data type.\n",
        "* While python lists can contain values corresponding to different data types, arrays in python can only contain values corresponding to the same data type.\n",
        "* However python lists fail to deliver the performance required while computing large sets of numerical data. To address this issue we use NumPy arrays.\n",
        "* We can create NumPy arrays by converting a list to an array.\n"
      ]
    },
    {
      "cell_type": "code",
      "execution_count": 3,
      "metadata": {
        "id": "-iMbhbKUS01I"
      },
      "outputs": [],
      "source": [
        "# defining a list of different car companies or string elements\n",
        "arr_str = ['Mercedes', 'BMW', 'Audi', 'Ferrari', 'Tesla']\n",
        "\n",
        "# defining a list of number of cylinders in car or numerical elements\n",
        "arr_num = [5, 4, 6, 7, 3]"
      ]
    },
    {
      "cell_type": "code",
      "execution_count": 4,
      "metadata": {
        "colab": {
          "base_uri": "https://localhost:8080/"
        },
        "id": "z8kfV796S0xz",
        "outputId": "dd971fee-f015-4ecc-c1b8-2c5dcb0dedc3"
      },
      "outputs": [
        {
          "output_type": "stream",
          "name": "stdout",
          "text": [
            "Numpy Array (arr_str):  ['Mercedes' 'BMW' 'Audi' 'Ferrari' 'Tesla']\n",
            "Numpy Array (arr_num):  [5 4 6 7 3]\n"
          ]
        }
      ],
      "source": [
        "# connverting the list arr_str to a NumPy array\n",
        "np_arr_str = np.array(arr_str)\n",
        "\n",
        "\n",
        "# connverting the list arr_num to a NumPy array\n",
        "np_arr_num = np.array(arr_num)\n",
        "\n",
        "# checking the output\n",
        "print('Numpy Array (arr_str): ',np_arr_str)\n",
        "print('Numpy Array (arr_num): ',np_arr_num)"
      ]
    },
    {
      "cell_type": "markdown",
      "metadata": {
        "id": "fNUnCIRbS0vz"
      },
      "source": [
        "The resuts look similar to a list but arr_str and arr_num have been converted to NumPy arrays. Let's check the data type to confirm this."
      ]
    },
    {
      "cell_type": "code",
      "execution_count": 6,
      "metadata": {
        "colab": {
          "base_uri": "https://localhost:8080/"
        },
        "id": "Cc_-eibuS0sr",
        "outputId": "c83b2a1d-e2f0-47c7-9961-fcb3b18c3e97"
      },
      "outputs": [
        {
          "output_type": "stream",
          "name": "stdout",
          "text": [
            "Data type of arr_str:  <class 'list'>\n",
            "Data type of arr_num:  <class 'list'>\n",
            "Data type of np_arr_str:  <class 'numpy.ndarray'>\n",
            "Data type of np_arr_num:  <class 'numpy.ndarray'>\n"
          ]
        }
      ],
      "source": [
        "# printing the data type of lists\n",
        "print('Data type of arr_str: ',type(arr_str))\n",
        "print('Data type of arr_num: ',type(arr_num))\n",
        "\n",
        "# printing the data type after conversion of lists to array\n",
        "print('Data type of np_arr_str: ',type(np_arr_str))\n",
        "print('Data type of np_arr_num: ',type(np_arr_num))"
      ]
    },
    {
      "cell_type": "markdown",
      "metadata": {
        "id": "D5MBk_c0gorg"
      },
      "source": [
        "* The above output confirms that both the lists were successfully converted to arrays"
      ]
    },
    {
      "cell_type": "markdown",
      "metadata": {
        "id": "vO-p9figS0qt"
      },
      "source": [
        "**NumPy Matrix**"
      ]
    },
    {
      "cell_type": "markdown",
      "metadata": {
        "id": "63nVxGI-dEFn"
      },
      "source": [
        "* A matrix is a two-dimensional data structure where elements are arranged into rows and columns.\n",
        "* A matrix can be created by using list of lists"
      ]
    },
    {
      "cell_type": "code",
      "execution_count": 8,
      "metadata": {
        "colab": {
          "base_uri": "https://localhost:8080/"
        },
        "id": "eHL0aPSOS0fT",
        "outputId": "a4af9cdf-d44e-49ae-9c21-a8f4c533f009"
      },
      "outputs": [
        {
          "output_type": "stream",
          "name": "stdout",
          "text": [
            "[[1 2 1]\n",
            " [4 5 9]\n",
            " [1 8 9]]\n"
          ]
        }
      ],
      "source": [
        "# let's say we have information of different number of cylinders in a car and we want to display them in a matrix format\n",
        "matrix = np.array([[1,2,1],[4,5,9],[1,8,9]])\n",
        "print(matrix)"
      ]
    },
    {
      "cell_type": "code",
      "execution_count": 9,
      "metadata": {
        "colab": {
          "base_uri": "https://localhost:8080/"
        },
        "id": "1l5-7_3T2svj",
        "outputId": "a820a116-559e-495d-90f5-932c85bf58b5"
      },
      "outputs": [
        {
          "output_type": "stream",
          "name": "stdout",
          "text": [
            "Data type of matrix:  <class 'numpy.ndarray'>\n"
          ]
        }
      ],
      "source": [
        "print('Data type of matrix: ',type(matrix))"
      ]
    },
    {
      "cell_type": "markdown",
      "metadata": {
        "id": "ic8DdniJAYi4"
      },
      "source": [
        "* We see that all the NumPy objects have data type as ndarray"
      ]
    },
    {
      "cell_type": "markdown",
      "metadata": {
        "id": "s_QCIWxNPywk"
      },
      "source": [
        "### 2.2 NumPy Functions"
      ]
    },
    {
      "cell_type": "markdown",
      "metadata": {
        "id": "9ByN9uM8dIp9"
      },
      "source": [
        "**There are different ways to create NumPy arrays using the functions available in NumPy library**"
      ]
    },
    {
      "cell_type": "markdown",
      "metadata": {
        "id": "mJD-BCvcdjQY"
      },
      "source": [
        "**Using np.arange() function**\n",
        "* The np.arange() function returns an array with evenly spaced elements as per the interval. The interval mentioned is half-opened i.e. start is included but stop is excluded.\n",
        "* It has the following paramaters:\n",
        "  * start : start of interval range. By default start = 0\n",
        "  * stop  : end of interval range\n",
        "  * step  : step size of interval. By default step size = 1"
      ]
    },
    {
      "cell_type": "code",
      "execution_count": 10,
      "metadata": {
        "colab": {
          "base_uri": "https://localhost:8080/"
        },
        "id": "h6yhwhCfdhrO",
        "outputId": "49a0c7fa-465a-4823-eaa2-27197d490a2e"
      },
      "outputs": [
        {
          "output_type": "stream",
          "name": "stdout",
          "text": [
            "[0 1 2 3 4 5 6 7 8 9]\n",
            "[0 1 2 3 4 5 6 7 8 9]\n"
          ]
        }
      ],
      "source": [
        "arr2  = np.arange(start = 0, stop = 10) # 10 will be excluded from the output\n",
        "print(arr2)\n",
        "\n",
        "# or\n",
        "\n",
        "arr2  = np.arange(0,10)\n",
        "print(arr2)"
      ]
    },
    {
      "cell_type": "code",
      "execution_count": 11,
      "metadata": {
        "colab": {
          "base_uri": "https://localhost:8080/"
        },
        "id": "EBQxWv87gij1",
        "outputId": "0e63417a-71ae-4483-b011-678edd8545d2"
      },
      "outputs": [
        {
          "output_type": "execute_result",
          "data": {
            "text/plain": [
              "array([ 0,  5, 10, 15])"
            ]
          },
          "metadata": {},
          "execution_count": 11
        }
      ],
      "source": [
        "# adding a step size of 5 to create an array\n",
        "arr3  = np.arange(start = 0, stop = 20, step = 5)\n",
        "arr3"
      ]
    },
    {
      "cell_type": "markdown",
      "metadata": {
        "id": "fadu1DMxge1S"
      },
      "source": [
        "**Using np.linspace() function**\n",
        "* The np.linspace() function returns numbers which are evenly distributed with respect to interval. Here the start and stop both are included.            \n",
        "*It has the following parameters:              \n",
        " * start: start of interval range. By default start = 0\n",
        " * stop: end of interval range\n",
        " * num : No. of samples to generate. By default num = 50"
      ]
    },
    {
      "cell_type": "code",
      "execution_count": 12,
      "metadata": {
        "colab": {
          "base_uri": "https://localhost:8080/"
        },
        "id": "AvnueiSGdhb7",
        "outputId": "a5270eee-bcad-4f27-83f9-a02faf15ba1a"
      },
      "outputs": [
        {
          "output_type": "execute_result",
          "data": {
            "text/plain": [
              "array([0.        , 0.10204082, 0.20408163, 0.30612245, 0.40816327,\n",
              "       0.51020408, 0.6122449 , 0.71428571, 0.81632653, 0.91836735,\n",
              "       1.02040816, 1.12244898, 1.2244898 , 1.32653061, 1.42857143,\n",
              "       1.53061224, 1.63265306, 1.73469388, 1.83673469, 1.93877551,\n",
              "       2.04081633, 2.14285714, 2.24489796, 2.34693878, 2.44897959,\n",
              "       2.55102041, 2.65306122, 2.75510204, 2.85714286, 2.95918367,\n",
              "       3.06122449, 3.16326531, 3.26530612, 3.36734694, 3.46938776,\n",
              "       3.57142857, 3.67346939, 3.7755102 , 3.87755102, 3.97959184,\n",
              "       4.08163265, 4.18367347, 4.28571429, 4.3877551 , 4.48979592,\n",
              "       4.59183673, 4.69387755, 4.79591837, 4.89795918, 5.        ])"
            ]
          },
          "metadata": {},
          "execution_count": 12
        }
      ],
      "source": [
        "matrix2 = np.linspace(0,5) # by default 50 evenly spaced values will be generated between 0 and 5\n",
        "matrix2"
      ]
    },
    {
      "cell_type": "markdown",
      "metadata": {
        "id": "zR_AydpiBToe"
      },
      "source": [
        "**How are these values getting generated?**\n",
        "\n",
        "The step size or the difference between each element will be decided by the following formula:\n",
        "\n",
        "**(stop - start) / (total elements - 1)**\n",
        "\n",
        "So, in this case:\n",
        "(5 - 0) / 49 = 0.10204082\n",
        "\n",
        "The first value will be 0.10204082, the second value will be 0.10204082 + 0.10204082, the third value will be 0.10204082 + 0.10204082 +0.10204082, and so on."
      ]
    },
    {
      "cell_type": "code",
      "execution_count": 13,
      "metadata": {
        "colab": {
          "base_uri": "https://localhost:8080/"
        },
        "id": "0VDGGmj2dhPp",
        "outputId": "7fbb9da9-77f5-485b-b7df-7b39f0216374"
      },
      "outputs": [
        {
          "output_type": "execute_result",
          "data": {
            "text/plain": [
              "array([10.        , 11.11111111, 12.22222222, 13.33333333, 14.44444444,\n",
              "       15.55555556, 16.66666667, 17.77777778, 18.88888889, 20.        ])"
            ]
          },
          "metadata": {},
          "execution_count": 13
        }
      ],
      "source": [
        "# generating 10 evenly spaced values between 10 and 20\n",
        "matrix3 = np.linspace(10,20,10)\n",
        "matrix3"
      ]
    },
    {
      "cell_type": "markdown",
      "metadata": {
        "id": "8Nxn51w2dhEE"
      },
      "source": [
        "**Similarly we can create matrices using the functions available in NumPy library**"
      ]
    },
    {
      "cell_type": "markdown",
      "metadata": {
        "id": "x9brl-h9dg2b"
      },
      "source": [
        "**Using np.zeros()**\n",
        "\n",
        "* The np.zeros() is a function for creating a matrix and performing matrix operations in NumPy.\n",
        "* It returns a matrix filled with zeros of the given shape.\n",
        "* It has the following parameters:    \n",
        "  * shape : Number of rows and columns in the output matrix.\n",
        "  * dtype: data type of the elements in the matrix, by default the value is set to `float`."
      ]
    },
    {
      "cell_type": "code",
      "execution_count": 16,
      "metadata": {
        "colab": {
          "base_uri": "https://localhost:8080/"
        },
        "id": "zcfKm8ENjNQv",
        "outputId": "7e5097ba-2151-46ad-ece2-9213d5a5111c"
      },
      "outputs": [
        {
          "output_type": "execute_result",
          "data": {
            "text/plain": [
              "array([[0, 0, 0, 0, 0],\n",
              "       [0, 0, 0, 0, 0],\n",
              "       [0, 0, 0, 0, 0]])"
            ]
          },
          "metadata": {},
          "execution_count": 16
        }
      ],
      "source": [
        "matrix4 = np.zeros([3,5], int)\n",
        "matrix4"
      ]
    },
    {
      "cell_type": "markdown",
      "metadata": {
        "id": "8jy4YykQjICK"
      },
      "source": [
        "**Using np.ones()**\n",
        "\n",
        "* The np.ones() is another function for creating a matrix and performing matrix operations in NumPy.\n",
        "* It returns a matrix of given shape and type, filled with ones.\n",
        "* It has the following parameters:  \n",
        "  * shape : Number of rows and columns in the output matrix.\n",
        "  * dtype: data type of the elements in the matrix, by default the value is set to `float`."
      ]
    },
    {
      "cell_type": "code",
      "execution_count": 15,
      "metadata": {
        "colab": {
          "base_uri": "https://localhost:8080/"
        },
        "id": "JJ-hv5dcjRN1",
        "outputId": "8b1ece0e-2eff-48f3-ad9e-bdce6b32dd75"
      },
      "outputs": [
        {
          "output_type": "execute_result",
          "data": {
            "text/plain": [
              "array([[1., 1., 1., 1., 1.],\n",
              "       [1., 1., 1., 1., 1.],\n",
              "       [1., 1., 1., 1., 1.]])"
            ]
          },
          "metadata": {},
          "execution_count": 15
        }
      ],
      "source": [
        "matrix5 = np.ones([3,5])\n",
        "matrix5"
      ]
    },
    {
      "cell_type": "markdown",
      "metadata": {
        "id": "ge-0i4W2jH4S"
      },
      "source": [
        "**Using np.eye()**\n",
        "* The np.eye() is a function for creating a matrix and performing matrix operations in NumPy.\n",
        "* It returns a matrix with ones on the diagonal and zeros elsewhere.\n",
        "* It has the following parameters:\n",
        "  * n: Number of rows and columns in the output matrix\n",
        "  * dtype: data type of the elements in the matrix, by default the value is set to `float`."
      ]
    },
    {
      "cell_type": "code",
      "execution_count": 17,
      "metadata": {
        "colab": {
          "base_uri": "https://localhost:8080/"
        },
        "id": "2a0_OXeWjHou",
        "outputId": "d0de078d-7f6e-4de4-a541-5afe25058473"
      },
      "outputs": [
        {
          "output_type": "execute_result",
          "data": {
            "text/plain": [
              "array([[1., 0., 0., 0., 0.],\n",
              "       [0., 1., 0., 0., 0.],\n",
              "       [0., 0., 1., 0., 0.],\n",
              "       [0., 0., 0., 1., 0.],\n",
              "       [0., 0., 0., 0., 1.]])"
            ]
          },
          "metadata": {},
          "execution_count": 17
        }
      ],
      "source": [
        "matrix6 = np.eye(5)\n",
        "matrix6"
      ]
    },
    {
      "cell_type": "markdown",
      "metadata": {
        "id": "DkJp6gB1dgHl"
      },
      "source": [
        "**We can also convert a one dimension array to a matrix. This can be done by using the np.reshape() function.**"
      ]
    },
    {
      "cell_type": "markdown",
      "metadata": {
        "id": "ifxHtcyyuVsX"
      },
      "source": [
        "* The shape of an array basically tells the number of elements and dimensions of the array. Reshaping a Numpy array simply means changing the shape of the given array.\n",
        "* By reshaping an array we can add or remove dimensions or change number of elements in each dimension.\n",
        "* In order to reshape a NumPy array, we use the reshape method with the given array.\n",
        "* **Syntax:** array.reshape(shape)\n",
        "  * shape: a tuple given as input, the values in tuple will be the new shape of the array."
      ]
    },
    {
      "cell_type": "code",
      "execution_count": 18,
      "metadata": {
        "colab": {
          "base_uri": "https://localhost:8080/"
        },
        "id": "iYbHCKdPk5hb",
        "outputId": "c6242206-ce58-4c2c-b902-39ff8cdb026c"
      },
      "outputs": [
        {
          "output_type": "execute_result",
          "data": {
            "text/plain": [
              "array([0, 1, 2, 3, 4, 5, 6, 7, 8, 9])"
            ]
          },
          "metadata": {},
          "execution_count": 18
        }
      ],
      "source": [
        "# defining an array with values 0 to 9\n",
        "arr4 = np.arange(0,10)\n",
        "arr4"
      ]
    },
    {
      "cell_type": "code",
      "execution_count": 19,
      "metadata": {
        "colab": {
          "base_uri": "https://localhost:8080/"
        },
        "id": "SE6wnu1MlbXv",
        "outputId": "2c6340e0-d5c0-4091-8180-5bdcd4855aa2"
      },
      "outputs": [
        {
          "output_type": "execute_result",
          "data": {
            "text/plain": [
              "array([[0, 1, 2, 3, 4],\n",
              "       [5, 6, 7, 8, 9]])"
            ]
          },
          "metadata": {},
          "execution_count": 19
        }
      ],
      "source": [
        "# reshaping the array arr4 to a 2 x 5 matrix\n",
        "arr4_reshaped = arr4.reshape((2,5))\n",
        "arr4_reshaped"
      ]
    },
    {
      "cell_type": "code",
      "execution_count": 20,
      "metadata": {
        "colab": {
          "base_uri": "https://localhost:8080/"
        },
        "id": "KbuGcnPLFT2m",
        "outputId": "8ffcfccc-fb51-4f9e-d371-2574b02f6010"
      },
      "outputs": [
        {
          "output_type": "execute_result",
          "data": {
            "text/plain": [
              "array([0, 1, 2, 3, 4, 5, 6, 7, 8, 9])"
            ]
          },
          "metadata": {},
          "execution_count": 20
        }
      ],
      "source": [
        "arr4"
      ]
    },
    {
      "cell_type": "code",
      "execution_count": 21,
      "metadata": {
        "colab": {
          "base_uri": "https://localhost:8080/",
          "height": 162
        },
        "id": "HRqcE-TT_-dQ",
        "outputId": "359de12f-7d4a-4383-963f-84ec51a698c7"
      },
      "outputs": [
        {
          "output_type": "error",
          "ename": "ValueError",
          "evalue": "cannot reshape array of size 10 into shape (2,6)",
          "traceback": [
            "\u001b[0;31m---------------------------------------------------------------------------\u001b[0m",
            "\u001b[0;31mValueError\u001b[0m                                Traceback (most recent call last)",
            "\u001b[0;32m<ipython-input-21-d52ee4fd36fa>\u001b[0m in \u001b[0;36m<cell line: 0>\u001b[0;34m()\u001b[0m\n\u001b[1;32m      1\u001b[0m \u001b[0;31m# reshaping the array arr4 to a 2 x 6 matrix\u001b[0m\u001b[0;34m\u001b[0m\u001b[0;34m\u001b[0m\u001b[0m\n\u001b[0;32m----> 2\u001b[0;31m \u001b[0marr4\u001b[0m\u001b[0;34m.\u001b[0m\u001b[0mreshape\u001b[0m\u001b[0;34m(\u001b[0m\u001b[0;34m(\u001b[0m\u001b[0;36m2\u001b[0m\u001b[0;34m,\u001b[0m\u001b[0;36m6\u001b[0m\u001b[0;34m)\u001b[0m\u001b[0;34m)\u001b[0m\u001b[0;34m\u001b[0m\u001b[0;34m\u001b[0m\u001b[0m\n\u001b[0m",
            "\u001b[0;31mValueError\u001b[0m: cannot reshape array of size 10 into shape (2,6)"
          ]
        }
      ],
      "source": [
        "# reshaping the array arr4 to a 2 x 6 matrix\n",
        "arr4.reshape((2,6))"
      ]
    },
    {
      "cell_type": "code",
      "source": [
        "len(arr4)"
      ],
      "metadata": {
        "colab": {
          "base_uri": "https://localhost:8080/"
        },
        "id": "CbiTHT6HUAcZ",
        "outputId": "2bac70f7-187d-4826-9d56-1317619939e2"
      },
      "execution_count": 22,
      "outputs": [
        {
          "output_type": "execute_result",
          "data": {
            "text/plain": [
              "10"
            ]
          },
          "metadata": {},
          "execution_count": 22
        }
      ]
    },
    {
      "cell_type": "markdown",
      "metadata": {
        "id": "7DGMoYswCocf"
      },
      "source": [
        "* This did not work because we have 10 elements which we are trying to fit in a 2 X 6 shape which will require 12 elements."
      ]
    },
    {
      "cell_type": "markdown",
      "metadata": {
        "id": "lNd_TddVQtWI"
      },
      "source": [
        "**NumPy can also perform a large number of different mathematical operations and it provides different functions to do so.**\n",
        "\n",
        "NumPy provides:\n",
        "1. Trigonometric functions\n",
        "2. Exponents and Logarithmic functions\n",
        "3. Functions for arithmetic operations between arrays and matrices"
      ]
    },
    {
      "cell_type": "markdown",
      "metadata": {
        "id": "CE9wPRdYn5IB"
      },
      "source": [
        "**Trigonometric functions**"
      ]
    },
    {
      "cell_type": "code",
      "execution_count": 23,
      "metadata": {
        "colab": {
          "base_uri": "https://localhost:8080/"
        },
        "id": "6iKAU71XQBXn",
        "outputId": "44938757-5191-40ec-80fb-1d6fc8f537bc"
      },
      "outputs": [
        {
          "output_type": "stream",
          "name": "stdout",
          "text": [
            "Sine Function: -0.7568024953079282\n",
            "Cosine Function: -0.6536436208636119\n",
            "Tan Function 1.1578212823495775\n"
          ]
        }
      ],
      "source": [
        "print('Sine Function:',np.sin(4))\n",
        "print('Cosine Function:',np.cos(4))\n",
        "print('Tan Function',np.tan(4))"
      ]
    },
    {
      "cell_type": "markdown",
      "metadata": {
        "id": "9QWy471mQEXT"
      },
      "source": [
        "**Exponents and Logarithmic functions**"
      ]
    },
    {
      "cell_type": "markdown",
      "metadata": {
        "id": "BBKFBoABoyRx"
      },
      "source": [
        "* Exponents"
      ]
    },
    {
      "cell_type": "code",
      "execution_count": 24,
      "metadata": {
        "colab": {
          "base_uri": "https://localhost:8080/"
        },
        "id": "aanbLXltoDgt",
        "outputId": "6989cb1b-ba26-47d6-9a2f-d7e596b67e24"
      },
      "outputs": [
        {
          "output_type": "execute_result",
          "data": {
            "text/plain": [
              "7.38905609893065"
            ]
          },
          "metadata": {},
          "execution_count": 24
        }
      ],
      "source": [
        "np.exp(2)"
      ]
    },
    {
      "cell_type": "code",
      "execution_count": 25,
      "metadata": {
        "colab": {
          "base_uri": "https://localhost:8080/"
        },
        "id": "9VUfgN_oomI7",
        "outputId": "e53c7789-67e9-4998-c07f-0605b1d16556"
      },
      "outputs": [
        {
          "output_type": "execute_result",
          "data": {
            "text/plain": [
              "array([  7.3890561 ,  54.59815003, 403.42879349])"
            ]
          },
          "metadata": {},
          "execution_count": 25
        }
      ],
      "source": [
        "arr5 = np.array([2,4,6])\n",
        "np.exp(arr5)"
      ]
    },
    {
      "cell_type": "markdown",
      "metadata": {
        "id": "BgTCC-v6ouZn"
      },
      "source": [
        "* Logarithms"
      ]
    },
    {
      "cell_type": "code",
      "execution_count": 26,
      "metadata": {
        "colab": {
          "base_uri": "https://localhost:8080/"
        },
        "id": "7V8RWfDipHOQ",
        "outputId": "87a7a824-1fff-4cdb-9d95-562b3a09e819"
      },
      "outputs": [
        {
          "output_type": "execute_result",
          "data": {
            "text/plain": [
              "0.6931471805599453"
            ]
          },
          "metadata": {},
          "execution_count": 26
        }
      ],
      "source": [
        "# by default NumPy takes the base of log as e\n",
        "np.log(2)"
      ]
    },
    {
      "cell_type": "code",
      "execution_count": 27,
      "metadata": {
        "colab": {
          "base_uri": "https://localhost:8080/"
        },
        "id": "CH5eCec2pJLo",
        "outputId": "ca545279-0bb9-45cf-9437-c76b86c680a1"
      },
      "outputs": [
        {
          "output_type": "execute_result",
          "data": {
            "text/plain": [
              "array([0.69314718, 1.38629436, 1.79175947])"
            ]
          },
          "metadata": {},
          "execution_count": 27
        }
      ],
      "source": [
        "np.log(arr5)"
      ]
    },
    {
      "cell_type": "code",
      "execution_count": 28,
      "metadata": {
        "colab": {
          "base_uri": "https://localhost:8080/"
        },
        "id": "bgam8aXTpOVc",
        "outputId": "f5f6696c-0011-431f-9364-6987f62dee7f"
      },
      "outputs": [
        {
          "output_type": "execute_result",
          "data": {
            "text/plain": [
              "0.9030899869919435"
            ]
          },
          "metadata": {},
          "execution_count": 28
        }
      ],
      "source": [
        "## log with base 10\n",
        "np.log10(8)"
      ]
    },
    {
      "cell_type": "markdown",
      "metadata": {
        "id": "jDCujvq0pWZr"
      },
      "source": [
        "**Arithmetic Operations on arrays**"
      ]
    },
    {
      "cell_type": "code",
      "execution_count": 29,
      "metadata": {
        "colab": {
          "base_uri": "https://localhost:8080/"
        },
        "id": "SXFDL0TeKJZT",
        "outputId": "4b1950ff-63ba-47cf-eeb8-4a4302608aa8"
      },
      "outputs": [
        {
          "output_type": "stream",
          "name": "stdout",
          "text": [
            "[1, 2, 3, 4, 5, 6]\n"
          ]
        }
      ],
      "source": [
        "# arithmetic on lists\n",
        "\n",
        "l1 = [1,2,3]\n",
        "l2 = [4,5,6]\n",
        "print(l1+l2)\n",
        "# this does not behave as you would expect!\n"
      ]
    },
    {
      "cell_type": "code",
      "execution_count": 30,
      "metadata": {
        "colab": {
          "base_uri": "https://localhost:8080/"
        },
        "id": "MHZKZFP8ppQx",
        "outputId": "57cf1e00-d8bb-4508-f82f-d719bc3899cf"
      },
      "outputs": [
        {
          "output_type": "stream",
          "name": "stdout",
          "text": [
            "arr7: [1 2 3 4 5]\n",
            "arr8: [3 4 5 6 7]\n"
          ]
        }
      ],
      "source": [
        "# we can +-*/ arrays together\n",
        "\n",
        "# defining two arrays\n",
        "arr7 = np.arange(1,6)\n",
        "print('arr7:', arr7)\n",
        "\n",
        "arr8 = np.arange(3,8)\n",
        "print('arr8:', arr8)"
      ]
    },
    {
      "cell_type": "code",
      "execution_count": null,
      "metadata": {
        "colab": {
          "base_uri": "https://localhost:8080/"
        },
        "id": "xkMkQOL8rHOw",
        "outputId": "28d1dfd5-9dcc-43e3-e6ca-74af5cd26486"
      },
      "outputs": [
        {
          "name": "stdout",
          "output_type": "stream",
          "text": [
            "Addition:  [ 4  6  8 10 12]\n",
            "Subtraction:  [2 2 2 2 2]\n",
            "Multiplication: [ 3  8 15 24 35]\n",
            "Division: [0.33333333 0.5        0.6        0.66666667 0.71428571]\n",
            "Inverse: [1.         0.5        0.33333333 0.25       0.2       ]\n",
            "Powers: [    1    16   243  4096 78125]\n"
          ]
        }
      ],
      "source": [
        "print('Addition: ',arr7+arr8)\n",
        "print('Subtraction: ',arr8-arr7)\n",
        "print('Multiplication:' , arr7*arr8)\n",
        "print('Division:', arr7/arr8)\n",
        "print('Inverse:', 1/arr7)\n",
        "print('Powers:', arr7**arr8) # in python, powers are achieved using **, NOT ^!!! ^ does something completely different!"
      ]
    },
    {
      "cell_type": "markdown",
      "metadata": {
        "id": "SrE8fcrFtt7c"
      },
      "source": [
        "**Operations on Matrices**"
      ]
    },
    {
      "cell_type": "code",
      "execution_count": 31,
      "metadata": {
        "colab": {
          "base_uri": "https://localhost:8080/"
        },
        "id": "p-lZfDhUrb2b",
        "outputId": "7d010674-9ffb-4fd9-9305-6a1c54f2d1e8"
      },
      "outputs": [
        {
          "output_type": "stream",
          "name": "stdout",
          "text": [
            "[[1 2 3]\n",
            " [4 5 6]\n",
            " [7 8 9]]\n",
            "[[1. 0. 0.]\n",
            " [0. 1. 0.]\n",
            " [0. 0. 1.]]\n"
          ]
        }
      ],
      "source": [
        "matrix7 = np.arange(1,10).reshape(3,3)\n",
        "print(matrix7)\n",
        "\n",
        "matrix8 = np.eye(3)\n",
        "print(matrix8)"
      ]
    },
    {
      "cell_type": "code",
      "execution_count": 32,
      "metadata": {
        "colab": {
          "base_uri": "https://localhost:8080/"
        },
        "id": "VGBAxsUUtyts",
        "outputId": "24003782-c092-48b8-e7d6-75edabc8e814"
      },
      "outputs": [
        {
          "output_type": "stream",
          "name": "stdout",
          "text": [
            "Addition: \n",
            " [[ 2.  2.  3.]\n",
            " [ 4.  6.  6.]\n",
            " [ 7.  8. 10.]]\n",
            "Subtraction: \n",
            "  [[0. 2. 3.]\n",
            " [4. 4. 6.]\n",
            " [7. 8. 8.]]\n",
            "Multiplication: \n",
            " [[1. 0. 0.]\n",
            " [0. 5. 0.]\n",
            " [0. 0. 9.]]\n",
            "Division: \n",
            " [[ 1. inf inf]\n",
            " [inf  5. inf]\n",
            " [inf inf  9.]]\n"
          ]
        },
        {
          "output_type": "stream",
          "name": "stderr",
          "text": [
            "<ipython-input-32-b49c47b4c85a>:4: RuntimeWarning: divide by zero encountered in divide\n",
            "  print('Division: \\n', matrix7/matrix8)\n"
          ]
        }
      ],
      "source": [
        "print('Addition: \\n', matrix7+matrix8)\n",
        "print('Subtraction: \\n ', matrix7-matrix8)\n",
        "print('Multiplication: \\n', matrix7*matrix8)\n",
        "print('Division: \\n', matrix7/matrix8)"
      ]
    },
    {
      "cell_type": "markdown",
      "metadata": {
        "id": "c7jHF8Od6mHH"
      },
      "source": [
        "* RuntimeWarning: Errors which occur during program execution(run-time) after successful compilation are called run-time errors.\n",
        "* One of the most common run-time error is division by zero also known as Division error.\n",
        "* Due to division by zero error, we are getting inf (infinity) values because 1/0 is not a defined operation."
      ]
    },
    {
      "cell_type": "markdown",
      "metadata": {
        "id": "3WYcA-OxyL9Y"
      },
      "source": [
        "**Linear algebra matrix multiplication**"
      ]
    },
    {
      "cell_type": "code",
      "execution_count": 33,
      "metadata": {
        "colab": {
          "base_uri": "https://localhost:8080/"
        },
        "id": "nc0PAuG3sM6A",
        "outputId": "d92db947-c0ae-423c-b750-23c056b6042c"
      },
      "outputs": [
        {
          "output_type": "stream",
          "name": "stdout",
          "text": [
            "First Matrix: \n",
            " [[1 2 3]\n",
            " [4 5 6]\n",
            " [7 8 9]]\n",
            "Second Matrix: \n",
            " [[11 12 13]\n",
            " [14 15 16]\n",
            " [17 18 19]]\n",
            "\n",
            "Multiplication: \n",
            " [[ 90  96 102]\n",
            " [216 231 246]\n",
            " [342 366 390]]\n"
          ]
        }
      ],
      "source": [
        "matrix9 = np.arange(1,10).reshape(3,3)\n",
        "print('First Matrix: \\n',matrix9)\n",
        "\n",
        "matrix10 = np.arange(11,20).reshape(3,3)\n",
        "print('Second Matrix: \\n',matrix10)\n",
        "print('')\n",
        "# taking linear algebra matrix multiplication (some may have heard this called the dot product)\n",
        "print('Multiplication: \\n', matrix9 @ matrix10)"
      ]
    },
    {
      "cell_type": "code",
      "source": [
        "[1,2,3]\n",
        "[11, 14, 17]"
      ],
      "metadata": {
        "id": "Okf87CbWYdSf",
        "outputId": "89437a91-a178-469a-8136-6a52b73d24f9",
        "colab": {
          "base_uri": "https://localhost:8080/"
        }
      },
      "execution_count": 34,
      "outputs": [
        {
          "output_type": "execute_result",
          "data": {
            "text/plain": [
              "[11, 14, 17]"
            ]
          },
          "metadata": {},
          "execution_count": 34
        }
      ]
    },
    {
      "cell_type": "code",
      "source": [
        "1 * 11 +2 * 14 +3 *17"
      ],
      "metadata": {
        "id": "miZXPyNLYlD1",
        "outputId": "2ef230eb-e2ae-43ba-df97-424db4118bdc",
        "colab": {
          "base_uri": "https://localhost:8080/"
        }
      },
      "execution_count": 36,
      "outputs": [
        {
          "output_type": "execute_result",
          "data": {
            "text/plain": [
              "90"
            ]
          },
          "metadata": {},
          "execution_count": 36
        }
      ]
    },
    {
      "cell_type": "markdown",
      "metadata": {
        "id": "LQVkMw7Iynfu"
      },
      "source": [
        "**Transpose of a matrix**"
      ]
    },
    {
      "cell_type": "code",
      "execution_count": 37,
      "metadata": {
        "colab": {
          "base_uri": "https://localhost:8080/"
        },
        "id": "DJp3NtsrsSM4",
        "outputId": "0751b0dd-4aa1-4661-b6e4-dfc2dbbc91fe"
      },
      "outputs": [
        {
          "output_type": "stream",
          "name": "stdout",
          "text": [
            "[[1 2 3]\n",
            " [4 5 6]\n",
            " [7 8 9]]\n"
          ]
        }
      ],
      "source": [
        "print(matrix9)"
      ]
    },
    {
      "cell_type": "code",
      "execution_count": 38,
      "metadata": {
        "colab": {
          "base_uri": "https://localhost:8080/"
        },
        "id": "MDKJgUlptKet",
        "outputId": "7c71da3d-13ef-47c8-d4af-c4e837a9b9f4"
      },
      "outputs": [
        {
          "output_type": "execute_result",
          "data": {
            "text/plain": [
              "array([[1, 4, 7],\n",
              "       [2, 5, 8],\n",
              "       [3, 6, 9]])"
            ]
          },
          "metadata": {},
          "execution_count": 38
        }
      ],
      "source": [
        "# taking transpose of matrix\n",
        "np.transpose(matrix9)"
      ]
    },
    {
      "cell_type": "code",
      "execution_count": 39,
      "metadata": {
        "colab": {
          "base_uri": "https://localhost:8080/"
        },
        "id": "PwwpvruatMRj",
        "outputId": "8fc1f7ff-b5f3-49bb-fae9-8a09e2f6bcba"
      },
      "outputs": [
        {
          "output_type": "execute_result",
          "data": {
            "text/plain": [
              "array([[1, 4, 7],\n",
              "       [2, 5, 8],\n",
              "       [3, 6, 9]])"
            ]
          },
          "metadata": {},
          "execution_count": 39
        }
      ],
      "source": [
        "# another way of taking a transpose\n",
        "matrix9.T"
      ]
    },
    {
      "cell_type": "markdown",
      "metadata": {
        "id": "YSl_vQk70bCS"
      },
      "source": [
        "**Function to find minimum and maximum values**"
      ]
    },
    {
      "cell_type": "code",
      "execution_count": 40,
      "metadata": {
        "colab": {
          "base_uri": "https://localhost:8080/"
        },
        "id": "TmPZB7tu0a2c",
        "outputId": "d514a39e-0166-49ff-b45a-35b2c4c44ecd"
      },
      "outputs": [
        {
          "output_type": "stream",
          "name": "stdout",
          "text": [
            "[[1 2 3]\n",
            " [4 5 6]\n",
            " [7 8 9]]\n"
          ]
        }
      ],
      "source": [
        "print(matrix9)"
      ]
    },
    {
      "cell_type": "code",
      "execution_count": 41,
      "metadata": {
        "colab": {
          "base_uri": "https://localhost:8080/"
        },
        "id": "394LL_BZ0alr",
        "outputId": "9eddc2f2-beca-45e4-b284-586c43828362"
      },
      "outputs": [
        {
          "output_type": "stream",
          "name": "stdout",
          "text": [
            "Minimum value:  1\n"
          ]
        }
      ],
      "source": [
        "print('Minimum value: ',np.min(matrix9))"
      ]
    },
    {
      "cell_type": "code",
      "execution_count": 42,
      "metadata": {
        "colab": {
          "base_uri": "https://localhost:8080/"
        },
        "id": "SVs2Zx0J0ac3",
        "outputId": "4ad67a04-514f-4cce-97d7-2432626d5ba3"
      },
      "outputs": [
        {
          "output_type": "stream",
          "name": "stdout",
          "text": [
            "Maximum value:  9\n"
          ]
        }
      ],
      "source": [
        "print('Maximum value: ',np.max(matrix9))"
      ]
    },
    {
      "cell_type": "markdown",
      "metadata": {
        "id": "7NNtvTmh0aRf"
      },
      "source": [
        "**Function to generate random samples**"
      ]
    },
    {
      "cell_type": "markdown",
      "metadata": {
        "id": "XO47Cq8L3Gb3"
      },
      "source": [
        "**Using np.random.rand function**\n",
        "\n",
        "* The np.random.rand returns a random NumPy array whose element(s) are drawn randomly from the uniform distribution over [0,1). (including 0 but excluding 1).\n",
        "* **Syntax** - np.random.rand(d0,d1)\n",
        "  * d0,d1 – It represents the dimension of the required array given as int, where d1 is optional."
      ]
    },
    {
      "cell_type": "code",
      "execution_count": 43,
      "metadata": {
        "colab": {
          "base_uri": "https://localhost:8080/"
        },
        "id": "Neq3fBGH4N7F",
        "outputId": "f9df0688-fe3e-4369-d7d0-f5aeee7a1ad0"
      },
      "outputs": [
        {
          "output_type": "stream",
          "name": "stdout",
          "text": [
            "[0.71525375 0.3696061  0.78269507 0.69505709 0.62252667]\n"
          ]
        }
      ],
      "source": [
        "# Generating random values in an array\n",
        "rand_mat = np.random.rand(5)\n",
        "print(rand_mat)"
      ]
    },
    {
      "cell_type": "code",
      "execution_count": 44,
      "metadata": {
        "colab": {
          "base_uri": "https://localhost:8080/"
        },
        "id": "QQHFrAce1570",
        "outputId": "d8e40fa1-699d-430d-de28-fccfef8bd9e4"
      },
      "outputs": [
        {
          "output_type": "stream",
          "name": "stdout",
          "text": [
            "[[0.03891921 0.20068123 0.50589807 0.72701016 0.01451509]\n",
            " [0.26424433 0.70745494 0.51530825 0.26880119 0.07600244]\n",
            " [0.34728755 0.57238067 0.08394086 0.1684161  0.68035085]\n",
            " [0.97202342 0.23111632 0.40034789 0.4358836  0.81454257]\n",
            " [0.94108531 0.0231066  0.71681185 0.40085156 0.34538775]]\n"
          ]
        }
      ],
      "source": [
        "# * Generating random values in a matrix\n",
        "rand_mat = np.random.rand(5,5) # uniform random variable\n",
        "print(rand_mat)"
      ]
    },
    {
      "cell_type": "markdown",
      "metadata": {
        "id": "VvvK-7Sh3PfD"
      },
      "source": [
        "**Using np.random.randn function**\n",
        "\n",
        "* The np.random.randn returns a random numpy array whose sample(s) are drawn randomly from the standard normal distribution (Mean as 0 and standard deviation as 1)\n",
        "\n",
        "* **Syntax** - np.random.randn(d0,d1)\n",
        "  * d0,d1 – It represents the dimension of the output, where d1 is optional."
      ]
    },
    {
      "cell_type": "code",
      "execution_count": 45,
      "metadata": {
        "colab": {
          "base_uri": "https://localhost:8080/"
        },
        "id": "Ll_boKdQ4Y-b",
        "outputId": "b0d900be-628c-47ca-870e-1afe58256190"
      },
      "outputs": [
        {
          "output_type": "stream",
          "name": "stdout",
          "text": [
            "[-0.74009912  0.52601242  0.61839818 -0.80191091  0.31577375]\n"
          ]
        }
      ],
      "source": [
        "# Generating random values in an array\n",
        "rand_mat2 = np.random.randn(5)\n",
        "print(rand_mat2)"
      ]
    },
    {
      "cell_type": "code",
      "execution_count": 48,
      "metadata": {
        "colab": {
          "base_uri": "https://localhost:8080/"
        },
        "id": "1jaiT-oZ2CyD",
        "outputId": "6275d444-b042-4986-8403-cf7454038ca9"
      },
      "outputs": [
        {
          "output_type": "stream",
          "name": "stdout",
          "text": [
            "[[-1.58796562  0.6929772  -0.78829911 ...  1.6286079   0.40814678\n",
            "   1.14829002]\n",
            " [ 0.59848342  1.18252916 -1.45071599 ...  0.31413948 -0.48831048\n",
            "   0.8331378 ]\n",
            " [-0.84026182 -0.29805479  0.85274545 ...  0.53378338  0.56328404\n",
            "  -0.67693667]\n",
            " ...\n",
            " [ 0.14687459  0.69237388 -0.29115173 ...  0.17127929 -0.76304416\n",
            "   0.95164998]\n",
            " [-0.44149767  0.45217447  1.04923831 ...  0.14213757 -0.08584717\n",
            "  -1.34524705]\n",
            " [ 0.45413081 -0.19727993 -2.49059504 ... -0.39353128 -0.01792763\n",
            "   0.62568554]]\n"
          ]
        }
      ],
      "source": [
        "# Generating random values in a matrix\n",
        "rand_mat2 = np.random.randn(500,500)\n",
        "print(rand_mat2)"
      ]
    },
    {
      "cell_type": "code",
      "execution_count": 49,
      "metadata": {
        "colab": {
          "base_uri": "https://localhost:8080/"
        },
        "id": "TldcCrOS5ulV",
        "outputId": "e88c375b-2e97-468d-81cf-167cb4342d4c"
      },
      "outputs": [
        {
          "output_type": "stream",
          "name": "stdout",
          "text": [
            "Mean: -0.001085781378914981\n",
            "Standard Deviation: 1.0007467176926834\n"
          ]
        }
      ],
      "source": [
        "# Let's check the mean and standard deviation of rand_mat2\n",
        "print('Mean:',np.mean(rand_mat2))\n",
        "print('Standard Deviation:',np.std(rand_mat2))"
      ]
    },
    {
      "cell_type": "markdown",
      "metadata": {
        "id": "66BnHAPW6Ere"
      },
      "source": [
        "*  We observe that the mean is very close to 0 and standard deviation is very close to 1."
      ]
    },
    {
      "cell_type": "markdown",
      "metadata": {
        "id": "T_0yFxGh3U2D"
      },
      "source": [
        "**Using np.random.randint function**\n",
        "\n",
        "* The np.random.randint returns a random numpy array whose element(s) are drawn randomly from low (inclusive) to the high (exclusive) range.\n",
        "\n",
        "* **Syntax** - np.random.randint(low, high, size)\n",
        "\n",
        "  * low – It represents the lowest inclusive bound of the distribution from where the sample can be drawn.\n",
        "  * high – It represents the upper exclusive bound of the distribution from where the sample can be drawn.\n",
        "  * size – It represents the shape of the output."
      ]
    },
    {
      "cell_type": "code",
      "execution_count": 50,
      "metadata": {
        "colab": {
          "base_uri": "https://localhost:8080/"
        },
        "id": "vLPM7a0N2EHA",
        "outputId": "68c9b2da-9014-4aad-ef36-504ba938c9fa"
      },
      "outputs": [
        {
          "output_type": "stream",
          "name": "stdout",
          "text": [
            "[2 2 3 4 4 3 2 1 2 4]\n"
          ]
        }
      ],
      "source": [
        "# Generating random values in an array\n",
        "rand_mat3 = np.random.randint(1,5,10)\n",
        "print(rand_mat3)"
      ]
    },
    {
      "cell_type": "code",
      "execution_count": 51,
      "metadata": {
        "colab": {
          "base_uri": "https://localhost:8080/"
        },
        "id": "u9YqKltk486n",
        "outputId": "cf601479-3129-4861-804e-5fdc445fc06f"
      },
      "outputs": [
        {
          "output_type": "stream",
          "name": "stdout",
          "text": [
            "[[8 9 6 3 5]\n",
            " [3 7 8 5 3]\n",
            " [7 4 2 8 8]\n",
            " [1 9 7 9 4]\n",
            " [8 9 7 4 7]]\n"
          ]
        }
      ],
      "source": [
        "# Generating random values in a matrix\n",
        "rand_mat3 = np.random.randint(1,10,[5,5])\n",
        "print(rand_mat3)"
      ]
    },
    {
      "cell_type": "markdown",
      "metadata": {
        "id": "J-K_ecWJ6M6n"
      },
      "source": [
        "### 2.3 Accessing the entries of a Numpy Array"
      ]
    },
    {
      "cell_type": "code",
      "execution_count": 52,
      "metadata": {
        "colab": {
          "base_uri": "https://localhost:8080/"
        },
        "id": "4Tiy6KJw3a5A",
        "outputId": "3bb97b47-337e-4f63-844a-bebb3f8edf0b"
      },
      "outputs": [
        {
          "output_type": "stream",
          "name": "stdout",
          "text": [
            "[ 0.0541112  -0.93100103 -1.25470322 -0.70664153 -0.16780983 -0.21389553\n",
            "  0.56682038  0.20041157 -0.6655887   1.89207374]\n"
          ]
        }
      ],
      "source": [
        "# let's generate an array with 10 random values\n",
        "rand_arr = np.random.randn(10)\n",
        "print(rand_arr)"
      ]
    },
    {
      "cell_type": "markdown",
      "metadata": {
        "id": "gJlNtFKwaZUv"
      },
      "source": [
        "* Accessing one element from an array"
      ]
    },
    {
      "cell_type": "code",
      "execution_count": 53,
      "metadata": {
        "colab": {
          "base_uri": "https://localhost:8080/"
        },
        "id": "PtSqbI-Y3awc",
        "outputId": "936846ea-8ef0-4ee9-e39d-b7000315576c"
      },
      "outputs": [
        {
          "output_type": "stream",
          "name": "stdout",
          "text": [
            "0.5668203806936317\n"
          ]
        }
      ],
      "source": [
        "# accessing the 6 th entry of rand_arr\n",
        "print(rand_arr[6])"
      ]
    },
    {
      "cell_type": "markdown",
      "metadata": {
        "id": "Ywt2eQx-aZUv"
      },
      "source": [
        "* Accessing multiple elements from an array"
      ]
    },
    {
      "cell_type": "code",
      "execution_count": 54,
      "metadata": {
        "colab": {
          "base_uri": "https://localhost:8080/"
        },
        "id": "HZ8Yb_3h3amG",
        "outputId": "a24bf5d0-d2fc-4bd6-ed4c-6816a4b84671"
      },
      "outputs": [
        {
          "output_type": "stream",
          "name": "stdout",
          "text": [
            "[-0.16780983 -0.21389553  0.56682038  0.20041157 -0.6655887 ]\n"
          ]
        }
      ],
      "source": [
        "# we can access multiple entries at once using\n",
        "print(rand_arr[4:9])"
      ]
    },
    {
      "cell_type": "code",
      "execution_count": 55,
      "metadata": {
        "colab": {
          "base_uri": "https://localhost:8080/"
        },
        "id": "pNcRsFbK3aZP",
        "outputId": "30ffea3a-2dcb-4aa2-fc8e-ba906b7d5ac2"
      },
      "outputs": [
        {
          "output_type": "stream",
          "name": "stdout",
          "text": [
            "Index of values to access:  [3 6 9]\n",
            "[-0.70664153  0.56682038  1.89207374]\n"
          ]
        }
      ],
      "source": [
        "# we can also access multiple non-consecutive entries using np.arange\n",
        "print('Index of values to access: ',np.arange(3,10,3))\n",
        "print(rand_arr[np.arange(3,10,3)])"
      ]
    },
    {
      "cell_type": "markdown",
      "metadata": {
        "id": "m0_dOkPKc7bL"
      },
      "source": [
        "**Accessing arrays using logical operations**"
      ]
    },
    {
      "cell_type": "code",
      "execution_count": 56,
      "metadata": {
        "colab": {
          "base_uri": "https://localhost:8080/"
        },
        "id": "_8v77EwOcwPM",
        "outputId": "387c7755-c2c9-4061-f36d-a4617b3278a0"
      },
      "outputs": [
        {
          "output_type": "stream",
          "name": "stdout",
          "text": [
            "[ 0.0541112  -0.93100103 -1.25470322 -0.70664153 -0.16780983 -0.21389553\n",
            "  0.56682038  0.20041157 -0.6655887   1.89207374]\n"
          ]
        }
      ],
      "source": [
        "print(rand_arr)"
      ]
    },
    {
      "cell_type": "code",
      "execution_count": 57,
      "metadata": {
        "colab": {
          "base_uri": "https://localhost:8080/"
        },
        "id": "u7QvbkGfc_Mf",
        "outputId": "9bae949f-8fcd-41c8-b83f-47b01f9a9dfd"
      },
      "outputs": [
        {
          "output_type": "execute_result",
          "data": {
            "text/plain": [
              "array([ True, False, False, False, False, False,  True,  True, False,\n",
              "        True])"
            ]
          },
          "metadata": {},
          "execution_count": 57
        }
      ],
      "source": [
        "rand_arr>0"
      ]
    },
    {
      "cell_type": "code",
      "execution_count": 58,
      "metadata": {
        "colab": {
          "base_uri": "https://localhost:8080/"
        },
        "id": "PwjFRjDiczAS",
        "outputId": "f1596896-28b2-44a4-d75f-e1b4fb3ef9f9"
      },
      "outputs": [
        {
          "output_type": "stream",
          "name": "stdout",
          "text": [
            "Values greater than 0:  [0.0541112  0.56682038 0.20041157 1.89207374]\n",
            "Values less than 0:  [-0.93100103 -1.25470322 -0.70664153 -0.16780983 -0.21389553 -0.6655887 ]\n"
          ]
        }
      ],
      "source": [
        "# accessing all the values of rand_arr which are greater than 0\n",
        "print('Values greater than 0: ',rand_arr[rand_arr>0])\n",
        "\n",
        "# accessing all the values of rand_arr which are less than 0\n",
        "print('Values less than 0: ',rand_arr[rand_arr<0])"
      ]
    },
    {
      "cell_type": "markdown",
      "metadata": {
        "id": "9j2nb_lX3aKJ"
      },
      "source": [
        "**Accessing the entries of a Matrix**"
      ]
    },
    {
      "cell_type": "code",
      "execution_count": 59,
      "metadata": {
        "colab": {
          "base_uri": "https://localhost:8080/"
        },
        "id": "rUT3MtuX3Z-o",
        "outputId": "38ef98e4-88fe-4913-fdc4-b7c5ccedfc90"
      },
      "outputs": [
        {
          "output_type": "stream",
          "name": "stdout",
          "text": [
            "[[ 0.7365679   1.20572771 -0.27417193  0.55128836  0.50145368]\n",
            " [ 1.44796851  0.48928197  1.10322374  0.7870271   0.6523692 ]\n",
            " [ 1.50274112  1.39908491 -0.92526491  1.654326   -0.04793924]\n",
            " [ 0.23829683  0.30965627  0.92115839 -2.55232906  1.39855443]\n",
            " [-0.33854558 -0.11921457  0.84890047  0.4577689   0.48801832]]\n"
          ]
        }
      ],
      "source": [
        "# let's generate an array with 10 random values\n",
        "rand_mat = np.random.randn(5,5)\n",
        "print(rand_mat)"
      ]
    },
    {
      "cell_type": "code",
      "execution_count": null,
      "metadata": {
        "colab": {
          "base_uri": "https://localhost:8080/"
        },
        "id": "aH5KNWYJ8AAi",
        "outputId": "95dddd73-7b44-441f-f1ca-9ef4bdbe517f"
      },
      "outputs": [
        {
          "data": {
            "text/plain": [
              "array([ 0.68692112,  1.20042327, -0.55648032,  0.51675983, -1.13325252])"
            ]
          },
          "execution_count": 51,
          "metadata": {},
          "output_type": "execute_result"
        }
      ],
      "source": [
        "# acessing the second row of the rand_mat\n",
        "rand_mat[1]"
      ]
    },
    {
      "cell_type": "code",
      "execution_count": null,
      "metadata": {
        "colab": {
          "base_uri": "https://localhost:8080/"
        },
        "id": "cKPauEeS3Zya",
        "outputId": "87ba94bb-f7ea-41f9-ee96-94bb03582dbd"
      },
      "outputs": [
        {
          "name": "stdout",
          "output_type": "stream",
          "text": [
            "-0.5564803167132045\n",
            "-0.5564803167132045\n"
          ]
        }
      ],
      "source": [
        "# acessing third element of the second row\n",
        "print(rand_mat[1][2])\n",
        "\n",
        "#or\n",
        "\n",
        "print(rand_mat[1,2])"
      ]
    },
    {
      "cell_type": "code",
      "execution_count": null,
      "metadata": {
        "colab": {
          "base_uri": "https://localhost:8080/"
        },
        "id": "md90xMiX3ZhX",
        "outputId": "d9b022f4-9775-4033-ce20-de29677fffc1"
      },
      "outputs": [
        {
          "name": "stdout",
          "output_type": "stream",
          "text": [
            "[[-0.91860835 -0.91768744]\n",
            " [ 1.20042327 -0.55648032]]\n"
          ]
        }
      ],
      "source": [
        "# accessing first two rows with second and third column\n",
        "print(rand_mat[0:2,1:3])"
      ]
    },
    {
      "cell_type": "markdown",
      "metadata": {
        "id": "ZQIPaCTxdTkx"
      },
      "source": [
        "**Accessing matrices using logical operations**"
      ]
    },
    {
      "cell_type": "code",
      "execution_count": null,
      "metadata": {
        "colab": {
          "base_uri": "https://localhost:8080/"
        },
        "id": "FPWAgqcMdTkx",
        "outputId": "22130ab2-c84a-48b3-dd19-2ce235cb1bb8"
      },
      "outputs": [
        {
          "name": "stdout",
          "output_type": "stream",
          "text": [
            "[[ 0.66008467 -0.91860835 -0.91768744 -0.56565779 -0.19013084]\n",
            " [ 0.68692112  1.20042327 -0.55648032  0.51675983 -1.13325252]\n",
            " [ 1.76883638 -0.85498119  1.89998922 -1.0658905   1.50531893]\n",
            " [ 0.77388464 -1.24206763  0.75631041  1.01940576  0.89747448]\n",
            " [ 0.37852758 -1.36846366 -0.91566544 -0.47943544 -0.20226054]]\n"
          ]
        }
      ],
      "source": [
        "print(rand_mat)"
      ]
    },
    {
      "cell_type": "code",
      "execution_count": null,
      "metadata": {
        "colab": {
          "base_uri": "https://localhost:8080/"
        },
        "id": "5pBwxeo_dTky",
        "outputId": "ba0e5fe5-db2b-4f98-d6b6-125f8516c493"
      },
      "outputs": [
        {
          "name": "stdout",
          "output_type": "stream",
          "text": [
            "Values greater than 0: \n",
            "  [0.66008467 0.68692112 1.20042327 0.51675983 1.76883638 1.89998922\n",
            " 1.50531893 0.77388464 0.75631041 1.01940576 0.89747448 0.37852758]\n",
            "Values less than 0: \n",
            " [-0.91860835 -0.91768744 -0.56565779 -0.19013084 -0.55648032 -1.13325252\n",
            " -0.85498119 -1.0658905  -1.24206763 -1.36846366 -0.91566544 -0.47943544\n",
            " -0.20226054]\n"
          ]
        }
      ],
      "source": [
        "# accessing all the values of rand_mat which are greater than 0\n",
        "print('Values greater than 0: \\n ',rand_mat[rand_mat>0])\n",
        "\n",
        "# accessing all the values of rand_mat which are less than 0\n",
        "print('Values less than 0: \\n',rand_mat[rand_mat<0])"
      ]
    },
    {
      "cell_type": "markdown",
      "metadata": {
        "id": "Rbc_yo5T8mmS"
      },
      "source": [
        "**Modifying the entries of an Array**"
      ]
    },
    {
      "cell_type": "code",
      "execution_count": null,
      "metadata": {
        "colab": {
          "base_uri": "https://localhost:8080/"
        },
        "id": "2P57NUFJ8mMA",
        "outputId": "4c6f5d19-95d7-4ccc-ff28-fe76e18228d7"
      },
      "outputs": [
        {
          "name": "stdout",
          "output_type": "stream",
          "text": [
            "[-0.61610084  0.256255   -1.02474372  1.69663775  0.14830608  0.0587465\n",
            " -0.58451129  0.09827507  1.38926594  0.52114238]\n"
          ]
        }
      ],
      "source": [
        "print(rand_arr)"
      ]
    },
    {
      "cell_type": "code",
      "execution_count": null,
      "metadata": {
        "colab": {
          "base_uri": "https://localhost:8080/"
        },
        "id": "5dTfDf2d-DF7",
        "outputId": "c9f149ef-4463-401e-cb3d-fd6df3f1c404"
      },
      "outputs": [
        {
          "name": "stdout",
          "output_type": "stream",
          "text": [
            "[-0.61610084  0.256255   -1.02474372  5.          5.          0.0587465\n",
            " -0.58451129  0.09827507  1.38926594  0.52114238]\n"
          ]
        }
      ],
      "source": [
        "# let's change some values in an array!\n",
        "# changing the values of index value 3 and index value 4 to 5\n",
        "rand_arr[3:5] = 5\n",
        "print(rand_arr)"
      ]
    },
    {
      "cell_type": "code",
      "execution_count": null,
      "metadata": {
        "colab": {
          "base_uri": "https://localhost:8080/"
        },
        "id": "dC1yVJLT-H9H",
        "outputId": "cac466b1-e851-46d3-d939-e8071ad058e7"
      },
      "outputs": [
        {
          "name": "stdout",
          "output_type": "stream",
          "text": [
            "[ 2.          3.         -1.02474372  5.          5.          0.0587465\n",
            " -0.58451129  0.09827507  1.38926594  0.52114238]\n"
          ]
        }
      ],
      "source": [
        "# changing the values of index value 0 and index value 1 to 2 and 3 respectively\n",
        "rand_arr[0:2] = [2,3]\n",
        "print(rand_arr)"
      ]
    },
    {
      "cell_type": "code",
      "execution_count": null,
      "metadata": {
        "colab": {
          "base_uri": "https://localhost:8080/"
        },
        "id": "wT3ishttMugE",
        "outputId": "0201c43a-03b1-489b-ff70-dae97a8c0557"
      },
      "outputs": [
        {
          "data": {
            "text/plain": [
              "array([65.        , 65.        , -1.02474372, 65.        , 65.        ,\n",
              "       65.        , -0.58451129, 65.        , 65.        , 65.        ])"
            ]
          },
          "execution_count": 59,
          "metadata": {},
          "output_type": "execute_result"
        }
      ],
      "source": [
        "# modify entries using logical references\n",
        "rand_arr[rand_arr>0] = 65\n",
        "rand_arr"
      ]
    },
    {
      "cell_type": "markdown",
      "metadata": {
        "id": "lhoMit_Da8F4"
      },
      "source": [
        "**Modifying the entries of a Matrix**"
      ]
    },
    {
      "cell_type": "code",
      "execution_count": 60,
      "metadata": {
        "colab": {
          "base_uri": "https://localhost:8080/"
        },
        "id": "fJ02uz8obsqC",
        "outputId": "00e1b84b-3fa5-49bb-c465-5d008c26ab13"
      },
      "outputs": [
        {
          "output_type": "stream",
          "name": "stdout",
          "text": [
            "[[8 9 6 3 5]\n",
            " [3 7 8 5 3]\n",
            " [7 4 2 8 8]\n",
            " [1 9 7 9 4]\n",
            " [8 9 7 4 7]]\n"
          ]
        }
      ],
      "source": [
        "print(rand_mat3)"
      ]
    },
    {
      "cell_type": "code",
      "execution_count": 61,
      "metadata": {
        "colab": {
          "base_uri": "https://localhost:8080/"
        },
        "id": "dVNbm4oKNtkr",
        "outputId": "b4e7de2b-9f78-4e4a-8b19-8f71faa55b55"
      },
      "outputs": [
        {
          "output_type": "stream",
          "name": "stdout",
          "text": [
            "Matrix before modification: \n",
            " [[8 9 6 3 5]\n",
            " [3 7 8 5 3]\n",
            " [7 4 2 8 8]\n",
            " [1 9 7 9 4]\n",
            " [8 9 7 4 7]]\n",
            "Matrix after modification: \n",
            " [[8 9 6 3 5]\n",
            " [3 7 8 0 0]\n",
            " [7 4 2 0 0]\n",
            " [1 9 7 9 4]\n",
            " [8 9 7 4 7]]\n"
          ]
        }
      ],
      "source": [
        "# changing the values of the 4th and 5th element of the second and third rows of the matrix to 0\n",
        "print('Matrix before modification: \\n',rand_mat3)\n",
        "rand_mat3[1:3,3:5] = 0\n",
        "print('Matrix after modification: \\n',rand_mat3)"
      ]
    },
    {
      "cell_type": "code",
      "execution_count": 62,
      "metadata": {
        "colab": {
          "base_uri": "https://localhost:8080/"
        },
        "id": "uP3butowNtvp",
        "outputId": "2f40fe7a-99cd-4667-a5b5-be167e4bbd65"
      },
      "outputs": [
        {
          "output_type": "stream",
          "name": "stdout",
          "text": [
            "[[ 0.7365679   1.20572771 -0.27417193]\n",
            " [ 1.44796851  0.48928197  1.10322374]]\n"
          ]
        }
      ],
      "source": [
        "# extracting the first 2 rows and first 3 columns from the matrix\n",
        "sub_mat = rand_mat[0:2,0:3]\n",
        "print(sub_mat)"
      ]
    },
    {
      "cell_type": "code",
      "execution_count": 63,
      "metadata": {
        "colab": {
          "base_uri": "https://localhost:8080/"
        },
        "id": "3DgctOvENt14",
        "outputId": "ee47c23c-381c-43e0-dbc4-bde744ff04f4"
      },
      "outputs": [
        {
          "output_type": "stream",
          "name": "stdout",
          "text": [
            "[[3. 3. 3.]\n",
            " [3. 3. 3.]]\n"
          ]
        }
      ],
      "source": [
        "# changing all the values of the extracted matrix to 3\n",
        "sub_mat[:] = 3\n",
        "print(sub_mat)"
      ]
    },
    {
      "cell_type": "code",
      "execution_count": null,
      "metadata": {
        "colab": {
          "base_uri": "https://localhost:8080/"
        },
        "id": "hskgV9vG9lxx",
        "outputId": "ec90a56c-2f27-485e-e7b4-ef3a82b942a2"
      },
      "outputs": [
        {
          "data": {
            "text/plain": [
              "array([[ 3.        ,  3.        ,  3.        , -0.56565779, -0.19013084],\n",
              "       [ 3.        ,  3.        ,  3.        ,  0.51675983, -1.13325252],\n",
              "       [ 1.76883638, -0.85498119,  1.89998922, -1.0658905 ,  1.50531893],\n",
              "       [ 0.77388464, -1.24206763,  0.75631041,  1.01940576,  0.89747448],\n",
              "       [ 0.37852758, -1.36846366, -0.91566544, -0.47943544, -0.20226054]])"
            ]
          },
          "execution_count": 64,
          "metadata": {},
          "output_type": "execute_result"
        }
      ],
      "source": [
        "# what happened to rand_mat when we change sub_mat?\n",
        "rand_mat"
      ]
    },
    {
      "cell_type": "code",
      "execution_count": 64,
      "metadata": {
        "colab": {
          "base_uri": "https://localhost:8080/"
        },
        "id": "PryCb2h29sHx",
        "outputId": "8811126a-cec0-4775-8ca3-009c2451ed43"
      },
      "outputs": [
        {
          "output_type": "stream",
          "name": "stdout",
          "text": [
            "[[-0.45342124  0.44329407  0.61521361  0.29811461 -1.5060954 ]\n",
            " [ 0.46593571  0.43362975 -0.07393443 -0.25060543 -0.31965387]\n",
            " [ 0.25010803  0.30862983  0.95581027 -1.69665493 -0.41485968]\n",
            " [-1.51065554 -1.11450724 -2.128474   -0.33081207 -0.31801889]\n",
            " [ 0.7593488  -0.12237914  1.04246493 -0.39944956  1.09129567]]\n",
            "[[3. 3. 3.]\n",
            " [3. 3. 3.]]\n",
            "[[-0.45342124  0.44329407  0.61521361  0.29811461 -1.5060954 ]\n",
            " [ 0.46593571  0.43362975 -0.07393443 -0.25060543 -0.31965387]\n",
            " [ 0.25010803  0.30862983  0.95581027 -1.69665493 -0.41485968]\n",
            " [-1.51065554 -1.11450724 -2.128474   -0.33081207 -0.31801889]\n",
            " [ 0.7593488  -0.12237914  1.04246493 -0.39944956  1.09129567]]\n"
          ]
        }
      ],
      "source": [
        "# to prevent this behavior we need to use the .copy() method when we assign sub_mat\n",
        "# this behavior is the source of MANY errors for early python users!!!\n",
        "\n",
        "rand_mat = np.random.randn(5,5)\n",
        "print(rand_mat)\n",
        "sub_mat = rand_mat[0:2,0:3].copy()\n",
        "sub_mat[:] = 3\n",
        "print(sub_mat)\n",
        "print(rand_mat)"
      ]
    },
    {
      "cell_type": "markdown",
      "metadata": {
        "id": "Uhy7xJlW0aDT"
      },
      "source": [
        "### 2.4 Saving and Loading a NumPy array"
      ]
    },
    {
      "cell_type": "markdown",
      "metadata": {
        "id": "qlyONcw5FeSh"
      },
      "source": [
        "**Let's save some NumPy objects on the disk for use later!**"
      ]
    },
    {
      "cell_type": "code",
      "execution_count": 65,
      "metadata": {
        "colab": {
          "base_uri": "https://localhost:8080/"
        },
        "id": "gikqL10PzrC1",
        "outputId": "07ea057d-d6ba-49c7-f664-7434d9186888"
      },
      "outputs": [
        {
          "output_type": "stream",
          "name": "stdout",
          "text": [
            "Mounted at /content/drive\n"
          ]
        }
      ],
      "source": [
        "from google.colab import drive\n",
        "drive.mount('/content/drive')"
      ]
    },
    {
      "cell_type": "code",
      "execution_count": 66,
      "metadata": {
        "colab": {
          "base_uri": "https://localhost:8080/"
        },
        "id": "G_w4dYUtFzZO",
        "outputId": "e7b58e17-55cb-4d01-b7bd-7e8a71641127"
      },
      "outputs": [
        {
          "output_type": "stream",
          "name": "stdout",
          "text": [
            "[[9 7 3 4 6]\n",
            " [8 4 3 3 4]]\n",
            "\n",
            "[[16 19 15 19 19]\n",
            " [10 16 10 10 12]]\n"
          ]
        }
      ],
      "source": [
        "# creating a random matrices\n",
        "randint_matrix1 = np.random.randint(1,10,10).reshape(2,5)\n",
        "print(randint_matrix1)\n",
        "print('')\n",
        "randint_matrix2 = np.random.randint(10,20,10).reshape(2,5)\n",
        "print(randint_matrix2)"
      ]
    },
    {
      "cell_type": "markdown",
      "metadata": {
        "id": "rysUk_pSFU1O"
      },
      "source": [
        "**Using np.save() function**"
      ]
    },
    {
      "cell_type": "code",
      "execution_count": 67,
      "metadata": {
        "id": "k9TyLFJ-tkU2"
      },
      "outputs": [],
      "source": [
        "np.save('/content/drive/MyDrive/Python Course/saved_file_name',randint_matrix1)"
      ]
    },
    {
      "cell_type": "markdown",
      "metadata": {
        "id": "VMfbQlc2FYNl"
      },
      "source": [
        "**Using np.savez() function**"
      ]
    },
    {
      "cell_type": "code",
      "execution_count": 68,
      "metadata": {
        "id": "dhtVPefIRfGP"
      },
      "outputs": [],
      "source": [
        "np.savez('/content/drive/MyDrive/Python Course/multiple_files',randint_matrix1=randint_matrix1,randint_matrix2=randint_matrix2)"
      ]
    },
    {
      "cell_type": "markdown",
      "metadata": {
        "id": "hDbZNqdLDj35"
      },
      "source": [
        "* The files will be saved in the directory where the Jupyter Notebook is located.\n",
        "* With np.save() function, we can save an array/matrix to a NumPy .npy format.\n",
        "* np.savez() function has an advantage over np.save() function because with np.savez(), we can store several arrays/matrices into a single file in uncompressed .npz format."
      ]
    },
    {
      "cell_type": "code",
      "execution_count": 69,
      "metadata": {
        "id": "h7mYd86cZeTq",
        "colab": {
          "base_uri": "https://localhost:8080/"
        },
        "outputId": "02c25718-c0c3-4d69-bd98-e1d03ce2edf3"
      },
      "outputs": [
        {
          "output_type": "stream",
          "name": "stdout",
          "text": [
            "[[9 7 3 4 6]\n",
            " [8 4 3 3 4]]\n",
            "\n",
            "NpzFile '/content/drive/MyDrive/Python Course/multiple_files.npz' with keys: randint_matrix1, randint_matrix2\n"
          ]
        }
      ],
      "source": [
        "# now let's load it\n",
        "loaded_arr = np.load('/content/drive/MyDrive/Python Course/saved_file_name.npy')\n",
        "loaded_multi = np.load('/content/drive/MyDrive/Python Course/multiple_files.npz')\n",
        "\n",
        "print(loaded_arr)\n",
        "print('')\n",
        "print(loaded_multi)"
      ]
    },
    {
      "cell_type": "markdown",
      "metadata": {
        "id": "21XxghDDG69T"
      },
      "source": [
        "* We see that .npy file has been loaded but the .npz file is returning a memory location.\n",
        "* Let's see how to load the values stored in .npz file."
      ]
    },
    {
      "cell_type": "code",
      "execution_count": 70,
      "metadata": {
        "id": "VezEM4uPZeZk",
        "colab": {
          "base_uri": "https://localhost:8080/"
        },
        "outputId": "926b5a69-8f32-46d3-98c5-978e80b14609"
      },
      "outputs": [
        {
          "output_type": "stream",
          "name": "stdout",
          "text": [
            "1st Matrix: \n",
            " [[9 7 3 4 6]\n",
            " [8 4 3 3 4]]\n",
            "2nd Matrix: \n",
            " [[16 19 15 19 19]\n",
            " [10 16 10 10 12]]\n",
            "New Matrix: \n",
            " [[9 7 3 4 6]\n",
            " [8 4 3 3 4]]\n"
          ]
        }
      ],
      "source": [
        "print('1st Matrix: \\n',loaded_multi['randint_matrix1'])\n",
        "print('2nd Matrix: \\n',loaded_multi['randint_matrix2'])\n",
        "\n",
        "new_matrix  = loaded_multi['randint_matrix1']\n",
        "print('New Matrix: \\n',new_matrix)"
      ]
    },
    {
      "cell_type": "code",
      "execution_count": 71,
      "metadata": {
        "id": "AyyZjATxZefd",
        "colab": {
          "base_uri": "https://localhost:8080/"
        },
        "outputId": "50fc5f11-917d-4b14-c158-c77f5243e73f"
      },
      "outputs": [
        {
          "output_type": "stream",
          "name": "stdout",
          "text": [
            "[[9 7 3 4 6]\n",
            " [8 4 3 3 4]]\n",
            "\n",
            "[[9. 7. 3. 4. 6.]\n",
            " [8. 4. 3. 3. 4.]]\n"
          ]
        }
      ],
      "source": [
        "# we can also save/load text files...but only single variables\n",
        "np.savetxt('/content/drive/MyDrive/Python Course/text_file_name.txt',randint_matrix1,delimiter=',')\n",
        "rand_mat_txt = np.loadtxt('/content/drive/MyDrive/Python Course/text_file_name.txt',delimiter=',')\n",
        "print(randint_matrix1)\n",
        "print('')\n",
        "print(rand_mat_txt)"
      ]
    },
    {
      "cell_type": "code",
      "execution_count": null,
      "metadata": {
        "id": "WiTOg-jNzE82"
      },
      "outputs": [],
      "source": []
    }
  ],
  "metadata": {
    "colab": {
      "name": "Hands-on Notebook-NumPy.ipynb",
      "provenance": []
    },
    "kernelspec": {
      "display_name": "Python 3 (ipykernel)",
      "language": "python",
      "name": "python3"
    },
    "language_info": {
      "codemirror_mode": {
        "name": "ipython",
        "version": 3
      },
      "file_extension": ".py",
      "mimetype": "text/x-python",
      "name": "python",
      "nbconvert_exporter": "python",
      "pygments_lexer": "ipython3",
      "version": "3.9.13"
    }
  },
  "nbformat": 4,
  "nbformat_minor": 0
}