{
  "cells": [
    {
      "cell_type": "markdown",
      "metadata": {
        "id": "HnAlaR5Y2rc8"
      },
      "source": [
        "# Project Foundations for Data Science: FoodHub Data Analysis\n",
        "\n",
        "**Marks: 60 points**"
      ]
    },
    {
      "cell_type": "code",
      "source": [
        "from google.colab import drive\n",
        "drive.mount('/content/drive')"
      ],
      "metadata": {
        "colab": {
          "base_uri": "https://localhost:8080/"
        },
        "id": "yBuT2wE-iwb_",
        "outputId": "e2b65df5-71a9-4a49-e025-2676308c13a9"
      },
      "execution_count": 1,
      "outputs": [
        {
          "output_type": "stream",
          "name": "stdout",
          "text": [
            "Mounted at /content/drive\n"
          ]
        }
      ]
    },
    {
      "cell_type": "code",
      "source": [],
      "metadata": {
        "id": "DxL9FWDrkUoU"
      },
      "execution_count": null,
      "outputs": []
    },
    {
      "cell_type": "markdown",
      "metadata": {
        "id": "N0e9ilAx2rc_"
      },
      "source": [
        "### Context\n",
        "\n",
        "The number of restaurants in New York is increasing day by day. Lots of students and busy professionals rely on those restaurants due to their hectic lifestyles. Online food delivery service is a great option for them. It provides them with good food from their favorite restaurants. A food aggregator company FoodHub offers access to multiple restaurants through a single smartphone app.\n",
        "\n",
        "The app allows the restaurants to receive a direct online order from a customer. The app assigns a delivery person from the company to pick up the order after it is confirmed by the restaurant. The delivery person then uses the map to reach the restaurant and waits for the food package. Once the food package is handed over to the delivery person, he/she confirms the pick-up in the app and travels to the customer's location to deliver the food. The delivery person confirms the drop-off in the app after delivering the food package to the customer. The customer can rate the order in the app. The food aggregator earns money by collecting a fixed margin of the delivery order from the restaurants.\n",
        "\n",
        "### Objective\n",
        "\n",
        "The food aggregator company has stored the data of the different orders made by the registered customers in their online portal. They want to analyze the data to get a fair idea about the demand of different restaurants which will help them in enhancing their customer experience. Suppose you are a Data Scientist at Foodhub and the Data Science team has shared some of the key questions that need to be answered. Perform the data analysis to find answers to these questions that will help the company to improve the business.\n",
        "\n",
        "### Data Description\n",
        "\n",
        "The data contains the different data related to a food order. The detailed data dictionary is given below.\n",
        "\n",
        "### Data Dictionary\n",
        "\n",
        "* order_id: Unique ID of the order\n",
        "* customer_id: ID of the customer who ordered the food\n",
        "* restaurant_name: Name of the restaurant\n",
        "* cuisine_type: Cuisine ordered by the customer\n",
        "* cost_of_the_order: Cost of the order\n",
        "* day_of_the_week: Indicates whether the order is placed on a weekday or weekend (The weekday is from Monday to Friday and the weekend is Saturday and Sunday)\n",
        "* rating: Rating given by the customer out of 5\n",
        "* food_preparation_time: Time (in minutes) taken by the restaurant to prepare the food. This is calculated by taking the difference between the timestamps of the restaurant's order confirmation and the delivery person's pick-up confirmation.\n",
        "* delivery_time: Time (in minutes) taken by the delivery person to deliver the food package. This is calculated by taking the difference between the timestamps of the delivery person's pick-up confirmation and drop-off information"
      ]
    },
    {
      "cell_type": "markdown",
      "metadata": {
        "id": "Ruz2EiJ32rdB"
      },
      "source": [
        "### **Please read the instructions carefully before starting the project.**\n",
        "This is a commented Jupyter IPython Notebook file in which all the instructions and tasks to be performed are mentioned. Read along carefully to complete the project.\n",
        "* Blanks '_______' are provided in the notebook that\n",
        "needs to be filled with an appropriate code to get the correct result. Please replace the blank with the right code snippet. With every '_______' blank, there is a comment that briefly describes what needs to be filled in the blank space.\n",
        "* Identify the task to be performed correctly, and only then proceed to write the required code.\n",
        "* Fill the code wherever asked by the commented lines like \"# write your code here\" or \"# complete the code\". Running incomplete code may throw an error.\n",
        "* Please run the codes in a sequential manner from the beginning to avoid any unnecessary errors.\n",
        "* You can the results/observations derived from the analysis here and use them to create your final report."
      ]
    },
    {
      "cell_type": "markdown",
      "metadata": {
        "id": "enOodKS42rdB"
      },
      "source": [
        "### Let us start by importing the required libraries"
      ]
    },
    {
      "cell_type": "code",
      "execution_count": 2,
      "metadata": {
        "id": "p7FpluTK2rdC"
      },
      "outputs": [],
      "source": [
        "# Import libraries for data manipulation\n",
        "import numpy as np\n",
        "import pandas as pd\n",
        "\n",
        "# Import libraries for data visualization\n",
        "import matplotlib.pyplot as plt\n",
        "import seaborn as sns"
      ]
    },
    {
      "cell_type": "markdown",
      "metadata": {
        "id": "LHxIYWXP2rdD"
      },
      "source": [
        "### Understanding the structure of the data"
      ]
    },
    {
      "cell_type": "code",
      "execution_count": 4,
      "metadata": {
        "id": "nwlzFr-_2rdD",
        "scrolled": true,
        "colab": {
          "base_uri": "https://localhost:8080/",
          "height": 278
        },
        "outputId": "a9fa0e45-9da5-43f5-92e0-c42a47a7766e"
      },
      "outputs": [
        {
          "output_type": "execute_result",
          "data": {
            "text/plain": [
              "   order_id  customer_id            restaurant_name cuisine_type  \\\n",
              "0   1477147       337525                    Hangawi       Korean   \n",
              "1   1477685       358141  Blue Ribbon Sushi Izakaya     Japanese   \n",
              "2   1477070        66393                Cafe Habana      Mexican   \n",
              "3   1477334       106968  Blue Ribbon Fried Chicken     American   \n",
              "4   1478249        76942           Dirty Bird to Go     American   \n",
              "\n",
              "   cost_of_the_order day_of_the_week     rating  food_preparation_time  \\\n",
              "0              30.75         Weekend  Not given                     25   \n",
              "1              12.08         Weekend  Not given                     25   \n",
              "2              12.23         Weekday          5                     23   \n",
              "3              29.20         Weekend          3                     25   \n",
              "4              11.59         Weekday          4                     25   \n",
              "\n",
              "   delivery_time  \n",
              "0             20  \n",
              "1             23  \n",
              "2             28  \n",
              "3             15  \n",
              "4             24  "
            ],
            "text/html": [
              "\n",
              "  <div id=\"df-a8b237f4-0e0e-4ede-a8d0-e8451cbaaed2\" class=\"colab-df-container\">\n",
              "    <div>\n",
              "<style scoped>\n",
              "    .dataframe tbody tr th:only-of-type {\n",
              "        vertical-align: middle;\n",
              "    }\n",
              "\n",
              "    .dataframe tbody tr th {\n",
              "        vertical-align: top;\n",
              "    }\n",
              "\n",
              "    .dataframe thead th {\n",
              "        text-align: right;\n",
              "    }\n",
              "</style>\n",
              "<table border=\"1\" class=\"dataframe\">\n",
              "  <thead>\n",
              "    <tr style=\"text-align: right;\">\n",
              "      <th></th>\n",
              "      <th>order_id</th>\n",
              "      <th>customer_id</th>\n",
              "      <th>restaurant_name</th>\n",
              "      <th>cuisine_type</th>\n",
              "      <th>cost_of_the_order</th>\n",
              "      <th>day_of_the_week</th>\n",
              "      <th>rating</th>\n",
              "      <th>food_preparation_time</th>\n",
              "      <th>delivery_time</th>\n",
              "    </tr>\n",
              "  </thead>\n",
              "  <tbody>\n",
              "    <tr>\n",
              "      <th>0</th>\n",
              "      <td>1477147</td>\n",
              "      <td>337525</td>\n",
              "      <td>Hangawi</td>\n",
              "      <td>Korean</td>\n",
              "      <td>30.75</td>\n",
              "      <td>Weekend</td>\n",
              "      <td>Not given</td>\n",
              "      <td>25</td>\n",
              "      <td>20</td>\n",
              "    </tr>\n",
              "    <tr>\n",
              "      <th>1</th>\n",
              "      <td>1477685</td>\n",
              "      <td>358141</td>\n",
              "      <td>Blue Ribbon Sushi Izakaya</td>\n",
              "      <td>Japanese</td>\n",
              "      <td>12.08</td>\n",
              "      <td>Weekend</td>\n",
              "      <td>Not given</td>\n",
              "      <td>25</td>\n",
              "      <td>23</td>\n",
              "    </tr>\n",
              "    <tr>\n",
              "      <th>2</th>\n",
              "      <td>1477070</td>\n",
              "      <td>66393</td>\n",
              "      <td>Cafe Habana</td>\n",
              "      <td>Mexican</td>\n",
              "      <td>12.23</td>\n",
              "      <td>Weekday</td>\n",
              "      <td>5</td>\n",
              "      <td>23</td>\n",
              "      <td>28</td>\n",
              "    </tr>\n",
              "    <tr>\n",
              "      <th>3</th>\n",
              "      <td>1477334</td>\n",
              "      <td>106968</td>\n",
              "      <td>Blue Ribbon Fried Chicken</td>\n",
              "      <td>American</td>\n",
              "      <td>29.20</td>\n",
              "      <td>Weekend</td>\n",
              "      <td>3</td>\n",
              "      <td>25</td>\n",
              "      <td>15</td>\n",
              "    </tr>\n",
              "    <tr>\n",
              "      <th>4</th>\n",
              "      <td>1478249</td>\n",
              "      <td>76942</td>\n",
              "      <td>Dirty Bird to Go</td>\n",
              "      <td>American</td>\n",
              "      <td>11.59</td>\n",
              "      <td>Weekday</td>\n",
              "      <td>4</td>\n",
              "      <td>25</td>\n",
              "      <td>24</td>\n",
              "    </tr>\n",
              "  </tbody>\n",
              "</table>\n",
              "</div>\n",
              "    <div class=\"colab-df-buttons\">\n",
              "\n",
              "  <div class=\"colab-df-container\">\n",
              "    <button class=\"colab-df-convert\" onclick=\"convertToInteractive('df-a8b237f4-0e0e-4ede-a8d0-e8451cbaaed2')\"\n",
              "            title=\"Convert this dataframe to an interactive table.\"\n",
              "            style=\"display:none;\">\n",
              "\n",
              "  <svg xmlns=\"http://www.w3.org/2000/svg\" height=\"24px\" viewBox=\"0 -960 960 960\">\n",
              "    <path d=\"M120-120v-720h720v720H120Zm60-500h600v-160H180v160Zm220 220h160v-160H400v160Zm0 220h160v-160H400v160ZM180-400h160v-160H180v160Zm440 0h160v-160H620v160ZM180-180h160v-160H180v160Zm440 0h160v-160H620v160Z\"/>\n",
              "  </svg>\n",
              "    </button>\n",
              "\n",
              "  <style>\n",
              "    .colab-df-container {\n",
              "      display:flex;\n",
              "      gap: 12px;\n",
              "    }\n",
              "\n",
              "    .colab-df-convert {\n",
              "      background-color: #E8F0FE;\n",
              "      border: none;\n",
              "      border-radius: 50%;\n",
              "      cursor: pointer;\n",
              "      display: none;\n",
              "      fill: #1967D2;\n",
              "      height: 32px;\n",
              "      padding: 0 0 0 0;\n",
              "      width: 32px;\n",
              "    }\n",
              "\n",
              "    .colab-df-convert:hover {\n",
              "      background-color: #E2EBFA;\n",
              "      box-shadow: 0px 1px 2px rgba(60, 64, 67, 0.3), 0px 1px 3px 1px rgba(60, 64, 67, 0.15);\n",
              "      fill: #174EA6;\n",
              "    }\n",
              "\n",
              "    .colab-df-buttons div {\n",
              "      margin-bottom: 4px;\n",
              "    }\n",
              "\n",
              "    [theme=dark] .colab-df-convert {\n",
              "      background-color: #3B4455;\n",
              "      fill: #D2E3FC;\n",
              "    }\n",
              "\n",
              "    [theme=dark] .colab-df-convert:hover {\n",
              "      background-color: #434B5C;\n",
              "      box-shadow: 0px 1px 3px 1px rgba(0, 0, 0, 0.15);\n",
              "      filter: drop-shadow(0px 1px 2px rgba(0, 0, 0, 0.3));\n",
              "      fill: #FFFFFF;\n",
              "    }\n",
              "  </style>\n",
              "\n",
              "    <script>\n",
              "      const buttonEl =\n",
              "        document.querySelector('#df-a8b237f4-0e0e-4ede-a8d0-e8451cbaaed2 button.colab-df-convert');\n",
              "      buttonEl.style.display =\n",
              "        google.colab.kernel.accessAllowed ? 'block' : 'none';\n",
              "\n",
              "      async function convertToInteractive(key) {\n",
              "        const element = document.querySelector('#df-a8b237f4-0e0e-4ede-a8d0-e8451cbaaed2');\n",
              "        const dataTable =\n",
              "          await google.colab.kernel.invokeFunction('convertToInteractive',\n",
              "                                                    [key], {});\n",
              "        if (!dataTable) return;\n",
              "\n",
              "        const docLinkHtml = 'Like what you see? Visit the ' +\n",
              "          '<a target=\"_blank\" href=https://colab.research.google.com/notebooks/data_table.ipynb>data table notebook</a>'\n",
              "          + ' to learn more about interactive tables.';\n",
              "        element.innerHTML = '';\n",
              "        dataTable['output_type'] = 'display_data';\n",
              "        await google.colab.output.renderOutput(dataTable, element);\n",
              "        const docLink = document.createElement('div');\n",
              "        docLink.innerHTML = docLinkHtml;\n",
              "        element.appendChild(docLink);\n",
              "      }\n",
              "    </script>\n",
              "  </div>\n",
              "\n",
              "\n",
              "<div id=\"df-19452c8c-e900-452c-96cd-d4387d9ee06f\">\n",
              "  <button class=\"colab-df-quickchart\" onclick=\"quickchart('df-19452c8c-e900-452c-96cd-d4387d9ee06f')\"\n",
              "            title=\"Suggest charts\"\n",
              "            style=\"display:none;\">\n",
              "\n",
              "<svg xmlns=\"http://www.w3.org/2000/svg\" height=\"24px\"viewBox=\"0 0 24 24\"\n",
              "     width=\"24px\">\n",
              "    <g>\n",
              "        <path d=\"M19 3H5c-1.1 0-2 .9-2 2v14c0 1.1.9 2 2 2h14c1.1 0 2-.9 2-2V5c0-1.1-.9-2-2-2zM9 17H7v-7h2v7zm4 0h-2V7h2v10zm4 0h-2v-4h2v4z\"/>\n",
              "    </g>\n",
              "</svg>\n",
              "  </button>\n",
              "\n",
              "<style>\n",
              "  .colab-df-quickchart {\n",
              "      --bg-color: #E8F0FE;\n",
              "      --fill-color: #1967D2;\n",
              "      --hover-bg-color: #E2EBFA;\n",
              "      --hover-fill-color: #174EA6;\n",
              "      --disabled-fill-color: #AAA;\n",
              "      --disabled-bg-color: #DDD;\n",
              "  }\n",
              "\n",
              "  [theme=dark] .colab-df-quickchart {\n",
              "      --bg-color: #3B4455;\n",
              "      --fill-color: #D2E3FC;\n",
              "      --hover-bg-color: #434B5C;\n",
              "      --hover-fill-color: #FFFFFF;\n",
              "      --disabled-bg-color: #3B4455;\n",
              "      --disabled-fill-color: #666;\n",
              "  }\n",
              "\n",
              "  .colab-df-quickchart {\n",
              "    background-color: var(--bg-color);\n",
              "    border: none;\n",
              "    border-radius: 50%;\n",
              "    cursor: pointer;\n",
              "    display: none;\n",
              "    fill: var(--fill-color);\n",
              "    height: 32px;\n",
              "    padding: 0;\n",
              "    width: 32px;\n",
              "  }\n",
              "\n",
              "  .colab-df-quickchart:hover {\n",
              "    background-color: var(--hover-bg-color);\n",
              "    box-shadow: 0 1px 2px rgba(60, 64, 67, 0.3), 0 1px 3px 1px rgba(60, 64, 67, 0.15);\n",
              "    fill: var(--button-hover-fill-color);\n",
              "  }\n",
              "\n",
              "  .colab-df-quickchart-complete:disabled,\n",
              "  .colab-df-quickchart-complete:disabled:hover {\n",
              "    background-color: var(--disabled-bg-color);\n",
              "    fill: var(--disabled-fill-color);\n",
              "    box-shadow: none;\n",
              "  }\n",
              "\n",
              "  .colab-df-spinner {\n",
              "    border: 2px solid var(--fill-color);\n",
              "    border-color: transparent;\n",
              "    border-bottom-color: var(--fill-color);\n",
              "    animation:\n",
              "      spin 1s steps(1) infinite;\n",
              "  }\n",
              "\n",
              "  @keyframes spin {\n",
              "    0% {\n",
              "      border-color: transparent;\n",
              "      border-bottom-color: var(--fill-color);\n",
              "      border-left-color: var(--fill-color);\n",
              "    }\n",
              "    20% {\n",
              "      border-color: transparent;\n",
              "      border-left-color: var(--fill-color);\n",
              "      border-top-color: var(--fill-color);\n",
              "    }\n",
              "    30% {\n",
              "      border-color: transparent;\n",
              "      border-left-color: var(--fill-color);\n",
              "      border-top-color: var(--fill-color);\n",
              "      border-right-color: var(--fill-color);\n",
              "    }\n",
              "    40% {\n",
              "      border-color: transparent;\n",
              "      border-right-color: var(--fill-color);\n",
              "      border-top-color: var(--fill-color);\n",
              "    }\n",
              "    60% {\n",
              "      border-color: transparent;\n",
              "      border-right-color: var(--fill-color);\n",
              "    }\n",
              "    80% {\n",
              "      border-color: transparent;\n",
              "      border-right-color: var(--fill-color);\n",
              "      border-bottom-color: var(--fill-color);\n",
              "    }\n",
              "    90% {\n",
              "      border-color: transparent;\n",
              "      border-bottom-color: var(--fill-color);\n",
              "    }\n",
              "  }\n",
              "</style>\n",
              "\n",
              "  <script>\n",
              "    async function quickchart(key) {\n",
              "      const quickchartButtonEl =\n",
              "        document.querySelector('#' + key + ' button');\n",
              "      quickchartButtonEl.disabled = true;  // To prevent multiple clicks.\n",
              "      quickchartButtonEl.classList.add('colab-df-spinner');\n",
              "      try {\n",
              "        const charts = await google.colab.kernel.invokeFunction(\n",
              "            'suggestCharts', [key], {});\n",
              "      } catch (error) {\n",
              "        console.error('Error during call to suggestCharts:', error);\n",
              "      }\n",
              "      quickchartButtonEl.classList.remove('colab-df-spinner');\n",
              "      quickchartButtonEl.classList.add('colab-df-quickchart-complete');\n",
              "    }\n",
              "    (() => {\n",
              "      let quickchartButtonEl =\n",
              "        document.querySelector('#df-19452c8c-e900-452c-96cd-d4387d9ee06f button');\n",
              "      quickchartButtonEl.style.display =\n",
              "        google.colab.kernel.accessAllowed ? 'block' : 'none';\n",
              "    })();\n",
              "  </script>\n",
              "</div>\n",
              "\n",
              "    </div>\n",
              "  </div>\n"
            ],
            "application/vnd.google.colaboratory.intrinsic+json": {
              "type": "dataframe",
              "variable_name": "df",
              "summary": "{\n  \"name\": \"df\",\n  \"rows\": 1898,\n  \"fields\": [\n    {\n      \"column\": \"order_id\",\n      \"properties\": {\n        \"dtype\": \"number\",\n        \"std\": 548,\n        \"min\": 1476547,\n        \"max\": 1478444,\n        \"num_unique_values\": 1898,\n        \"samples\": [\n          1477722,\n          1478319,\n          1477650\n        ],\n        \"semantic_type\": \"\",\n        \"description\": \"\"\n      }\n    },\n    {\n      \"column\": \"customer_id\",\n      \"properties\": {\n        \"dtype\": \"number\",\n        \"std\": 113698,\n        \"min\": 1311,\n        \"max\": 405334,\n        \"num_unique_values\": 1200,\n        \"samples\": [\n          351329,\n          49987,\n          345899\n        ],\n        \"semantic_type\": \"\",\n        \"description\": \"\"\n      }\n    },\n    {\n      \"column\": \"restaurant_name\",\n      \"properties\": {\n        \"dtype\": \"category\",\n        \"num_unique_values\": 178,\n        \"samples\": [\n          \"Tortaria\",\n          \"Osteria Morini\",\n          \"Philippe Chow\"\n        ],\n        \"semantic_type\": \"\",\n        \"description\": \"\"\n      }\n    },\n    {\n      \"column\": \"cuisine_type\",\n      \"properties\": {\n        \"dtype\": \"category\",\n        \"num_unique_values\": 14,\n        \"samples\": [\n          \"Thai\",\n          \"French\",\n          \"Korean\"\n        ],\n        \"semantic_type\": \"\",\n        \"description\": \"\"\n      }\n    },\n    {\n      \"column\": \"cost_of_the_order\",\n      \"properties\": {\n        \"dtype\": \"number\",\n        \"std\": 7.483812110049553,\n        \"min\": 4.47,\n        \"max\": 35.41,\n        \"num_unique_values\": 312,\n        \"samples\": [\n          21.29,\n          7.18,\n          13.34\n        ],\n        \"semantic_type\": \"\",\n        \"description\": \"\"\n      }\n    },\n    {\n      \"column\": \"day_of_the_week\",\n      \"properties\": {\n        \"dtype\": \"category\",\n        \"num_unique_values\": 2,\n        \"samples\": [\n          \"Weekday\",\n          \"Weekend\"\n        ],\n        \"semantic_type\": \"\",\n        \"description\": \"\"\n      }\n    },\n    {\n      \"column\": \"rating\",\n      \"properties\": {\n        \"dtype\": \"category\",\n        \"num_unique_values\": 4,\n        \"samples\": [\n          \"5\",\n          \"4\"\n        ],\n        \"semantic_type\": \"\",\n        \"description\": \"\"\n      }\n    },\n    {\n      \"column\": \"food_preparation_time\",\n      \"properties\": {\n        \"dtype\": \"number\",\n        \"std\": 4,\n        \"min\": 20,\n        \"max\": 35,\n        \"num_unique_values\": 16,\n        \"samples\": [\n          25,\n          23\n        ],\n        \"semantic_type\": \"\",\n        \"description\": \"\"\n      }\n    },\n    {\n      \"column\": \"delivery_time\",\n      \"properties\": {\n        \"dtype\": \"number\",\n        \"std\": 4,\n        \"min\": 15,\n        \"max\": 33,\n        \"num_unique_values\": 19,\n        \"samples\": [\n          20,\n          21\n        ],\n        \"semantic_type\": \"\",\n        \"description\": \"\"\n      }\n    }\n  ]\n}"
            }
          },
          "metadata": {},
          "execution_count": 4
        }
      ],
      "source": [
        "# Read the data\n",
        "df = pd.read_csv('/content/drive/MyDrive/Python Course/Week 1/foodhub_order.csv')\n",
        "# Returns the first 5 rows\n",
        "df.head()"
      ]
    },
    {
      "cell_type": "markdown",
      "metadata": {
        "id": "AeR7rXZF2rdE"
      },
      "source": [
        "### **Question 1:** How many rows and columns are present in the data? [0.5 mark]"
      ]
    },
    {
      "cell_type": "code",
      "execution_count": 5,
      "metadata": {
        "id": "xaLu_bAm2rdE",
        "colab": {
          "base_uri": "https://localhost:8080/"
        },
        "outputId": "1afdd28f-e6bf-43a1-922c-a745aa2ade87"
      },
      "outputs": [
        {
          "output_type": "execute_result",
          "data": {
            "text/plain": [
              "(1898, 9)"
            ]
          },
          "metadata": {},
          "execution_count": 5
        }
      ],
      "source": [
        "# Check the shape of the dataset\n",
        "df.shape # Fill in the blank"
      ]
    },
    {
      "cell_type": "markdown",
      "metadata": {
        "id": "-YJkCL112rdF"
      },
      "source": [
        "### **Question 2:** What are the datatypes of the different columns in the dataset? [0.5 mark]"
      ]
    },
    {
      "cell_type": "code",
      "execution_count": 6,
      "metadata": {
        "id": "EUXmdNxe2rdF",
        "colab": {
          "base_uri": "https://localhost:8080/"
        },
        "outputId": "766e8667-cb4a-4413-b8bc-37213fe05a40"
      },
      "outputs": [
        {
          "output_type": "stream",
          "name": "stdout",
          "text": [
            "<class 'pandas.core.frame.DataFrame'>\n",
            "RangeIndex: 1898 entries, 0 to 1897\n",
            "Data columns (total 9 columns):\n",
            " #   Column                 Non-Null Count  Dtype  \n",
            "---  ------                 --------------  -----  \n",
            " 0   order_id               1898 non-null   int64  \n",
            " 1   customer_id            1898 non-null   int64  \n",
            " 2   restaurant_name        1898 non-null   object \n",
            " 3   cuisine_type           1898 non-null   object \n",
            " 4   cost_of_the_order      1898 non-null   float64\n",
            " 5   day_of_the_week        1898 non-null   object \n",
            " 6   rating                 1898 non-null   object \n",
            " 7   food_preparation_time  1898 non-null   int64  \n",
            " 8   delivery_time          1898 non-null   int64  \n",
            "dtypes: float64(1), int64(4), object(4)\n",
            "memory usage: 133.6+ KB\n"
          ]
        }
      ],
      "source": [
        "df.info()"
      ]
    },
    {
      "cell_type": "markdown",
      "metadata": {
        "id": "Atn8lGeE2rdF"
      },
      "source": [
        "### **Question 3:** Are there any missing values in the data? If yes, treat them using an appropriate method.  [1 Mark]"
      ]
    },
    {
      "cell_type": "code",
      "execution_count": 10,
      "metadata": {
        "id": "kZbMrwFC2rdG",
        "colab": {
          "base_uri": "https://localhost:8080/",
          "height": 366
        },
        "outputId": "b20d8305-00c9-4b2e-c7c0-96c4b14011c2"
      },
      "outputs": [
        {
          "output_type": "execute_result",
          "data": {
            "text/plain": [
              "order_id                 0\n",
              "customer_id              0\n",
              "restaurant_name          0\n",
              "cuisine_type             0\n",
              "cost_of_the_order        0\n",
              "day_of_the_week          0\n",
              "rating                   0\n",
              "food_preparation_time    0\n",
              "delivery_time            0\n",
              "dtype: int64"
            ],
            "text/html": [
              "<div>\n",
              "<style scoped>\n",
              "    .dataframe tbody tr th:only-of-type {\n",
              "        vertical-align: middle;\n",
              "    }\n",
              "\n",
              "    .dataframe tbody tr th {\n",
              "        vertical-align: top;\n",
              "    }\n",
              "\n",
              "    .dataframe thead th {\n",
              "        text-align: right;\n",
              "    }\n",
              "</style>\n",
              "<table border=\"1\" class=\"dataframe\">\n",
              "  <thead>\n",
              "    <tr style=\"text-align: right;\">\n",
              "      <th></th>\n",
              "      <th>0</th>\n",
              "    </tr>\n",
              "  </thead>\n",
              "  <tbody>\n",
              "    <tr>\n",
              "      <th>order_id</th>\n",
              "      <td>0</td>\n",
              "    </tr>\n",
              "    <tr>\n",
              "      <th>customer_id</th>\n",
              "      <td>0</td>\n",
              "    </tr>\n",
              "    <tr>\n",
              "      <th>restaurant_name</th>\n",
              "      <td>0</td>\n",
              "    </tr>\n",
              "    <tr>\n",
              "      <th>cuisine_type</th>\n",
              "      <td>0</td>\n",
              "    </tr>\n",
              "    <tr>\n",
              "      <th>cost_of_the_order</th>\n",
              "      <td>0</td>\n",
              "    </tr>\n",
              "    <tr>\n",
              "      <th>day_of_the_week</th>\n",
              "      <td>0</td>\n",
              "    </tr>\n",
              "    <tr>\n",
              "      <th>rating</th>\n",
              "      <td>0</td>\n",
              "    </tr>\n",
              "    <tr>\n",
              "      <th>food_preparation_time</th>\n",
              "      <td>0</td>\n",
              "    </tr>\n",
              "    <tr>\n",
              "      <th>delivery_time</th>\n",
              "      <td>0</td>\n",
              "    </tr>\n",
              "  </tbody>\n",
              "</table>\n",
              "</div><br><label><b>dtype:</b> int64</label>"
            ]
          },
          "metadata": {},
          "execution_count": 10
        }
      ],
      "source": [
        "# Checking for missing values in the data\n",
        "df.isnull().sum()  # Write the appropriate function to print the sum of null values for each column\n",
        "#pd.DataFrame({'Count':df.isnull().sum()[df.isnull().sum()>0],'Percentage':(df.isnull().sum()[df.isnull().sum()>0]/df.shape[0])*100})"
      ]
    },
    {
      "cell_type": "markdown",
      "metadata": {
        "id": "krjqvuKv2rdG"
      },
      "source": [
        "### **Question 4:** Check the statistical summary of the data. What is the minimum, average, and maximum time it takes for food to be prepared once an order is placed? [2 marks]"
      ]
    },
    {
      "cell_type": "code",
      "execution_count": 11,
      "metadata": {
        "id": "MDZkL24f2rdG",
        "colab": {
          "base_uri": "https://localhost:8080/",
          "height": 226
        },
        "outputId": "f6a25eb9-27ad-4f1c-8907-211a10dea184"
      },
      "outputs": [
        {
          "output_type": "execute_result",
          "data": {
            "text/plain": [
              "                        count          mean            std         min  \\\n",
              "order_id               1898.0  1.477496e+06     548.049724  1476547.00   \n",
              "customer_id            1898.0  1.711685e+05  113698.139743     1311.00   \n",
              "cost_of_the_order      1898.0  1.649885e+01       7.483812        4.47   \n",
              "food_preparation_time  1898.0  2.737197e+01       4.632481       20.00   \n",
              "delivery_time          1898.0  2.416175e+01       4.972637       15.00   \n",
              "\n",
              "                              25%         50%           75%         max  \n",
              "order_id               1477021.25  1477495.50  1.477970e+06  1478444.00  \n",
              "customer_id              77787.75   128600.00  2.705250e+05   405334.00  \n",
              "cost_of_the_order           12.08       14.14  2.229750e+01       35.41  \n",
              "food_preparation_time       23.00       27.00  3.100000e+01       35.00  \n",
              "delivery_time               20.00       25.00  2.800000e+01       33.00  "
            ],
            "text/html": [
              "\n",
              "  <div id=\"df-dd582016-a3b1-4250-875b-b935ce408157\" class=\"colab-df-container\">\n",
              "    <div>\n",
              "<style scoped>\n",
              "    .dataframe tbody tr th:only-of-type {\n",
              "        vertical-align: middle;\n",
              "    }\n",
              "\n",
              "    .dataframe tbody tr th {\n",
              "        vertical-align: top;\n",
              "    }\n",
              "\n",
              "    .dataframe thead th {\n",
              "        text-align: right;\n",
              "    }\n",
              "</style>\n",
              "<table border=\"1\" class=\"dataframe\">\n",
              "  <thead>\n",
              "    <tr style=\"text-align: right;\">\n",
              "      <th></th>\n",
              "      <th>count</th>\n",
              "      <th>mean</th>\n",
              "      <th>std</th>\n",
              "      <th>min</th>\n",
              "      <th>25%</th>\n",
              "      <th>50%</th>\n",
              "      <th>75%</th>\n",
              "      <th>max</th>\n",
              "    </tr>\n",
              "  </thead>\n",
              "  <tbody>\n",
              "    <tr>\n",
              "      <th>order_id</th>\n",
              "      <td>1898.0</td>\n",
              "      <td>1.477496e+06</td>\n",
              "      <td>548.049724</td>\n",
              "      <td>1476547.00</td>\n",
              "      <td>1477021.25</td>\n",
              "      <td>1477495.50</td>\n",
              "      <td>1.477970e+06</td>\n",
              "      <td>1478444.00</td>\n",
              "    </tr>\n",
              "    <tr>\n",
              "      <th>customer_id</th>\n",
              "      <td>1898.0</td>\n",
              "      <td>1.711685e+05</td>\n",
              "      <td>113698.139743</td>\n",
              "      <td>1311.00</td>\n",
              "      <td>77787.75</td>\n",
              "      <td>128600.00</td>\n",
              "      <td>2.705250e+05</td>\n",
              "      <td>405334.00</td>\n",
              "    </tr>\n",
              "    <tr>\n",
              "      <th>cost_of_the_order</th>\n",
              "      <td>1898.0</td>\n",
              "      <td>1.649885e+01</td>\n",
              "      <td>7.483812</td>\n",
              "      <td>4.47</td>\n",
              "      <td>12.08</td>\n",
              "      <td>14.14</td>\n",
              "      <td>2.229750e+01</td>\n",
              "      <td>35.41</td>\n",
              "    </tr>\n",
              "    <tr>\n",
              "      <th>food_preparation_time</th>\n",
              "      <td>1898.0</td>\n",
              "      <td>2.737197e+01</td>\n",
              "      <td>4.632481</td>\n",
              "      <td>20.00</td>\n",
              "      <td>23.00</td>\n",
              "      <td>27.00</td>\n",
              "      <td>3.100000e+01</td>\n",
              "      <td>35.00</td>\n",
              "    </tr>\n",
              "    <tr>\n",
              "      <th>delivery_time</th>\n",
              "      <td>1898.0</td>\n",
              "      <td>2.416175e+01</td>\n",
              "      <td>4.972637</td>\n",
              "      <td>15.00</td>\n",
              "      <td>20.00</td>\n",
              "      <td>25.00</td>\n",
              "      <td>2.800000e+01</td>\n",
              "      <td>33.00</td>\n",
              "    </tr>\n",
              "  </tbody>\n",
              "</table>\n",
              "</div>\n",
              "    <div class=\"colab-df-buttons\">\n",
              "\n",
              "  <div class=\"colab-df-container\">\n",
              "    <button class=\"colab-df-convert\" onclick=\"convertToInteractive('df-dd582016-a3b1-4250-875b-b935ce408157')\"\n",
              "            title=\"Convert this dataframe to an interactive table.\"\n",
              "            style=\"display:none;\">\n",
              "\n",
              "  <svg xmlns=\"http://www.w3.org/2000/svg\" height=\"24px\" viewBox=\"0 -960 960 960\">\n",
              "    <path d=\"M120-120v-720h720v720H120Zm60-500h600v-160H180v160Zm220 220h160v-160H400v160Zm0 220h160v-160H400v160ZM180-400h160v-160H180v160Zm440 0h160v-160H620v160ZM180-180h160v-160H180v160Zm440 0h160v-160H620v160Z\"/>\n",
              "  </svg>\n",
              "    </button>\n",
              "\n",
              "  <style>\n",
              "    .colab-df-container {\n",
              "      display:flex;\n",
              "      gap: 12px;\n",
              "    }\n",
              "\n",
              "    .colab-df-convert {\n",
              "      background-color: #E8F0FE;\n",
              "      border: none;\n",
              "      border-radius: 50%;\n",
              "      cursor: pointer;\n",
              "      display: none;\n",
              "      fill: #1967D2;\n",
              "      height: 32px;\n",
              "      padding: 0 0 0 0;\n",
              "      width: 32px;\n",
              "    }\n",
              "\n",
              "    .colab-df-convert:hover {\n",
              "      background-color: #E2EBFA;\n",
              "      box-shadow: 0px 1px 2px rgba(60, 64, 67, 0.3), 0px 1px 3px 1px rgba(60, 64, 67, 0.15);\n",
              "      fill: #174EA6;\n",
              "    }\n",
              "\n",
              "    .colab-df-buttons div {\n",
              "      margin-bottom: 4px;\n",
              "    }\n",
              "\n",
              "    [theme=dark] .colab-df-convert {\n",
              "      background-color: #3B4455;\n",
              "      fill: #D2E3FC;\n",
              "    }\n",
              "\n",
              "    [theme=dark] .colab-df-convert:hover {\n",
              "      background-color: #434B5C;\n",
              "      box-shadow: 0px 1px 3px 1px rgba(0, 0, 0, 0.15);\n",
              "      filter: drop-shadow(0px 1px 2px rgba(0, 0, 0, 0.3));\n",
              "      fill: #FFFFFF;\n",
              "    }\n",
              "  </style>\n",
              "\n",
              "    <script>\n",
              "      const buttonEl =\n",
              "        document.querySelector('#df-dd582016-a3b1-4250-875b-b935ce408157 button.colab-df-convert');\n",
              "      buttonEl.style.display =\n",
              "        google.colab.kernel.accessAllowed ? 'block' : 'none';\n",
              "\n",
              "      async function convertToInteractive(key) {\n",
              "        const element = document.querySelector('#df-dd582016-a3b1-4250-875b-b935ce408157');\n",
              "        const dataTable =\n",
              "          await google.colab.kernel.invokeFunction('convertToInteractive',\n",
              "                                                    [key], {});\n",
              "        if (!dataTable) return;\n",
              "\n",
              "        const docLinkHtml = 'Like what you see? Visit the ' +\n",
              "          '<a target=\"_blank\" href=https://colab.research.google.com/notebooks/data_table.ipynb>data table notebook</a>'\n",
              "          + ' to learn more about interactive tables.';\n",
              "        element.innerHTML = '';\n",
              "        dataTable['output_type'] = 'display_data';\n",
              "        await google.colab.output.renderOutput(dataTable, element);\n",
              "        const docLink = document.createElement('div');\n",
              "        docLink.innerHTML = docLinkHtml;\n",
              "        element.appendChild(docLink);\n",
              "      }\n",
              "    </script>\n",
              "  </div>\n",
              "\n",
              "\n",
              "<div id=\"df-c38f7f3b-8d38-4fba-aeba-e5f67dae4516\">\n",
              "  <button class=\"colab-df-quickchart\" onclick=\"quickchart('df-c38f7f3b-8d38-4fba-aeba-e5f67dae4516')\"\n",
              "            title=\"Suggest charts\"\n",
              "            style=\"display:none;\">\n",
              "\n",
              "<svg xmlns=\"http://www.w3.org/2000/svg\" height=\"24px\"viewBox=\"0 0 24 24\"\n",
              "     width=\"24px\">\n",
              "    <g>\n",
              "        <path d=\"M19 3H5c-1.1 0-2 .9-2 2v14c0 1.1.9 2 2 2h14c1.1 0 2-.9 2-2V5c0-1.1-.9-2-2-2zM9 17H7v-7h2v7zm4 0h-2V7h2v10zm4 0h-2v-4h2v4z\"/>\n",
              "    </g>\n",
              "</svg>\n",
              "  </button>\n",
              "\n",
              "<style>\n",
              "  .colab-df-quickchart {\n",
              "      --bg-color: #E8F0FE;\n",
              "      --fill-color: #1967D2;\n",
              "      --hover-bg-color: #E2EBFA;\n",
              "      --hover-fill-color: #174EA6;\n",
              "      --disabled-fill-color: #AAA;\n",
              "      --disabled-bg-color: #DDD;\n",
              "  }\n",
              "\n",
              "  [theme=dark] .colab-df-quickchart {\n",
              "      --bg-color: #3B4455;\n",
              "      --fill-color: #D2E3FC;\n",
              "      --hover-bg-color: #434B5C;\n",
              "      --hover-fill-color: #FFFFFF;\n",
              "      --disabled-bg-color: #3B4455;\n",
              "      --disabled-fill-color: #666;\n",
              "  }\n",
              "\n",
              "  .colab-df-quickchart {\n",
              "    background-color: var(--bg-color);\n",
              "    border: none;\n",
              "    border-radius: 50%;\n",
              "    cursor: pointer;\n",
              "    display: none;\n",
              "    fill: var(--fill-color);\n",
              "    height: 32px;\n",
              "    padding: 0;\n",
              "    width: 32px;\n",
              "  }\n",
              "\n",
              "  .colab-df-quickchart:hover {\n",
              "    background-color: var(--hover-bg-color);\n",
              "    box-shadow: 0 1px 2px rgba(60, 64, 67, 0.3), 0 1px 3px 1px rgba(60, 64, 67, 0.15);\n",
              "    fill: var(--button-hover-fill-color);\n",
              "  }\n",
              "\n",
              "  .colab-df-quickchart-complete:disabled,\n",
              "  .colab-df-quickchart-complete:disabled:hover {\n",
              "    background-color: var(--disabled-bg-color);\n",
              "    fill: var(--disabled-fill-color);\n",
              "    box-shadow: none;\n",
              "  }\n",
              "\n",
              "  .colab-df-spinner {\n",
              "    border: 2px solid var(--fill-color);\n",
              "    border-color: transparent;\n",
              "    border-bottom-color: var(--fill-color);\n",
              "    animation:\n",
              "      spin 1s steps(1) infinite;\n",
              "  }\n",
              "\n",
              "  @keyframes spin {\n",
              "    0% {\n",
              "      border-color: transparent;\n",
              "      border-bottom-color: var(--fill-color);\n",
              "      border-left-color: var(--fill-color);\n",
              "    }\n",
              "    20% {\n",
              "      border-color: transparent;\n",
              "      border-left-color: var(--fill-color);\n",
              "      border-top-color: var(--fill-color);\n",
              "    }\n",
              "    30% {\n",
              "      border-color: transparent;\n",
              "      border-left-color: var(--fill-color);\n",
              "      border-top-color: var(--fill-color);\n",
              "      border-right-color: var(--fill-color);\n",
              "    }\n",
              "    40% {\n",
              "      border-color: transparent;\n",
              "      border-right-color: var(--fill-color);\n",
              "      border-top-color: var(--fill-color);\n",
              "    }\n",
              "    60% {\n",
              "      border-color: transparent;\n",
              "      border-right-color: var(--fill-color);\n",
              "    }\n",
              "    80% {\n",
              "      border-color: transparent;\n",
              "      border-right-color: var(--fill-color);\n",
              "      border-bottom-color: var(--fill-color);\n",
              "    }\n",
              "    90% {\n",
              "      border-color: transparent;\n",
              "      border-bottom-color: var(--fill-color);\n",
              "    }\n",
              "  }\n",
              "</style>\n",
              "\n",
              "  <script>\n",
              "    async function quickchart(key) {\n",
              "      const quickchartButtonEl =\n",
              "        document.querySelector('#' + key + ' button');\n",
              "      quickchartButtonEl.disabled = true;  // To prevent multiple clicks.\n",
              "      quickchartButtonEl.classList.add('colab-df-spinner');\n",
              "      try {\n",
              "        const charts = await google.colab.kernel.invokeFunction(\n",
              "            'suggestCharts', [key], {});\n",
              "      } catch (error) {\n",
              "        console.error('Error during call to suggestCharts:', error);\n",
              "      }\n",
              "      quickchartButtonEl.classList.remove('colab-df-spinner');\n",
              "      quickchartButtonEl.classList.add('colab-df-quickchart-complete');\n",
              "    }\n",
              "    (() => {\n",
              "      let quickchartButtonEl =\n",
              "        document.querySelector('#df-c38f7f3b-8d38-4fba-aeba-e5f67dae4516 button');\n",
              "      quickchartButtonEl.style.display =\n",
              "        google.colab.kernel.accessAllowed ? 'block' : 'none';\n",
              "    })();\n",
              "  </script>\n",
              "</div>\n",
              "\n",
              "    </div>\n",
              "  </div>\n"
            ],
            "application/vnd.google.colaboratory.intrinsic+json": {
              "type": "dataframe",
              "summary": "{\n  \"name\": \"df\",\n  \"rows\": 5,\n  \"fields\": [\n    {\n      \"column\": \"count\",\n      \"properties\": {\n        \"dtype\": \"number\",\n        \"std\": 0.0,\n        \"min\": 1898.0,\n        \"max\": 1898.0,\n        \"num_unique_values\": 1,\n        \"samples\": [\n          1898.0\n        ],\n        \"semantic_type\": \"\",\n        \"description\": \"\"\n      }\n    },\n    {\n      \"column\": \"mean\",\n      \"properties\": {\n        \"dtype\": \"number\",\n        \"std\": 645876.9529336845,\n        \"min\": 16.498851422550054,\n        \"max\": 1477495.5,\n        \"num_unique_values\": 5,\n        \"samples\": [\n          171168.478398314\n        ],\n        \"semantic_type\": \"\",\n        \"description\": \"\"\n      }\n    },\n    {\n      \"column\": \"std\",\n      \"properties\": {\n        \"dtype\": \"number\",\n        \"std\": 50784.71247265651,\n        \"min\": 4.63248077592887,\n        \"max\": 113698.13974303962,\n        \"num_unique_values\": 5,\n        \"samples\": [\n          113698.13974303962\n        ],\n        \"semantic_type\": \"\",\n        \"description\": \"\"\n      }\n    },\n    {\n      \"column\": \"min\",\n      \"properties\": {\n        \"dtype\": \"number\",\n        \"std\": 660181.1448777716,\n        \"min\": 4.47,\n        \"max\": 1476547.0,\n        \"num_unique_values\": 5,\n        \"samples\": [\n          1311.0\n        ],\n        \"semantic_type\": \"\",\n        \"description\": \"\"\n      }\n    },\n    {\n      \"column\": \"25%\",\n      \"properties\": {\n        \"dtype\": \"number\",\n        \"std\": 652710.1666554807,\n        \"min\": 12.08,\n        \"max\": 1477021.25,\n        \"num_unique_values\": 5,\n        \"samples\": [\n          77787.75\n        ],\n        \"semantic_type\": \"\",\n        \"description\": \"\"\n      }\n    },\n    {\n      \"column\": \"50%\",\n      \"properties\": {\n        \"dtype\": \"number\",\n        \"std\": 648764.1850689455,\n        \"min\": 14.14,\n        \"max\": 1477495.5,\n        \"num_unique_values\": 5,\n        \"samples\": [\n          128600.0\n        ],\n        \"semantic_type\": \"\",\n        \"description\": \"\"\n      }\n    },\n    {\n      \"column\": \"75%\",\n      \"properties\": {\n        \"dtype\": \"number\",\n        \"std\": 641497.2176487005,\n        \"min\": 22.2975,\n        \"max\": 1477969.75,\n        \"num_unique_values\": 5,\n        \"samples\": [\n          270525.0\n        ],\n        \"semantic_type\": \"\",\n        \"description\": \"\"\n      }\n    },\n    {\n      \"column\": \"max\",\n      \"properties\": {\n        \"dtype\": \"number\",\n        \"std\": 640369.1284858972,\n        \"min\": 33.0,\n        \"max\": 1478444.0,\n        \"num_unique_values\": 5,\n        \"samples\": [\n          405334.0\n        ],\n        \"semantic_type\": \"\",\n        \"description\": \"\"\n      }\n    }\n  ]\n}"
            }
          },
          "metadata": {},
          "execution_count": 11
        }
      ],
      "source": [
        "# Get the summary statistics of the numerical data\n",
        "df.describe().T  # Write the appropriate function to print the statistical summary of the data (Hint: you have seen this in the case studies before)"
      ]
    },
    {
      "cell_type": "markdown",
      "metadata": {
        "id": "LDlbXZWG2rdH"
      },
      "source": [
        "### **Question 5:** How many orders are not rated? [1 mark]"
      ]
    },
    {
      "cell_type": "code",
      "execution_count": 15,
      "metadata": {
        "id": "RUJo1me22rdH",
        "colab": {
          "base_uri": "https://localhost:8080/",
          "height": 241
        },
        "outputId": "c1cfb118-45ae-4c78-85a1-e7a379f14820"
      },
      "outputs": [
        {
          "output_type": "execute_result",
          "data": {
            "text/plain": [
              "rating\n",
              "Not given    736\n",
              "5            588\n",
              "4            386\n",
              "3            188\n",
              "Name: count, dtype: int64"
            ],
            "text/html": [
              "<div>\n",
              "<style scoped>\n",
              "    .dataframe tbody tr th:only-of-type {\n",
              "        vertical-align: middle;\n",
              "    }\n",
              "\n",
              "    .dataframe tbody tr th {\n",
              "        vertical-align: top;\n",
              "    }\n",
              "\n",
              "    .dataframe thead th {\n",
              "        text-align: right;\n",
              "    }\n",
              "</style>\n",
              "<table border=\"1\" class=\"dataframe\">\n",
              "  <thead>\n",
              "    <tr style=\"text-align: right;\">\n",
              "      <th></th>\n",
              "      <th>count</th>\n",
              "    </tr>\n",
              "    <tr>\n",
              "      <th>rating</th>\n",
              "      <th></th>\n",
              "    </tr>\n",
              "  </thead>\n",
              "  <tbody>\n",
              "    <tr>\n",
              "      <th>Not given</th>\n",
              "      <td>736</td>\n",
              "    </tr>\n",
              "    <tr>\n",
              "      <th>5</th>\n",
              "      <td>588</td>\n",
              "    </tr>\n",
              "    <tr>\n",
              "      <th>4</th>\n",
              "      <td>386</td>\n",
              "    </tr>\n",
              "    <tr>\n",
              "      <th>3</th>\n",
              "      <td>188</td>\n",
              "    </tr>\n",
              "  </tbody>\n",
              "</table>\n",
              "</div><br><label><b>dtype:</b> int64</label>"
            ]
          },
          "metadata": {},
          "execution_count": 15
        }
      ],
      "source": [
        "df['rating'].value_counts() # Complete the code"
      ]
    },
    {
      "cell_type": "markdown",
      "metadata": {
        "id": "LUh8hTiW2rdH"
      },
      "source": [
        "### Exploratory Data Analysis (EDA)"
      ]
    },
    {
      "cell_type": "markdown",
      "metadata": {
        "id": "2Dl2aL1W2rdI"
      },
      "source": [
        "### Univariate Analysis"
      ]
    },
    {
      "cell_type": "markdown",
      "metadata": {
        "id": "gxBiurJ-2rdI"
      },
      "source": [
        "### **Question 6:** Explore all the variables and provide observations on their distributions. (Generally, histograms, boxplots, countplots, etc. are used for univariate exploration.) [9 marks]"
      ]
    },
    {
      "cell_type": "markdown",
      "metadata": {
        "id": "TXEjEAXqbZmQ"
      },
      "source": [
        "#### Order ID"
      ]
    },
    {
      "cell_type": "code",
      "execution_count": 16,
      "metadata": {
        "id": "cmmmjUyebZmQ",
        "colab": {
          "base_uri": "https://localhost:8080/"
        },
        "outputId": "920e1d14-6b3b-4348-9886-df43e076e51e"
      },
      "outputs": [
        {
          "output_type": "execute_result",
          "data": {
            "text/plain": [
              "1898"
            ]
          },
          "metadata": {},
          "execution_count": 16
        }
      ],
      "source": [
        "# check unique order ID\n",
        "df['order_id'].nunique()"
      ]
    },
    {
      "cell_type": "markdown",
      "metadata": {
        "id": "ts6l2h0abZmQ"
      },
      "source": [
        "#### Customer ID"
      ]
    },
    {
      "cell_type": "code",
      "execution_count": 18,
      "metadata": {
        "id": "yZRW2FBSbZmQ",
        "colab": {
          "base_uri": "https://localhost:8080/"
        },
        "outputId": "0cba1d47-dc1b-447b-d962-041d71647405"
      },
      "outputs": [
        {
          "output_type": "execute_result",
          "data": {
            "text/plain": [
              "1200"
            ]
          },
          "metadata": {},
          "execution_count": 18
        }
      ],
      "source": [
        "# check unique customer ID\n",
        "df['customer_id'].nunique()  # Complete the code to find out the number of unique Customer ID"
      ]
    },
    {
      "cell_type": "markdown",
      "metadata": {
        "id": "mgv5gIIEbZmR"
      },
      "source": [
        "#### Restaurant name"
      ]
    },
    {
      "cell_type": "code",
      "execution_count": 19,
      "metadata": {
        "id": "GYGzUuzcbZmR",
        "colab": {
          "base_uri": "https://localhost:8080/"
        },
        "outputId": "9d8208fc-9e67-44af-9837-0f2364dc07af"
      },
      "outputs": [
        {
          "output_type": "execute_result",
          "data": {
            "text/plain": [
              "178"
            ]
          },
          "metadata": {},
          "execution_count": 19
        }
      ],
      "source": [
        "# check unique Restaurant Name\n",
        "df['restaurant_name'].nunique()  # Complete the code to find out number of unique Restaurant Name"
      ]
    },
    {
      "cell_type": "markdown",
      "metadata": {
        "id": "X7jR8GHN2rdK"
      },
      "source": [
        "#### Cuisine type"
      ]
    },
    {
      "cell_type": "code",
      "execution_count": 20,
      "metadata": {
        "id": "uFd2adxc2rdK",
        "colab": {
          "base_uri": "https://localhost:8080/"
        },
        "outputId": "97696049-b91e-4b0b-b3cf-5e76714ed5f2"
      },
      "outputs": [
        {
          "output_type": "execute_result",
          "data": {
            "text/plain": [
              "14"
            ]
          },
          "metadata": {},
          "execution_count": 20
        }
      ],
      "source": [
        "# Check unique cuisine type\n",
        "df['cuisine_type'].nunique()  # Complete the code to find out the number of unique cuisine type"
      ]
    },
    {
      "cell_type": "code",
      "execution_count": 24,
      "metadata": {
        "id": "4JHi590P2rdK",
        "scrolled": true,
        "colab": {
          "base_uri": "https://localhost:8080/",
          "height": 333
        },
        "outputId": "f201b944-63a8-4a97-a5ce-6310d9a337b5"
      },
      "outputs": [
        {
          "output_type": "display_data",
          "data": {
            "text/plain": [
              "<Figure size 1500x500 with 1 Axes>"
            ],
            "image/png": "[encoded data removed]"
          },
          "metadata": {}
        }
      ],
      "source": [
        "order = df['cuisine_type'].value_counts().index\n",
        "plt.figure(figsize = (15,5))\n",
        "sns.countplot(data = df, x = 'cuisine_type',order=order) # Create a countplot for cuisine type\n",
        "plt.xticks(rotation = 60)\n",
        "plt.show()"
      ]
    },
    {
      "cell_type": "markdown",
      "metadata": {
        "id": "fmWW_qb42rdL"
      },
      "source": [
        "#### Cost of the order"
      ]
    },
    {
      "cell_type": "code",
      "execution_count": 27,
      "metadata": {
        "id": "kq1lIbf42rdL",
        "scrolled": false,
        "colab": {
          "base_uri": "https://localhost:8080/",
          "height": 883
        },
        "outputId": "433dfce6-9c27-4fd1-b439-013f81962b7a"
      },
      "outputs": [
        {
          "output_type": "display_data",
          "data": {
            "text/plain": [
              "<Figure size 640x480 with 1 Axes>"
            ],
            "image/png": "[encoded data removed]"
          },
          "metadata": {}
        },
        {
          "output_type": "display_data",
          "data": {
            "text/plain": [
              "<Figure size 640x480 with 1 Axes>"
            ],
            "image/png": "[encoded data removed]"
          },
          "metadata": {}
        }
      ],
      "source": [
        "\n",
        "sns.histplot(data=df,x='cost_of_the_order') ## Histogram for the cost of order\n",
        "plt.show()\n",
        "sns.boxplot(data=df,x='cost_of_the_order') ## Boxplot for the cost of order\n",
        "plt.show()"
      ]
    },
    {
      "cell_type": "markdown",
      "metadata": {
        "id": "p34KqEqx2rdL"
      },
      "source": [
        "#### Day of the week"
      ]
    },
    {
      "cell_type": "code",
      "execution_count": 29,
      "metadata": {
        "id": "KBMjgXjv2rdL",
        "colab": {
          "base_uri": "https://localhost:8080/"
        },
        "outputId": "47697843-c683-471e-f04a-4d1576a7054e"
      },
      "outputs": [
        {
          "output_type": "execute_result",
          "data": {
            "text/plain": [
              "2"
            ]
          },
          "metadata": {},
          "execution_count": 29
        }
      ],
      "source": [
        "# # Check the unique values\n",
        "df['day_of_the_week'].nunique() # Complete the code to check unique values for the 'day_of_the_week' column"
      ]
    },
    {
      "cell_type": "code",
      "execution_count": 33,
      "metadata": {
        "id": "Q5jvwJkZ2rdL",
        "scrolled": false,
        "colab": {
          "base_uri": "https://localhost:8080/",
          "height": 468
        },
        "outputId": "50bfd416-eb60-4cff-8dc6-bca91e197bdc"
      },
      "outputs": [
        {
          "output_type": "execute_result",
          "data": {
            "text/plain": [
              "<Axes: xlabel='day_of_the_week', ylabel='percent'>"
            ]
          },
          "metadata": {},
          "execution_count": 33
        },
        {
          "output_type": "display_data",
          "data": {
            "text/plain": [
              "<Figure size 640x480 with 1 Axes>"
            ],
            "image/png": "[encoded data removed]"
          },
          "metadata": {}
        }
      ],
      "source": [
        "sns.countplot(data = df, x = 'day_of_the_week', stat= 'percent') # Complete the code to plot a bar graph for 'day_of_the_week' column\n"
      ]
    },
    {
      "cell_type": "markdown",
      "metadata": {
        "id": "1oOW_lzO2rdL"
      },
      "source": [
        "#### Rating"
      ]
    },
    {
      "cell_type": "code",
      "execution_count": 34,
      "metadata": {
        "id": "TNxjskCF2rdL",
        "scrolled": true,
        "colab": {
          "base_uri": "https://localhost:8080/"
        },
        "outputId": "2045ec35-5efe-468b-9e96-0451a4b35900"
      },
      "outputs": [
        {
          "output_type": "execute_result",
          "data": {
            "text/plain": [
              "4"
            ]
          },
          "metadata": {},
          "execution_count": 34
        }
      ],
      "source": [
        "# Check the unique values\n",
        "df['rating'].nunique() # Complete the code to check unique values for the 'rating' column"
      ]
    },
    {
      "cell_type": "code",
      "execution_count": 36,
      "metadata": {
        "id": "aP_djdHY2rdM",
        "scrolled": true,
        "colab": {
          "base_uri": "https://localhost:8080/",
          "height": 467
        },
        "outputId": "e7d1c9bd-9c6c-4198-c492-4b3440d780a2"
      },
      "outputs": [
        {
          "output_type": "execute_result",
          "data": {
            "text/plain": [
              "<Axes: xlabel='rating', ylabel='percent'>"
            ]
          },
          "metadata": {},
          "execution_count": 36
        },
        {
          "output_type": "display_data",
          "data": {
            "text/plain": [
              "<Figure size 640x480 with 1 Axes>"
            ],
            "image/png": "[encoded data removed]"
          },
          "metadata": {}
        }
      ],
      "source": [
        "sns.countplot(data = df, x = 'rating', stat = 'percent') # Complete the code to plot bar graph for 'rating' column"
      ]
    },
    {
      "cell_type": "markdown",
      "metadata": {
        "id": "OP1gYWnR2rdM"
      },
      "source": [
        "#### Food Preparation time"
      ]
    },
    {
      "cell_type": "code",
      "execution_count": 38,
      "metadata": {
        "id": "TYiF3h3t2rdM",
        "scrolled": true,
        "colab": {
          "base_uri": "https://localhost:8080/",
          "height": 883
        },
        "outputId": "7a957c87-8d2b-4991-c215-3e2f7bcec200"
      },
      "outputs": [
        {
          "output_type": "display_data",
          "data": {
            "text/plain": [
              "<Figure size 640x480 with 1 Axes>"
            ],
            "image/png": "[encoded data removed]"
          },
          "metadata": {}
        },
        {
          "output_type": "display_data",
          "data": {
            "text/plain": [
              "<Figure size 640x480 with 1 Axes>"
            ],
            "image/png": "[encoded data removed]"
          },
          "metadata": {}
        }
      ],
      "source": [
        "sns.histplot(data=df,x='food_preparation_time') # Complete the code to plot the histogram for the cost of order\n",
        "plt.show()\n",
        "sns.boxplot(data=df,x='food_preparation_time') # Complete the code to plot the boxplot for the cost of order\n",
        "plt.show()"
      ]
    },
    {
      "cell_type": "markdown",
      "metadata": {
        "id": "ENW0PF5b2rdM"
      },
      "source": [
        "#### Delivery time"
      ]
    },
    {
      "cell_type": "code",
      "execution_count": 39,
      "metadata": {
        "id": "_1ZcT_SM2rdM",
        "scrolled": true,
        "colab": {
          "base_uri": "https://localhost:8080/",
          "height": 883
        },
        "outputId": "53047793-278b-407f-f14b-055bc92ef88e"
      },
      "outputs": [
        {
          "output_type": "display_data",
          "data": {
            "text/plain": [
              "<Figure size 640x480 with 1 Axes>"
            ],
            "image/png": "[encoded data removed]"
          },
          "metadata": {}
        },
        {
          "output_type": "display_data",
          "data": {
            "text/plain": [
              "<Figure size 640x480 with 1 Axes>"
            ],
            "image/png": "[encoded data removed]"
          },
          "metadata": {}
        }
      ],
      "source": [
        "sns.histplot(data=df,x='delivery_time') # Complete the code to plot the histogram for the delivery time\n",
        "plt.show()\n",
        "sns.boxplot(data=df,x='delivery_time')  # Complete the code to plot the boxplot for the delivery time\n",
        "plt.show()"
      ]
    },
    {
      "cell_type": "markdown",
      "metadata": {
        "id": "HMwsI8f32rdM"
      },
      "source": [
        "### **Question 7:** Which are the top 5 restaurants in terms of the number of orders received? [1 mark]"
      ]
    },
    {
      "cell_type": "code",
      "execution_count": 40,
      "metadata": {
        "id": "OLQISNlc2rdM",
        "colab": {
          "base_uri": "https://localhost:8080/",
          "height": 272
        },
        "outputId": "cecfbea9-23aa-4acd-cecc-02b25b727d05"
      },
      "outputs": [
        {
          "output_type": "execute_result",
          "data": {
            "text/plain": [
              "restaurant_name\n",
              "Shake Shack                  219\n",
              "The Meatball Shop            132\n",
              "Blue Ribbon Sushi            119\n",
              "Blue Ribbon Fried Chicken     96\n",
              "Parm                          68\n",
              "Name: count, dtype: int64"
            ],
            "text/html": [
              "<div>\n",
              "<style scoped>\n",
              "    .dataframe tbody tr th:only-of-type {\n",
              "        vertical-align: middle;\n",
              "    }\n",
              "\n",
              "    .dataframe tbody tr th {\n",
              "        vertical-align: top;\n",
              "    }\n",
              "\n",
              "    .dataframe thead th {\n",
              "        text-align: right;\n",
              "    }\n",
              "</style>\n",
              "<table border=\"1\" class=\"dataframe\">\n",
              "  <thead>\n",
              "    <tr style=\"text-align: right;\">\n",
              "      <th></th>\n",
              "      <th>count</th>\n",
              "    </tr>\n",
              "    <tr>\n",
              "      <th>restaurant_name</th>\n",
              "      <th></th>\n",
              "    </tr>\n",
              "  </thead>\n",
              "  <tbody>\n",
              "    <tr>\n",
              "      <th>Shake Shack</th>\n",
              "      <td>219</td>\n",
              "    </tr>\n",
              "    <tr>\n",
              "      <th>The Meatball Shop</th>\n",
              "      <td>132</td>\n",
              "    </tr>\n",
              "    <tr>\n",
              "      <th>Blue Ribbon Sushi</th>\n",
              "      <td>119</td>\n",
              "    </tr>\n",
              "    <tr>\n",
              "      <th>Blue Ribbon Fried Chicken</th>\n",
              "      <td>96</td>\n",
              "    </tr>\n",
              "    <tr>\n",
              "      <th>Parm</th>\n",
              "      <td>68</td>\n",
              "    </tr>\n",
              "  </tbody>\n",
              "</table>\n",
              "</div><br><label><b>dtype:</b> int64</label>"
            ]
          },
          "metadata": {},
          "execution_count": 40
        }
      ],
      "source": [
        "# Get top 5 restaurants with highest number of orders\n",
        "df['restaurant_name'].value_counts().head(5) # Complete the code"
      ]
    },
    {
      "cell_type": "markdown",
      "metadata": {
        "id": "OV26KAC42rdN"
      },
      "source": [
        "### **Question 8:** Which is the most popular cuisine on weekends? [1 mark]"
      ]
    },
    {
      "cell_type": "code",
      "execution_count": 43,
      "metadata": {
        "id": "BqL62Kuu2rdN",
        "colab": {
          "base_uri": "https://localhost:8080/",
          "height": 554
        },
        "outputId": "d7e7e423-f311-4d68-907c-c71c60df06d6"
      },
      "outputs": [
        {
          "output_type": "execute_result",
          "data": {
            "text/plain": [
              "cuisine_type\n",
              "American          415\n",
              "Japanese          335\n",
              "Italian           207\n",
              "Chinese           163\n",
              "Mexican            53\n",
              "Indian             49\n",
              "Mediterranean      32\n",
              "Middle Eastern     32\n",
              "Thai               15\n",
              "French             13\n",
              "Korean             11\n",
              "Southern           11\n",
              "Spanish            11\n",
              "Vietnamese          4\n",
              "Name: count, dtype: int64"
            ],
            "text/html": [
              "<div>\n",
              "<style scoped>\n",
              "    .dataframe tbody tr th:only-of-type {\n",
              "        vertical-align: middle;\n",
              "    }\n",
              "\n",
              "    .dataframe tbody tr th {\n",
              "        vertical-align: top;\n",
              "    }\n",
              "\n",
              "    .dataframe thead th {\n",
              "        text-align: right;\n",
              "    }\n",
              "</style>\n",
              "<table border=\"1\" class=\"dataframe\">\n",
              "  <thead>\n",
              "    <tr style=\"text-align: right;\">\n",
              "      <th></th>\n",
              "      <th>count</th>\n",
              "    </tr>\n",
              "    <tr>\n",
              "      <th>cuisine_type</th>\n",
              "      <th></th>\n",
              "    </tr>\n",
              "  </thead>\n",
              "  <tbody>\n",
              "    <tr>\n",
              "      <th>American</th>\n",
              "      <td>415</td>\n",
              "    </tr>\n",
              "    <tr>\n",
              "      <th>Japanese</th>\n",
              "      <td>335</td>\n",
              "    </tr>\n",
              "    <tr>\n",
              "      <th>Italian</th>\n",
              "      <td>207</td>\n",
              "    </tr>\n",
              "    <tr>\n",
              "      <th>Chinese</th>\n",
              "      <td>163</td>\n",
              "    </tr>\n",
              "    <tr>\n",
              "      <th>Mexican</th>\n",
              "      <td>53</td>\n",
              "    </tr>\n",
              "    <tr>\n",
              "      <th>Indian</th>\n",
              "      <td>49</td>\n",
              "    </tr>\n",
              "    <tr>\n",
              "      <th>Mediterranean</th>\n",
              "      <td>32</td>\n",
              "    </tr>\n",
              "    <tr>\n",
              "      <th>Middle Eastern</th>\n",
              "      <td>32</td>\n",
              "    </tr>\n",
              "    <tr>\n",
              "      <th>Thai</th>\n",
              "      <td>15</td>\n",
              "    </tr>\n",
              "    <tr>\n",
              "      <th>French</th>\n",
              "      <td>13</td>\n",
              "    </tr>\n",
              "    <tr>\n",
              "      <th>Korean</th>\n",
              "      <td>11</td>\n",
              "    </tr>\n",
              "    <tr>\n",
              "      <th>Southern</th>\n",
              "      <td>11</td>\n",
              "    </tr>\n",
              "    <tr>\n",
              "      <th>Spanish</th>\n",
              "      <td>11</td>\n",
              "    </tr>\n",
              "    <tr>\n",
              "      <th>Vietnamese</th>\n",
              "      <td>4</td>\n",
              "    </tr>\n",
              "  </tbody>\n",
              "</table>\n",
              "</div><br><label><b>dtype:</b> int64</label>"
            ]
          },
          "metadata": {},
          "execution_count": 43
        }
      ],
      "source": [
        "# Get most popular cuisine on weekends\n",
        "df_weekend = df[df['day_of_the_week'] == 'Weekend']\n",
        "df_weekend['cuisine_type'].value_counts()  # Complete the code to check unique values for the cuisine type on weekend"
      ]
    },
    {
      "cell_type": "markdown",
      "metadata": {
        "id": "UPFNE6Da2rdN"
      },
      "source": [
        "### **Question 9:** What percentage of the orders cost more than 20 dollars? [2 marks]"
      ]
    },
    {
      "cell_type": "code",
      "execution_count": 44,
      "metadata": {
        "id": "gHlH53rJ2rdN",
        "colab": {
          "base_uri": "https://localhost:8080/"
        },
        "outputId": "069525bd-352a-42f9-c033-1c2d792187c8"
      },
      "outputs": [
        {
          "output_type": "stream",
          "name": "stdout",
          "text": [
            "The number of total orders that cost above 20 dollars is: 555\n",
            "Percentage of orders above 20 dollars: 29.24 %\n"
          ]
        }
      ],
      "source": [
        "# Get orders that cost above 20 dollars\n",
        "df_greater_than_20 = df[df['cost_of_the_order']>20] # Write the appropriate column name to get the orders having cost above $20\n",
        "\n",
        "# Calculate the number of total orders where the cost is above 20 dollars\n",
        "print('The number of total orders that cost above 20 dollars is:', df_greater_than_20.shape[0])\n",
        "\n",
        "# Calculate percentage of such orders in the dataset\n",
        "percentage = (df_greater_than_20.shape[0] / df.shape[0]) * 100\n",
        "\n",
        "print(\"Percentage of orders above 20 dollars:\", round(percentage, 2), '%')"
      ]
    },
    {
      "cell_type": "markdown",
      "metadata": {
        "id": "rmOXTij42rdN"
      },
      "source": [
        "### **Question 10:** What is the mean order delivery time? [1 mark]"
      ]
    },
    {
      "cell_type": "code",
      "execution_count": 46,
      "metadata": {
        "id": "733fsOoO2rdN",
        "colab": {
          "base_uri": "https://localhost:8080/"
        },
        "outputId": "676e8849-dca9-49d9-b8e4-11ccbd40fb49"
      },
      "outputs": [
        {
          "output_type": "stream",
          "name": "stdout",
          "text": [
            "The mean delivery time for this dataset is 24.16 minutes\n"
          ]
        }
      ],
      "source": [
        "# Get the mean delivery time\n",
        "mean_del_time = df['delivery_time'].mean()  # Write the appropriate function to obtain the mean delivery time\n",
        "\n",
        "print('The mean delivery time for this dataset is', round(mean_del_time, 2), 'minutes')"
      ]
    },
    {
      "cell_type": "markdown",
      "metadata": {
        "id": "7C_G-BEy2rdO"
      },
      "source": [
        "### **Question 11:** The company has decided to give 20% discount vouchers to the top 3 most frequent customers. Find the IDs of these customers and the number of orders they placed. [1 mark]"
      ]
    },
    {
      "cell_type": "code",
      "execution_count": null,
      "metadata": {
        "id": "U-husHb6F5lY"
      },
      "outputs": [],
      "source": [
        "# Get the counts of each customer_id\n",
        "df['_______'].value_counts().head(3)  # Write the appropriate column name to get the 5 most frequent customers"
      ]
    },
    {
      "cell_type": "markdown",
      "metadata": {
        "id": "4ceeYAVy2rdO"
      },
      "source": [
        "### Multivariate Analysis"
      ]
    },
    {
      "cell_type": "markdown",
      "metadata": {
        "id": "h-gdOXrS2rdO"
      },
      "source": [
        "### **Question 12:** Perform a multivariate analysis to explore relationships between the important variables in the dataset. (It is a good idea to explore relations between numerical variables as well as relations between numerical and categorical variables) [10 marks]"
      ]
    },
    {
      "cell_type": "markdown",
      "metadata": {
        "id": "sTYfSbdR2rdO"
      },
      "source": [
        "#### Cuisine vs Cost of the order"
      ]
    },
    {
      "cell_type": "code",
      "execution_count": null,
      "metadata": {
        "id": "wzJpBxZQ2rdP"
      },
      "outputs": [],
      "source": [
        "# Relationship between cost of the order and cuisine type\n",
        "plt.figure(figsize=(15,7))\n",
        "sns.boxplot(x = \"cuisine_type\", y = \"cost_of_the_order\", data = df, palette = 'PuBu')\n",
        "plt.xticks(rotation = 60)\n",
        "plt.show()"
      ]
    },
    {
      "cell_type": "markdown",
      "metadata": {
        "id": "cmf4oTiB2rdQ"
      },
      "source": [
        "#### Cuisine vs Food Preparation time"
      ]
    },
    {
      "cell_type": "code",
      "execution_count": null,
      "metadata": {
        "id": "cfeDWTgN2rdQ",
        "scrolled": true
      },
      "outputs": [],
      "source": [
        "# Relationship between food preparation time and cuisine type\n",
        "plt.figure(figsize=(15,7))\n",
        "sns.boxplot('_______')  # Complete the code to visualize the relationship between food preparation time and cuisine type using boxplot\n",
        "plt.xticks(rotation = 60)\n",
        "plt.show()"
      ]
    },
    {
      "cell_type": "markdown",
      "metadata": {
        "id": "28L5vjZw2rdQ"
      },
      "source": [
        "#### Day of the Week vs Delivery time"
      ]
    },
    {
      "cell_type": "code",
      "execution_count": null,
      "metadata": {
        "id": "fG3QyQ452rdQ",
        "scrolled": true
      },
      "outputs": [],
      "source": [
        "# Relationship between day of the week and delivery time\n",
        "plt.figure(figsize=(15,7))\n",
        "sns.boxplot('_______')  # Complete the code to visualize the relationship between day of the week and delivery time using boxplot\n",
        "plt.show()"
      ]
    },
    {
      "cell_type": "markdown",
      "metadata": {
        "id": "UnppMp022rdQ"
      },
      "source": [
        "#### Run the below code and write your observations on the revenue generated by the restaurants."
      ]
    },
    {
      "cell_type": "code",
      "execution_count": null,
      "metadata": {
        "id": "LaDfuzIt2rdR",
        "scrolled": false
      },
      "outputs": [],
      "source": [
        "df.groupby(['restaurant_name'])['cost_of_the_order'].sum().sort_values(ascending = False).head(14)"
      ]
    },
    {
      "cell_type": "markdown",
      "metadata": {
        "id": "lu0o5GkQ2rdR"
      },
      "source": [
        "#### Rating vs Delivery time"
      ]
    },
    {
      "cell_type": "code",
      "execution_count": null,
      "metadata": {
        "id": "NoBGHlPR2rdR",
        "scrolled": true
      },
      "outputs": [],
      "source": [
        "# Relationship between rating and delivery time\n",
        "plt.figure(figsize=(15, 7))\n",
        "sns.pointplot(x = 'rating', y = 'delivery_time', data = df)\n",
        "plt.show()"
      ]
    },
    {
      "cell_type": "markdown",
      "metadata": {
        "id": "EUW_xUEK2rdR"
      },
      "source": [
        "#### Rating vs Food preparation time"
      ]
    },
    {
      "cell_type": "code",
      "execution_count": null,
      "metadata": {
        "id": "d7qzVLdE2rdR",
        "scrolled": true
      },
      "outputs": [],
      "source": [
        "# Relationship between rating and food preparation time\n",
        "plt.figure(figsize=(15, 7))\n",
        "sns.pointplot('_______')  # Complete the code to visualize the relationship between rating and food preparation time using pointplot\n",
        "plt.show()"
      ]
    },
    {
      "cell_type": "markdown",
      "metadata": {
        "id": "x1xcxS6h2rdS"
      },
      "source": [
        "#### Rating vs Cost of the order"
      ]
    },
    {
      "cell_type": "code",
      "execution_count": null,
      "metadata": {
        "id": "QV1lg0_72rdS"
      },
      "outputs": [],
      "source": [
        "# Relationship between rating and cost of the order\n",
        "plt.figure(figsize=(15, 7))\n",
        "sns.pointplot('_______')   # Complete the code to visualize the relationship between rating and cost of the order using pointplot\n",
        "plt.show()"
      ]
    },
    {
      "cell_type": "markdown",
      "metadata": {
        "id": "N1ATzdSX2rdS"
      },
      "source": [
        "#### Correlation among variables"
      ]
    },
    {
      "cell_type": "code",
      "execution_count": null,
      "metadata": {
        "id": "I4yA0y032rdS",
        "scrolled": true
      },
      "outputs": [],
      "source": [
        "# Plot the heatmap\n",
        "col_list = ['cost_of_the_order', 'food_preparation_time', 'delivery_time']\n",
        "plt.figure(figsize=(15, 7))\n",
        "sns.heatmap(df[col_list].corr(), annot=True, vmin=-1, vmax=1, fmt=\".2f\", cmap=\"Spectral\")\n",
        "plt.show()"
      ]
    },
    {
      "cell_type": "markdown",
      "metadata": {
        "id": "zwBb5dAq2rdS"
      },
      "source": [
        "### **Question 13:** The company wants to provide a promotional offer in the advertisement of the restaurants. The condition to get the offer is that the restaurants must have a rating count of more than 50 and the average rating should be greater than 4. Find the restaurants fulfilling the criteria to get the promotional offer. [3 marks]"
      ]
    },
    {
      "cell_type": "code",
      "execution_count": null,
      "metadata": {
        "id": "4jQUoQ812rdS",
        "scrolled": true
      },
      "outputs": [],
      "source": [
        "# Filter the rated restaurants\n",
        "df_rated = df[df['rating'] != 'Not given'].copy()\n",
        "\n",
        "# Convert rating column from object to integer\n",
        "df_rated['rating'] = df_rated['rating'].astype('int')\n",
        "\n",
        "# Create a dataframe that contains the restaurant names with their rating counts\n",
        "df_rating_count = df_rated.groupby(['restaurant_name'])['rating'].count().sort_values(ascending = False).reset_index()\n",
        "df_rating_count.head()"
      ]
    },
    {
      "cell_type": "code",
      "execution_count": null,
      "metadata": {
        "id": "VLdgfwoL2rdT"
      },
      "outputs": [],
      "source": [
        "# Get the restaurant names that have rating count more than 50\n",
        "rest_names = df_rating_count['______________']['restaurant_name'] # Complete the code to get the restaurant names having rating count more than 50\n",
        "\n",
        "# Filter to get the data of restaurants that have rating count more than 50\n",
        "df_mean_4 = df_rated[df_rated['restaurant_name'].isin(rest_names)].copy()\n",
        "\n",
        "# Group the restaurant names with their ratings and find the mean rating of each restaurant\n",
        "df_mean_4.groupby(['_______'])['_______'].mean().sort_values(ascending = False).reset_index().dropna() # Complete the code to find the mean rating\n"
      ]
    },
    {
      "cell_type": "markdown",
      "metadata": {
        "id": "UYq_xMk72rdT"
      },
      "source": [
        "### **Question 14:** The company charges the restaurant 25% on the orders having cost greater than 20 dollars and 15% on the orders having cost greater than 5 dollars. Find the net revenue generated by the company across all orders. [3 marks]"
      ]
    },
    {
      "cell_type": "code",
      "execution_count": null,
      "metadata": {
        "id": "We7SLKbr2rdT"
      },
      "outputs": [],
      "source": [
        "# Function to determine the revenue\n",
        "def compute_rev(x):\n",
        "    if x > 20:\n",
        "        return x*0.25\n",
        "    elif x > 5:\n",
        "        return x*0.15\n",
        "    else:\n",
        "        return x*0\n",
        "\n",
        "df['Revenue'] = df['________'].apply(compute_rev) # Write the apprpriate column name to compute the revenue\n",
        "df.head()"
      ]
    },
    {
      "cell_type": "code",
      "execution_count": null,
      "metadata": {
        "id": "Ab_UW6kRIAk3"
      },
      "outputs": [],
      "source": [
        "# Get the total revenue and print it\n",
        "total_rev = df['Revenue'].______ # Write the appropriate function to get the total revenue\n",
        "print('The net revenue is around', round(total_rev, 2), 'dollars')"
      ]
    },
    {
      "cell_type": "markdown",
      "metadata": {
        "id": "LZy7Tky82rdT"
      },
      "source": [
        "### **Question 15:** The company wants to analyze the total time required to deliver the food. What percentage of orders take more than 60 minutes to get delivered from the time the order is placed? (The food has to be prepared and then delivered.) [2 marks]\n"
      ]
    },
    {
      "cell_type": "code",
      "execution_count": null,
      "metadata": {
        "id": "Ati2ZEEE2rdT"
      },
      "outputs": [],
      "source": [
        "# Calculate total delivery time and add a new column to the dataframe df to store the total delivery time\n",
        "df['total_time'] = df['food_preparation_time'] + df['delivery_time']\n",
        "\n",
        "\n",
        "# Write the code below to find the percentage of orders that have more than 60 minutes of total delivery time (see Question 9 for reference)\n",
        "\n",
        "\n",
        "\n"
      ]
    },
    {
      "cell_type": "markdown",
      "metadata": {
        "id": "SYOKcqNF2rdU"
      },
      "source": [
        "### **Question 16:** The company wants to analyze the delivery time of the orders on weekdays and weekends. How does the mean delivery time vary during weekdays and weekends? [2 marks]"
      ]
    },
    {
      "cell_type": "code",
      "execution_count": null,
      "metadata": {
        "id": "A2eovxKR2rdU"
      },
      "outputs": [],
      "source": [
        "# Get the mean delivery time on weekdays and print it\n",
        "print('The mean delivery time on weekdays is around',\n",
        "      round(df[df['day_of_the_week'] == 'Weekday']['delivery_time'].mean()),\n",
        "     'minutes')\n",
        "\n",
        "# Write the code below to get the mean delivery time on weekends and print it\n",
        "\n",
        "\n",
        "\n",
        "\n"
      ]
    },
    {
      "cell_type": "markdown",
      "metadata": {
        "id": "2nE3pq472rdU"
      },
      "source": [
        "### Conclusion and Recommendations"
      ]
    },
    {
      "cell_type": "markdown",
      "metadata": {
        "id": "DL1sNndy2rdU"
      },
      "source": [
        "### **Question 17:** What are your conclusions from the analysis? What recommendations would you like to share to help improve the business? (You can use cuisine type and feedback ratings to drive your business recommendations.) [6 marks]"
      ]
    },
    {
      "cell_type": "markdown",
      "metadata": {
        "id": "VTugVsL4Ddz-"
      },
      "source": [
        "### Conclusions:\n",
        "*  "
      ]
    },
    {
      "cell_type": "markdown",
      "metadata": {
        "id": "PWnsI0i_guWJ"
      },
      "source": [
        "### Recommendations:\n",
        "\n",
        "*  "
      ]
    },
    {
      "cell_type": "markdown",
      "metadata": {
        "id": "Kvk0Fh6WhMjU"
      },
      "source": [
        "---"
      ]
    }
  ],
  "metadata": {
    "colab": {
      "collapsed_sections": [
        "LUh8hTiW2rdH",
        "2Dl2aL1W2rdI",
        "4ceeYAVy2rdO",
        "lu0o5GkQ2rdR",
        "2nE3pq472rdU",
        "DL1sNndy2rdU"
      ],
      "name": "PYF_Project_LearnerNotebook_LowCode.ipynb",
      "provenance": []
    },
    "hide_input": false,
    "kernelspec": {
      "display_name": "Python 3 (ipykernel)",
      "language": "python",
      "name": "python3"
    },
    "language_info": {
      "codemirror_mode": {
        "name": "ipython",
        "version": 3
      },
      "file_extension": ".py",
      "mimetype": "text/x-python",
      "name": "python",
      "nbconvert_exporter": "python",
      "pygments_lexer": "ipython3",
      "version": "3.9.7"
    },
    "toc": {
      "base_numbering": 1,
      "nav_menu": {},
      "number_sections": true,
      "sideBar": true,
      "skip_h1_title": false,
      "title_cell": "Table of Contents",
      "title_sidebar": "Contents",
      "toc_cell": false,
      "toc_position": {},
      "toc_section_display": true,
      "toc_window_display": false
    },
    "varInspector": {
      "cols": {
        "lenName": 16,
        "lenType": 16,
        "lenVar": 40
      },
      "kernels_config": {
        "python": {
          "delete_cmd_postfix": "",
          "delete_cmd_prefix": "del ",
          "library": "var_list.py",
          "varRefreshCmd": "print(var_dic_list())"
        },
        "r": {
          "delete_cmd_postfix": ") ",
          "delete_cmd_prefix": "rm(",
          "library": "var_list.r",
          "varRefreshCmd": "cat(var_dic_list()) "
        }
      },
      "types_to_exclude": [
        "module",
        "function",
        "builtin_function_or_method",
        "instance",
        "_Feature"
      ],
      "window_display": false
    }
  },
  "nbformat": 4,
  "nbformat_minor": 0
}