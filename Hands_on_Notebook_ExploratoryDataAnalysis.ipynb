{
  "cells": [
    {
      "cell_type": "markdown",
      "metadata": {
        "id": "nbJ2tkPtBwrT"
      },
      "source": [
        "## Context\n",
        "The dataset provided is from the city of Melbourne and contains the different attributes of the properties there and the locations in which they are located. The aim is to perform a detailed analysis of this dataset and provide useful insights to facilitate the process of buying and selling real estate."
      ]
    },
    {
      "cell_type": "markdown",
      "metadata": {
        "id": "CVuCWd13RFDS"
      },
      "source": [
        "## Data Description:\n",
        "\n",
        "The detailed data dictionary is given below:\n",
        "\n",
        "* Suburb - Suburb in which the property is located\n",
        "* Rooms - Number of rooms in the property\n",
        "* Type - Type of the property like\n",
        "    * h - house,cottage,villa, semi,terrace,\n",
        "    * t - townhouse,\n",
        "    * u - unit, duplex\n",
        "* SellerG - Name of the real estate agent who sold the property\n",
        "* Date - Date on which the property was sold\n",
        "* Distance - Distance of the property from CBD in kilometres. CBD is the central business district of the city.\n",
        "* Postcode - Postcode of the area\n",
        "* Bedroom - Number of bedrooms in the property\n",
        "* Bathroom - Number of bathrooms in the property\n",
        "* Car - Number of car parking spaces in the property\n",
        "* Landsize - Size of the land in square metres\n",
        "* BuildingArea - Size of the building in square metres (Generally, building size is smaller than land size since someone can have personal gardens and other things in the property.)\n",
        "* YearBuilt - Year in which the building was built\n",
        "* Regionname - Name of the region in which the property is located like Eastern Metropolitan, Western Metropolitan, Northern Victoria etc.\n",
        "* Propertycount - Number of properties that are present in the suburb\n",
        "* Price - price (in AUD) at which the property was sold"
      ]
    },
    {
      "cell_type": "markdown",
      "metadata": {
        "id": "JffhyoX0BwrY"
      },
      "source": [
        "### 4.1 Sanity Checks"
      ]
    },
    {
      "cell_type": "markdown",
      "metadata": {
        "id": "ZDAT5-bUySBT"
      },
      "source": [
        "**Importing necessary libraries**"
      ]
    },
    {
      "cell_type": "code",
      "execution_count": 1,
      "metadata": {
        "id": "p1SFUqTLxEGM"
      },
      "outputs": [],
      "source": [
        "# Libraries to help with reading and manipulating data\n",
        "import numpy as np\n",
        "import pandas as pd\n",
        "\n",
        "# Libraries to help with data visualization\n",
        "import matplotlib.pyplot as plt\n",
        "import seaborn as sns\n",
        "\n",
        "# to restrict the float value to 3 decimal places\n",
        "pd.set_option('display.float_format', lambda x: '%.3f' % x)"
      ]
    },
    {
      "cell_type": "code",
      "execution_count": 2,
      "metadata": {
        "id": "zqTR-3E-UmXf",
        "colab": {
          "base_uri": "https://localhost:8080/"
        },
        "outputId": "4ab440bb-9b71-42cb-a9bc-2c3c81b5e856"
      },
      "outputs": [
        {
          "output_type": "stream",
          "name": "stdout",
          "text": [
            "Mounted at /content/drive\n"
          ]
        }
      ],
      "source": [
        "# let colab access my google drive\n",
        "from google.colab import drive\n",
        "drive.mount('/content/drive')"
      ]
    },
    {
      "cell_type": "code",
      "source": [
        "from google.colab import drive\n",
        "drive.mount('/content/drive')"
      ],
      "metadata": {
        "colab": {
          "base_uri": "https://localhost:8080/"
        },
        "id": "T4o9KykZNRkc",
        "outputId": "0712cc00-8486-4306-b8d6-b1f61ac6e159"
      },
      "execution_count": 3,
      "outputs": [
        {
          "output_type": "stream",
          "name": "stdout",
          "text": [
            "Drive already mounted at /content/drive; to attempt to forcibly remount, call drive.mount(\"/content/drive\", force_remount=True).\n"
          ]
        }
      ]
    },
    {
      "cell_type": "markdown",
      "metadata": {
        "id": "L1ASy9VcBwrZ"
      },
      "source": [
        "**Importing the dataset**"
      ]
    },
    {
      "cell_type": "code",
      "execution_count": 4,
      "metadata": {
        "id": "fs8O2toYxxIR"
      },
      "outputs": [],
      "source": [
        "data = pd.read_csv('/content/drive/MyDrive/Python Course/Melbourne_Housing.csv')"
      ]
    },
    {
      "cell_type": "markdown",
      "metadata": {
        "id": "-xSWBd6u1K-L"
      },
      "source": [
        "**View the first and last 5 rows of the dataset**"
      ]
    },
    {
      "cell_type": "code",
      "execution_count": 5,
      "metadata": {
        "id": "_4po-gylys02",
        "colab": {
          "base_uri": "https://localhost:8080/",
          "height": 289
        },
        "outputId": "fe82dd28-e013-4c8c-e1e7-304e210b49f5"
      },
      "outputs": [
        {
          "output_type": "execute_result",
          "data": {
            "text/plain": [
              "         Suburb  Rooms Type        SellerG        Date  Distance  Postcode  \\\n",
              "0  Airport West      3    t         Nelson  03-09-2016    13.500  3042.000   \n",
              "1   Albert Park      2    h  hockingstuart  03-09-2016     3.300  3206.000   \n",
              "2   Albert Park      2    h        Thomson  03-09-2016     3.300  3206.000   \n",
              "3    Alphington      4    h          Brace  03-09-2016     6.400  3078.000   \n",
              "4    Alphington      3    h         Jellis  03-09-2016     6.400  3078.000   \n",
              "\n",
              "   Bedroom  Bathroom   Car  Landsize BuildingArea  YearBuilt  \\\n",
              "0    3.000     2.000 1.000   303.000          225   2016.000   \n",
              "1    2.000     1.000 0.000   120.000           82   1900.000   \n",
              "2    2.000     1.000 0.000   159.000          inf        NaN   \n",
              "3    3.000     2.000 4.000   853.000          263   1930.000   \n",
              "4    3.000     2.000 2.000   208.000          inf   2013.000   \n",
              "\n",
              "              Regionname  Propertycount    Price  \n",
              "0   Western Metropolitan           3464   840000  \n",
              "1  Southern Metropolitan           3280  1275000  \n",
              "2  Southern Metropolitan           3280  1455000  \n",
              "3  Northern Metropolitan           2211  2000000  \n",
              "4  Northern Metropolitan           2211  1110000  "
            ],
            "text/html": [
              "\n",
              "  <div id=\"df-081b5b69-ee66-4130-80d8-708b53cf91b4\" class=\"colab-df-container\">\n",
              "    <div>\n",
              "<style scoped>\n",
              "    .dataframe tbody tr th:only-of-type {\n",
              "        vertical-align: middle;\n",
              "    }\n",
              "\n",
              "    .dataframe tbody tr th {\n",
              "        vertical-align: top;\n",
              "    }\n",
              "\n",
              "    .dataframe thead th {\n",
              "        text-align: right;\n",
              "    }\n",
              "</style>\n",
              "<table border=\"1\" class=\"dataframe\">\n",
              "  <thead>\n",
              "    <tr style=\"text-align: right;\">\n",
              "      <th></th>\n",
              "      <th>Suburb</th>\n",
              "      <th>Rooms</th>\n",
              "      <th>Type</th>\n",
              "      <th>SellerG</th>\n",
              "      <th>Date</th>\n",
              "      <th>Distance</th>\n",
              "      <th>Postcode</th>\n",
              "      <th>Bedroom</th>\n",
              "      <th>Bathroom</th>\n",
              "      <th>Car</th>\n",
              "      <th>Landsize</th>\n",
              "      <th>BuildingArea</th>\n",
              "      <th>YearBuilt</th>\n",
              "      <th>Regionname</th>\n",
              "      <th>Propertycount</th>\n",
              "      <th>Price</th>\n",
              "    </tr>\n",
              "  </thead>\n",
              "  <tbody>\n",
              "    <tr>\n",
              "      <th>0</th>\n",
              "      <td>Airport West</td>\n",
              "      <td>3</td>\n",
              "      <td>t</td>\n",
              "      <td>Nelson</td>\n",
              "      <td>03-09-2016</td>\n",
              "      <td>13.500</td>\n",
              "      <td>3042.000</td>\n",
              "      <td>3.000</td>\n",
              "      <td>2.000</td>\n",
              "      <td>1.000</td>\n",
              "      <td>303.000</td>\n",
              "      <td>225</td>\n",
              "      <td>2016.000</td>\n",
              "      <td>Western Metropolitan</td>\n",
              "      <td>3464</td>\n",
              "      <td>840000</td>\n",
              "    </tr>\n",
              "    <tr>\n",
              "      <th>1</th>\n",
              "      <td>Albert Park</td>\n",
              "      <td>2</td>\n",
              "      <td>h</td>\n",
              "      <td>hockingstuart</td>\n",
              "      <td>03-09-2016</td>\n",
              "      <td>3.300</td>\n",
              "      <td>3206.000</td>\n",
              "      <td>2.000</td>\n",
              "      <td>1.000</td>\n",
              "      <td>0.000</td>\n",
              "      <td>120.000</td>\n",
              "      <td>82</td>\n",
              "      <td>1900.000</td>\n",
              "      <td>Southern Metropolitan</td>\n",
              "      <td>3280</td>\n",
              "      <td>1275000</td>\n",
              "    </tr>\n",
              "    <tr>\n",
              "      <th>2</th>\n",
              "      <td>Albert Park</td>\n",
              "      <td>2</td>\n",
              "      <td>h</td>\n",
              "      <td>Thomson</td>\n",
              "      <td>03-09-2016</td>\n",
              "      <td>3.300</td>\n",
              "      <td>3206.000</td>\n",
              "      <td>2.000</td>\n",
              "      <td>1.000</td>\n",
              "      <td>0.000</td>\n",
              "      <td>159.000</td>\n",
              "      <td>inf</td>\n",
              "      <td>NaN</td>\n",
              "      <td>Southern Metropolitan</td>\n",
              "      <td>3280</td>\n",
              "      <td>1455000</td>\n",
              "    </tr>\n",
              "    <tr>\n",
              "      <th>3</th>\n",
              "      <td>Alphington</td>\n",
              "      <td>4</td>\n",
              "      <td>h</td>\n",
              "      <td>Brace</td>\n",
              "      <td>03-09-2016</td>\n",
              "      <td>6.400</td>\n",
              "      <td>3078.000</td>\n",
              "      <td>3.000</td>\n",
              "      <td>2.000</td>\n",
              "      <td>4.000</td>\n",
              "      <td>853.000</td>\n",
              "      <td>263</td>\n",
              "      <td>1930.000</td>\n",
              "      <td>Northern Metropolitan</td>\n",
              "      <td>2211</td>\n",
              "      <td>2000000</td>\n",
              "    </tr>\n",
              "    <tr>\n",
              "      <th>4</th>\n",
              "      <td>Alphington</td>\n",
              "      <td>3</td>\n",
              "      <td>h</td>\n",
              "      <td>Jellis</td>\n",
              "      <td>03-09-2016</td>\n",
              "      <td>6.400</td>\n",
              "      <td>3078.000</td>\n",
              "      <td>3.000</td>\n",
              "      <td>2.000</td>\n",
              "      <td>2.000</td>\n",
              "      <td>208.000</td>\n",
              "      <td>inf</td>\n",
              "      <td>2013.000</td>\n",
              "      <td>Northern Metropolitan</td>\n",
              "      <td>2211</td>\n",
              "      <td>1110000</td>\n",
              "    </tr>\n",
              "  </tbody>\n",
              "</table>\n",
              "</div>\n",
              "    <div class=\"colab-df-buttons\">\n",
              "\n",
              "  <div class=\"colab-df-container\">\n",
              "    <button class=\"colab-df-convert\" onclick=\"convertToInteractive('df-081b5b69-ee66-4130-80d8-708b53cf91b4')\"\n",
              "            title=\"Convert this dataframe to an interactive table.\"\n",
              "            style=\"display:none;\">\n",
              "\n",
              "  <svg xmlns=\"http://www.w3.org/2000/svg\" height=\"24px\" viewBox=\"0 -960 960 960\">\n",
              "    <path d=\"M120-120v-720h720v720H120Zm60-500h600v-160H180v160Zm220 220h160v-160H400v160Zm0 220h160v-160H400v160ZM180-400h160v-160H180v160Zm440 0h160v-160H620v160ZM180-180h160v-160H180v160Zm440 0h160v-160H620v160Z\"/>\n",
              "  </svg>\n",
              "    </button>\n",
              "\n",
              "  <style>\n",
              "    .colab-df-container {\n",
              "      display:flex;\n",
              "      gap: 12px;\n",
              "    }\n",
              "\n",
              "    .colab-df-convert {\n",
              "      background-color: #E8F0FE;\n",
              "      border: none;\n",
              "      border-radius: 50%;\n",
              "      cursor: pointer;\n",
              "      display: none;\n",
              "      fill: #1967D2;\n",
              "      height: 32px;\n",
              "      padding: 0 0 0 0;\n",
              "      width: 32px;\n",
              "    }\n",
              "\n",
              "    .colab-df-convert:hover {\n",
              "      background-color: #E2EBFA;\n",
              "      box-shadow: 0px 1px 2px rgba(60, 64, 67, 0.3), 0px 1px 3px 1px rgba(60, 64, 67, 0.15);\n",
              "      fill: #174EA6;\n",
              "    }\n",
              "\n",
              "    .colab-df-buttons div {\n",
              "      margin-bottom: 4px;\n",
              "    }\n",
              "\n",
              "    [theme=dark] .colab-df-convert {\n",
              "      background-color: #3B4455;\n",
              "      fill: #D2E3FC;\n",
              "    }\n",
              "\n",
              "    [theme=dark] .colab-df-convert:hover {\n",
              "      background-color: #434B5C;\n",
              "      box-shadow: 0px 1px 3px 1px rgba(0, 0, 0, 0.15);\n",
              "      filter: drop-shadow(0px 1px 2px rgba(0, 0, 0, 0.3));\n",
              "      fill: #FFFFFF;\n",
              "    }\n",
              "  </style>\n",
              "\n",
              "    <script>\n",
              "      const buttonEl =\n",
              "        document.querySelector('#df-081b5b69-ee66-4130-80d8-708b53cf91b4 button.colab-df-convert');\n",
              "      buttonEl.style.display =\n",
              "        google.colab.kernel.accessAllowed ? 'block' : 'none';\n",
              "\n",
              "      async function convertToInteractive(key) {\n",
              "        const element = document.querySelector('#df-081b5b69-ee66-4130-80d8-708b53cf91b4');\n",
              "        const dataTable =\n",
              "          await google.colab.kernel.invokeFunction('convertToInteractive',\n",
              "                                                    [key], {});\n",
              "        if (!dataTable) return;\n",
              "\n",
              "        const docLinkHtml = 'Like what you see? Visit the ' +\n",
              "          '<a target=\"_blank\" href=https://colab.research.google.com/notebooks/data_table.ipynb>data table notebook</a>'\n",
              "          + ' to learn more about interactive tables.';\n",
              "        element.innerHTML = '';\n",
              "        dataTable['output_type'] = 'display_data';\n",
              "        await google.colab.output.renderOutput(dataTable, element);\n",
              "        const docLink = document.createElement('div');\n",
              "        docLink.innerHTML = docLinkHtml;\n",
              "        element.appendChild(docLink);\n",
              "      }\n",
              "    </script>\n",
              "  </div>\n",
              "\n",
              "\n",
              "<div id=\"df-b96c2e78-1aa2-4b03-820f-973131ad2928\">\n",
              "  <button class=\"colab-df-quickchart\" onclick=\"quickchart('df-b96c2e78-1aa2-4b03-820f-973131ad2928')\"\n",
              "            title=\"Suggest charts\"\n",
              "            style=\"display:none;\">\n",
              "\n",
              "<svg xmlns=\"http://www.w3.org/2000/svg\" height=\"24px\"viewBox=\"0 0 24 24\"\n",
              "     width=\"24px\">\n",
              "    <g>\n",
              "        <path d=\"M19 3H5c-1.1 0-2 .9-2 2v14c0 1.1.9 2 2 2h14c1.1 0 2-.9 2-2V5c0-1.1-.9-2-2-2zM9 17H7v-7h2v7zm4 0h-2V7h2v10zm4 0h-2v-4h2v4z\"/>\n",
              "    </g>\n",
              "</svg>\n",
              "  </button>\n",
              "\n",
              "<style>\n",
              "  .colab-df-quickchart {\n",
              "      --bg-color: #E8F0FE;\n",
              "      --fill-color: #1967D2;\n",
              "      --hover-bg-color: #E2EBFA;\n",
              "      --hover-fill-color: #174EA6;\n",
              "      --disabled-fill-color: #AAA;\n",
              "      --disabled-bg-color: #DDD;\n",
              "  }\n",
              "\n",
              "  [theme=dark] .colab-df-quickchart {\n",
              "      --bg-color: #3B4455;\n",
              "      --fill-color: #D2E3FC;\n",
              "      --hover-bg-color: #434B5C;\n",
              "      --hover-fill-color: #FFFFFF;\n",
              "      --disabled-bg-color: #3B4455;\n",
              "      --disabled-fill-color: #666;\n",
              "  }\n",
              "\n",
              "  .colab-df-quickchart {\n",
              "    background-color: var(--bg-color);\n",
              "    border: none;\n",
              "    border-radius: 50%;\n",
              "    cursor: pointer;\n",
              "    display: none;\n",
              "    fill: var(--fill-color);\n",
              "    height: 32px;\n",
              "    padding: 0;\n",
              "    width: 32px;\n",
              "  }\n",
              "\n",
              "  .colab-df-quickchart:hover {\n",
              "    background-color: var(--hover-bg-color);\n",
              "    box-shadow: 0 1px 2px rgba(60, 64, 67, 0.3), 0 1px 3px 1px rgba(60, 64, 67, 0.15);\n",
              "    fill: var(--button-hover-fill-color);\n",
              "  }\n",
              "\n",
              "  .colab-df-quickchart-complete:disabled,\n",
              "  .colab-df-quickchart-complete:disabled:hover {\n",
              "    background-color: var(--disabled-bg-color);\n",
              "    fill: var(--disabled-fill-color);\n",
              "    box-shadow: none;\n",
              "  }\n",
              "\n",
              "  .colab-df-spinner {\n",
              "    border: 2px solid var(--fill-color);\n",
              "    border-color: transparent;\n",
              "    border-bottom-color: var(--fill-color);\n",
              "    animation:\n",
              "      spin 1s steps(1) infinite;\n",
              "  }\n",
              "\n",
              "  @keyframes spin {\n",
              "    0% {\n",
              "      border-color: transparent;\n",
              "      border-bottom-color: var(--fill-color);\n",
              "      border-left-color: var(--fill-color);\n",
              "    }\n",
              "    20% {\n",
              "      border-color: transparent;\n",
              "      border-left-color: var(--fill-color);\n",
              "      border-top-color: var(--fill-color);\n",
              "    }\n",
              "    30% {\n",
              "      border-color: transparent;\n",
              "      border-left-color: var(--fill-color);\n",
              "      border-top-color: var(--fill-color);\n",
              "      border-right-color: var(--fill-color);\n",
              "    }\n",
              "    40% {\n",
              "      border-color: transparent;\n",
              "      border-right-color: var(--fill-color);\n",
              "      border-top-color: var(--fill-color);\n",
              "    }\n",
              "    60% {\n",
              "      border-color: transparent;\n",
              "      border-right-color: var(--fill-color);\n",
              "    }\n",
              "    80% {\n",
              "      border-color: transparent;\n",
              "      border-right-color: var(--fill-color);\n",
              "      border-bottom-color: var(--fill-color);\n",
              "    }\n",
              "    90% {\n",
              "      border-color: transparent;\n",
              "      border-bottom-color: var(--fill-color);\n",
              "    }\n",
              "  }\n",
              "</style>\n",
              "\n",
              "  <script>\n",
              "    async function quickchart(key) {\n",
              "      const quickchartButtonEl =\n",
              "        document.querySelector('#' + key + ' button');\n",
              "      quickchartButtonEl.disabled = true;  // To prevent multiple clicks.\n",
              "      quickchartButtonEl.classList.add('colab-df-spinner');\n",
              "      try {\n",
              "        const charts = await google.colab.kernel.invokeFunction(\n",
              "            'suggestCharts', [key], {});\n",
              "      } catch (error) {\n",
              "        console.error('Error during call to suggestCharts:', error);\n",
              "      }\n",
              "      quickchartButtonEl.classList.remove('colab-df-spinner');\n",
              "      quickchartButtonEl.classList.add('colab-df-quickchart-complete');\n",
              "    }\n",
              "    (() => {\n",
              "      let quickchartButtonEl =\n",
              "        document.querySelector('#df-b96c2e78-1aa2-4b03-820f-973131ad2928 button');\n",
              "      quickchartButtonEl.style.display =\n",
              "        google.colab.kernel.accessAllowed ? 'block' : 'none';\n",
              "    })();\n",
              "  </script>\n",
              "</div>\n",
              "\n",
              "    </div>\n",
              "  </div>\n"
            ],
            "application/vnd.google.colaboratory.intrinsic+json": {
              "type": "dataframe",
              "variable_name": "data",
              "summary": "{\n  \"name\": \"data\",\n  \"rows\": 27114,\n  \"fields\": [\n    {\n      \"column\": \"Suburb\",\n      \"properties\": {\n        \"dtype\": \"category\",\n        \"num_unique_values\": 345,\n        \"samples\": [\n          \"Lalor\",\n          \"Clyde North\",\n          \"St Albans\"\n        ],\n        \"semantic_type\": \"\",\n        \"description\": \"\"\n      }\n    },\n    {\n      \"column\": \"Rooms\",\n      \"properties\": {\n        \"dtype\": \"number\",\n        \"std\": 0,\n        \"min\": 1,\n        \"max\": 16,\n        \"num_unique_values\": 12,\n        \"samples\": [\n          10,\n          12,\n          3\n        ],\n        \"semantic_type\": \"\",\n        \"description\": \"\"\n      }\n    },\n    {\n      \"column\": \"Type\",\n      \"properties\": {\n        \"dtype\": \"category\",\n        \"num_unique_values\": 3,\n        \"samples\": [\n          \"t\",\n          \"h\",\n          \"u\"\n        ],\n        \"semantic_type\": \"\",\n        \"description\": \"\"\n      }\n    },\n    {\n      \"column\": \"SellerG\",\n      \"properties\": {\n        \"dtype\": \"category\",\n        \"num_unique_values\": 347,\n        \"samples\": [\n          \"For\",\n          \"Crane\",\n          \"Bombay\"\n        ],\n        \"semantic_type\": \"\",\n        \"description\": \"\"\n      }\n    },\n    {\n      \"column\": \"Date\",\n      \"properties\": {\n        \"dtype\": \"category\",\n        \"num_unique_values\": 78,\n        \"samples\": [\n          \"13-08-2016\",\n          \"03-09-2016\",\n          \"14-05-2016\"\n        ],\n        \"semantic_type\": \"\",\n        \"description\": \"\"\n      }\n    },\n    {\n      \"column\": \"Distance\",\n      \"properties\": {\n        \"dtype\": \"number\",\n        \"std\": 6.783543507955722,\n        \"min\": 0.0,\n        \"max\": 48.1,\n        \"num_unique_values\": 213,\n        \"samples\": [\n          10.5,\n          34.9,\n          12.6\n        ],\n        \"semantic_type\": \"\",\n        \"description\": \"\"\n      }\n    },\n    {\n      \"column\": \"Postcode\",\n      \"properties\": {\n        \"dtype\": \"number\",\n        \"std\": 111.11427066150067,\n        \"min\": 3000.0,\n        \"max\": 3978.0,\n        \"num_unique_values\": 209,\n        \"samples\": [\n          3058.0,\n          3106.0,\n          3142.0\n        ],\n        \"semantic_type\": \"\",\n        \"description\": \"\"\n      }\n    },\n    {\n      \"column\": \"Bedroom\",\n      \"properties\": {\n        \"dtype\": \"number\",\n        \"std\": 0.9550241310238162,\n        \"min\": 0.0,\n        \"max\": 20.0,\n        \"num_unique_values\": 14,\n        \"samples\": [\n          8.0,\n          12.0,\n          3.0\n        ],\n        \"semantic_type\": \"\",\n        \"description\": \"\"\n      }\n    },\n    {\n      \"column\": \"Bathroom\",\n      \"properties\": {\n        \"dtype\": \"number\",\n        \"std\": 0.701106444276239,\n        \"min\": 0.0,\n        \"max\": 9.0,\n        \"num_unique_values\": 10,\n        \"samples\": [\n          6.0,\n          1.0,\n          5.0\n        ],\n        \"semantic_type\": \"\",\n        \"description\": \"\"\n      }\n    },\n    {\n      \"column\": \"Car\",\n      \"properties\": {\n        \"dtype\": \"number\",\n        \"std\": 0.99448742139939,\n        \"min\": 0.0,\n        \"max\": 18.0,\n        \"num_unique_values\": 13,\n        \"samples\": [\n          11.0,\n          8.0,\n          1.0\n        ],\n        \"semantic_type\": \"\",\n        \"description\": \"\"\n      }\n    },\n    {\n      \"column\": \"Landsize\",\n      \"properties\": {\n        \"dtype\": \"number\",\n        \"std\": 1411.3091272981949,\n        \"min\": 50.0,\n        \"max\": 76000.0,\n        \"num_unique_values\": 1528,\n        \"samples\": [\n          570.0,\n          696.0,\n          421.0\n        ],\n        \"semantic_type\": \"\",\n        \"description\": \"\"\n      }\n    },\n    {\n      \"column\": \"BuildingArea\",\n      \"properties\": {\n        \"dtype\": \"category\",\n        \"num_unique_values\": 655,\n        \"samples\": [\n          \"106.4\",\n          \"236\",\n          \"406\"\n        ],\n        \"semantic_type\": \"\",\n        \"description\": \"\"\n      }\n    },\n    {\n      \"column\": \"YearBuilt\",\n      \"properties\": {\n        \"dtype\": \"number\",\n        \"std\": 36.04199981764423,\n        \"min\": 1850.0,\n        \"max\": 2019.0,\n        \"num_unique_values\": 147,\n        \"samples\": [\n          1862.0,\n          1969.0,\n          1886.0\n        ],\n        \"semantic_type\": \"\",\n        \"description\": \"\"\n      }\n    },\n    {\n      \"column\": \"Regionname\",\n      \"properties\": {\n        \"dtype\": \"category\",\n        \"num_unique_values\": 8,\n        \"samples\": [\n          \"Southern Metropolitan\",\n          \"Eastern Victoria\",\n          \"Western Metropolitan\"\n        ],\n        \"semantic_type\": \"\",\n        \"description\": \"\"\n      }\n    },\n    {\n      \"column\": \"Propertycount\",\n      \"properties\": {\n        \"dtype\": \"number\",\n        \"std\": 4493,\n        \"min\": 83,\n        \"max\": 21650,\n        \"num_unique_values\": 336,\n        \"samples\": [\n          2651,\n          6786,\n          2493\n        ],\n        \"semantic_type\": \"\",\n        \"description\": \"\"\n      }\n    },\n    {\n      \"column\": \"Price\",\n      \"properties\": {\n        \"dtype\": \"number\",\n        \"std\": 641578,\n        \"min\": 85000,\n        \"max\": 11200000,\n        \"num_unique_values\": 2864,\n        \"samples\": [\n          842490,\n          626000,\n          737000\n        ],\n        \"semantic_type\": \"\",\n        \"description\": \"\"\n      }\n    }\n  ]\n}"
            }
          },
          "metadata": {},
          "execution_count": 5
        }
      ],
      "source": [
        "data.head()"
      ]
    },
    {
      "cell_type": "code",
      "execution_count": 6,
      "metadata": {
        "id": "FQWNLBf3zNjF",
        "colab": {
          "base_uri": "https://localhost:8080/",
          "height": 289
        },
        "outputId": "388c70b2-e9be-4590-d56f-af1799fcdf2a"
      },
      "outputs": [
        {
          "output_type": "execute_result",
          "data": {
            "text/plain": [
              "                 Suburb  Rooms Type    SellerG        Date  Distance  \\\n",
              "27109        Noble Park      3    h        C21  30-09-2017    22.700   \n",
              "27110         Reservoir      3    u         RW  30-09-2017    12.000   \n",
              "27111     Roxburgh Park      4    h      Raine  30-09-2017    20.600   \n",
              "27112  Springvale South      3    h  Harcourts  30-09-2017    22.200   \n",
              "27113       Westmeadows      4    h      Barry  30-09-2017    16.500   \n",
              "\n",
              "       Postcode  Bedroom  Bathroom   Car  Landsize BuildingArea  YearBuilt  \\\n",
              "27109  3174.000    3.000     1.000 6.000   569.000          130   1959.000   \n",
              "27110  3073.000    3.000     1.000 1.000       NaN          105   1990.000   \n",
              "27111  3064.000    4.000     2.000 2.000       NaN          225   1995.000   \n",
              "27112  3172.000    3.000     2.000 1.000   544.000          NaN        NaN   \n",
              "27113  3049.000    4.000     2.000 6.000   813.000          140   1960.000   \n",
              "\n",
              "                       Regionname  Propertycount   Price  \n",
              "27109  South-Eastern Metropolitan          11806  627500  \n",
              "27110       Northern Metropolitan          21650  475000  \n",
              "27111       Northern Metropolitan           5833  591000  \n",
              "27112  South-Eastern Metropolitan           4054  780500  \n",
              "27113       Northern Metropolitan           2474  791000  "
            ],
            "text/html": [
              "\n",
              "  <div id=\"df-ed8c381d-e61b-4e27-9be8-6efb6854a39f\" class=\"colab-df-container\">\n",
              "    <div>\n",
              "<style scoped>\n",
              "    .dataframe tbody tr th:only-of-type {\n",
              "        vertical-align: middle;\n",
              "    }\n",
              "\n",
              "    .dataframe tbody tr th {\n",
              "        vertical-align: top;\n",
              "    }\n",
              "\n",
              "    .dataframe thead th {\n",
              "        text-align: right;\n",
              "    }\n",
              "</style>\n",
              "<table border=\"1\" class=\"dataframe\">\n",
              "  <thead>\n",
              "    <tr style=\"text-align: right;\">\n",
              "      <th></th>\n",
              "      <th>Suburb</th>\n",
              "      <th>Rooms</th>\n",
              "      <th>Type</th>\n",
              "      <th>SellerG</th>\n",
              "      <th>Date</th>\n",
              "      <th>Distance</th>\n",
              "      <th>Postcode</th>\n",
              "      <th>Bedroom</th>\n",
              "      <th>Bathroom</th>\n",
              "      <th>Car</th>\n",
              "      <th>Landsize</th>\n",
              "      <th>BuildingArea</th>\n",
              "      <th>YearBuilt</th>\n",
              "      <th>Regionname</th>\n",
              "      <th>Propertycount</th>\n",
              "      <th>Price</th>\n",
              "    </tr>\n",
              "  </thead>\n",
              "  <tbody>\n",
              "    <tr>\n",
              "      <th>27109</th>\n",
              "      <td>Noble Park</td>\n",
              "      <td>3</td>\n",
              "      <td>h</td>\n",
              "      <td>C21</td>\n",
              "      <td>30-09-2017</td>\n",
              "      <td>22.700</td>\n",
              "      <td>3174.000</td>\n",
              "      <td>3.000</td>\n",
              "      <td>1.000</td>\n",
              "      <td>6.000</td>\n",
              "      <td>569.000</td>\n",
              "      <td>130</td>\n",
              "      <td>1959.000</td>\n",
              "      <td>South-Eastern Metropolitan</td>\n",
              "      <td>11806</td>\n",
              "      <td>627500</td>\n",
              "    </tr>\n",
              "    <tr>\n",
              "      <th>27110</th>\n",
              "      <td>Reservoir</td>\n",
              "      <td>3</td>\n",
              "      <td>u</td>\n",
              "      <td>RW</td>\n",
              "      <td>30-09-2017</td>\n",
              "      <td>12.000</td>\n",
              "      <td>3073.000</td>\n",
              "      <td>3.000</td>\n",
              "      <td>1.000</td>\n",
              "      <td>1.000</td>\n",
              "      <td>NaN</td>\n",
              "      <td>105</td>\n",
              "      <td>1990.000</td>\n",
              "      <td>Northern Metropolitan</td>\n",
              "      <td>21650</td>\n",
              "      <td>475000</td>\n",
              "    </tr>\n",
              "    <tr>\n",
              "      <th>27111</th>\n",
              "      <td>Roxburgh Park</td>\n",
              "      <td>4</td>\n",
              "      <td>h</td>\n",
              "      <td>Raine</td>\n",
              "      <td>30-09-2017</td>\n",
              "      <td>20.600</td>\n",
              "      <td>3064.000</td>\n",
              "      <td>4.000</td>\n",
              "      <td>2.000</td>\n",
              "      <td>2.000</td>\n",
              "      <td>NaN</td>\n",
              "      <td>225</td>\n",
              "      <td>1995.000</td>\n",
              "      <td>Northern Metropolitan</td>\n",
              "      <td>5833</td>\n",
              "      <td>591000</td>\n",
              "    </tr>\n",
              "    <tr>\n",
              "      <th>27112</th>\n",
              "      <td>Springvale South</td>\n",
              "      <td>3</td>\n",
              "      <td>h</td>\n",
              "      <td>Harcourts</td>\n",
              "      <td>30-09-2017</td>\n",
              "      <td>22.200</td>\n",
              "      <td>3172.000</td>\n",
              "      <td>3.000</td>\n",
              "      <td>2.000</td>\n",
              "      <td>1.000</td>\n",
              "      <td>544.000</td>\n",
              "      <td>NaN</td>\n",
              "      <td>NaN</td>\n",
              "      <td>South-Eastern Metropolitan</td>\n",
              "      <td>4054</td>\n",
              "      <td>780500</td>\n",
              "    </tr>\n",
              "    <tr>\n",
              "      <th>27113</th>\n",
              "      <td>Westmeadows</td>\n",
              "      <td>4</td>\n",
              "      <td>h</td>\n",
              "      <td>Barry</td>\n",
              "      <td>30-09-2017</td>\n",
              "      <td>16.500</td>\n",
              "      <td>3049.000</td>\n",
              "      <td>4.000</td>\n",
              "      <td>2.000</td>\n",
              "      <td>6.000</td>\n",
              "      <td>813.000</td>\n",
              "      <td>140</td>\n",
              "      <td>1960.000</td>\n",
              "      <td>Northern Metropolitan</td>\n",
              "      <td>2474</td>\n",
              "      <td>791000</td>\n",
              "    </tr>\n",
              "  </tbody>\n",
              "</table>\n",
              "</div>\n",
              "    <div class=\"colab-df-buttons\">\n",
              "\n",
              "  <div class=\"colab-df-container\">\n",
              "    <button class=\"colab-df-convert\" onclick=\"convertToInteractive('df-ed8c381d-e61b-4e27-9be8-6efb6854a39f')\"\n",
              "            title=\"Convert this dataframe to an interactive table.\"\n",
              "            style=\"display:none;\">\n",
              "\n",
              "  <svg xmlns=\"http://www.w3.org/2000/svg\" height=\"24px\" viewBox=\"0 -960 960 960\">\n",
              "    <path d=\"M120-120v-720h720v720H120Zm60-500h600v-160H180v160Zm220 220h160v-160H400v160Zm0 220h160v-160H400v160ZM180-400h160v-160H180v160Zm440 0h160v-160H620v160ZM180-180h160v-160H180v160Zm440 0h160v-160H620v160Z\"/>\n",
              "  </svg>\n",
              "    </button>\n",
              "\n",
              "  <style>\n",
              "    .colab-df-container {\n",
              "      display:flex;\n",
              "      gap: 12px;\n",
              "    }\n",
              "\n",
              "    .colab-df-convert {\n",
              "      background-color: #E8F0FE;\n",
              "      border: none;\n",
              "      border-radius: 50%;\n",
              "      cursor: pointer;\n",
              "      display: none;\n",
              "      fill: #1967D2;\n",
              "      height: 32px;\n",
              "      padding: 0 0 0 0;\n",
              "      width: 32px;\n",
              "    }\n",
              "\n",
              "    .colab-df-convert:hover {\n",
              "      background-color: #E2EBFA;\n",
              "      box-shadow: 0px 1px 2px rgba(60, 64, 67, 0.3), 0px 1px 3px 1px rgba(60, 64, 67, 0.15);\n",
              "      fill: #174EA6;\n",
              "    }\n",
              "\n",
              "    .colab-df-buttons div {\n",
              "      margin-bottom: 4px;\n",
              "    }\n",
              "\n",
              "    [theme=dark] .colab-df-convert {\n",
              "      background-color: #3B4455;\n",
              "      fill: #D2E3FC;\n",
              "    }\n",
              "\n",
              "    [theme=dark] .colab-df-convert:hover {\n",
              "      background-color: #434B5C;\n",
              "      box-shadow: 0px 1px 3px 1px rgba(0, 0, 0, 0.15);\n",
              "      filter: drop-shadow(0px 1px 2px rgba(0, 0, 0, 0.3));\n",
              "      fill: #FFFFFF;\n",
              "    }\n",
              "  </style>\n",
              "\n",
              "    <script>\n",
              "      const buttonEl =\n",
              "        document.querySelector('#df-ed8c381d-e61b-4e27-9be8-6efb6854a39f button.colab-df-convert');\n",
              "      buttonEl.style.display =\n",
              "        google.colab.kernel.accessAllowed ? 'block' : 'none';\n",
              "\n",
              "      async function convertToInteractive(key) {\n",
              "        const element = document.querySelector('#df-ed8c381d-e61b-4e27-9be8-6efb6854a39f');\n",
              "        const dataTable =\n",
              "          await google.colab.kernel.invokeFunction('convertToInteractive',\n",
              "                                                    [key], {});\n",
              "        if (!dataTable) return;\n",
              "\n",
              "        const docLinkHtml = 'Like what you see? Visit the ' +\n",
              "          '<a target=\"_blank\" href=https://colab.research.google.com/notebooks/data_table.ipynb>data table notebook</a>'\n",
              "          + ' to learn more about interactive tables.';\n",
              "        element.innerHTML = '';\n",
              "        dataTable['output_type'] = 'display_data';\n",
              "        await google.colab.output.renderOutput(dataTable, element);\n",
              "        const docLink = document.createElement('div');\n",
              "        docLink.innerHTML = docLinkHtml;\n",
              "        element.appendChild(docLink);\n",
              "      }\n",
              "    </script>\n",
              "  </div>\n",
              "\n",
              "\n",
              "<div id=\"df-f37d1b37-a470-4868-8dd5-9ebc08e61fe6\">\n",
              "  <button class=\"colab-df-quickchart\" onclick=\"quickchart('df-f37d1b37-a470-4868-8dd5-9ebc08e61fe6')\"\n",
              "            title=\"Suggest charts\"\n",
              "            style=\"display:none;\">\n",
              "\n",
              "<svg xmlns=\"http://www.w3.org/2000/svg\" height=\"24px\"viewBox=\"0 0 24 24\"\n",
              "     width=\"24px\">\n",
              "    <g>\n",
              "        <path d=\"M19 3H5c-1.1 0-2 .9-2 2v14c0 1.1.9 2 2 2h14c1.1 0 2-.9 2-2V5c0-1.1-.9-2-2-2zM9 17H7v-7h2v7zm4 0h-2V7h2v10zm4 0h-2v-4h2v4z\"/>\n",
              "    </g>\n",
              "</svg>\n",
              "  </button>\n",
              "\n",
              "<style>\n",
              "  .colab-df-quickchart {\n",
              "      --bg-color: #E8F0FE;\n",
              "      --fill-color: #1967D2;\n",
              "      --hover-bg-color: #E2EBFA;\n",
              "      --hover-fill-color: #174EA6;\n",
              "      --disabled-fill-color: #AAA;\n",
              "      --disabled-bg-color: #DDD;\n",
              "  }\n",
              "\n",
              "  [theme=dark] .colab-df-quickchart {\n",
              "      --bg-color: #3B4455;\n",
              "      --fill-color: #D2E3FC;\n",
              "      --hover-bg-color: #434B5C;\n",
              "      --hover-fill-color: #FFFFFF;\n",
              "      --disabled-bg-color: #3B4455;\n",
              "      --disabled-fill-color: #666;\n",
              "  }\n",
              "\n",
              "  .colab-df-quickchart {\n",
              "    background-color: var(--bg-color);\n",
              "    border: none;\n",
              "    border-radius: 50%;\n",
              "    cursor: pointer;\n",
              "    display: none;\n",
              "    fill: var(--fill-color);\n",
              "    height: 32px;\n",
              "    padding: 0;\n",
              "    width: 32px;\n",
              "  }\n",
              "\n",
              "  .colab-df-quickchart:hover {\n",
              "    background-color: var(--hover-bg-color);\n",
              "    box-shadow: 0 1px 2px rgba(60, 64, 67, 0.3), 0 1px 3px 1px rgba(60, 64, 67, 0.15);\n",
              "    fill: var(--button-hover-fill-color);\n",
              "  }\n",
              "\n",
              "  .colab-df-quickchart-complete:disabled,\n",
              "  .colab-df-quickchart-complete:disabled:hover {\n",
              "    background-color: var(--disabled-bg-color);\n",
              "    fill: var(--disabled-fill-color);\n",
              "    box-shadow: none;\n",
              "  }\n",
              "\n",
              "  .colab-df-spinner {\n",
              "    border: 2px solid var(--fill-color);\n",
              "    border-color: transparent;\n",
              "    border-bottom-color: var(--fill-color);\n",
              "    animation:\n",
              "      spin 1s steps(1) infinite;\n",
              "  }\n",
              "\n",
              "  @keyframes spin {\n",
              "    0% {\n",
              "      border-color: transparent;\n",
              "      border-bottom-color: var(--fill-color);\n",
              "      border-left-color: var(--fill-color);\n",
              "    }\n",
              "    20% {\n",
              "      border-color: transparent;\n",
              "      border-left-color: var(--fill-color);\n",
              "      border-top-color: var(--fill-color);\n",
              "    }\n",
              "    30% {\n",
              "      border-color: transparent;\n",
              "      border-left-color: var(--fill-color);\n",
              "      border-top-color: var(--fill-color);\n",
              "      border-right-color: var(--fill-color);\n",
              "    }\n",
              "    40% {\n",
              "      border-color: transparent;\n",
              "      border-right-color: var(--fill-color);\n",
              "      border-top-color: var(--fill-color);\n",
              "    }\n",
              "    60% {\n",
              "      border-color: transparent;\n",
              "      border-right-color: var(--fill-color);\n",
              "    }\n",
              "    80% {\n",
              "      border-color: transparent;\n",
              "      border-right-color: var(--fill-color);\n",
              "      border-bottom-color: var(--fill-color);\n",
              "    }\n",
              "    90% {\n",
              "      border-color: transparent;\n",
              "      border-bottom-color: var(--fill-color);\n",
              "    }\n",
              "  }\n",
              "</style>\n",
              "\n",
              "  <script>\n",
              "    async function quickchart(key) {\n",
              "      const quickchartButtonEl =\n",
              "        document.querySelector('#' + key + ' button');\n",
              "      quickchartButtonEl.disabled = true;  // To prevent multiple clicks.\n",
              "      quickchartButtonEl.classList.add('colab-df-spinner');\n",
              "      try {\n",
              "        const charts = await google.colab.kernel.invokeFunction(\n",
              "            'suggestCharts', [key], {});\n",
              "      } catch (error) {\n",
              "        console.error('Error during call to suggestCharts:', error);\n",
              "      }\n",
              "      quickchartButtonEl.classList.remove('colab-df-spinner');\n",
              "      quickchartButtonEl.classList.add('colab-df-quickchart-complete');\n",
              "    }\n",
              "    (() => {\n",
              "      let quickchartButtonEl =\n",
              "        document.querySelector('#df-f37d1b37-a470-4868-8dd5-9ebc08e61fe6 button');\n",
              "      quickchartButtonEl.style.display =\n",
              "        google.colab.kernel.accessAllowed ? 'block' : 'none';\n",
              "    })();\n",
              "  </script>\n",
              "</div>\n",
              "\n",
              "    </div>\n",
              "  </div>\n"
            ],
            "application/vnd.google.colaboratory.intrinsic+json": {
              "type": "dataframe",
              "repr_error": "0"
            }
          },
          "metadata": {},
          "execution_count": 6
        }
      ],
      "source": [
        "data.tail()"
      ]
    },
    {
      "cell_type": "markdown",
      "metadata": {
        "id": "AOS7YXrM1TrI"
      },
      "source": [
        "**Understand the shape of the dataset**"
      ]
    },
    {
      "cell_type": "code",
      "execution_count": 7,
      "metadata": {
        "id": "pBvks_PB0mj8",
        "colab": {
          "base_uri": "https://localhost:8080/"
        },
        "outputId": "844bdb43-11da-4c4e-ace2-4bc040e99141"
      },
      "outputs": [
        {
          "output_type": "stream",
          "name": "stdout",
          "text": [
            "There are 27114 rows and 16 columns.\n"
          ]
        }
      ],
      "source": [
        "# checking shape of the data\n",
        "print(\"There are\", data.shape[0], 'rows and', data.shape[1], \"columns.\")"
      ]
    },
    {
      "cell_type": "markdown",
      "metadata": {
        "id": "0LLSwZBf1YUM"
      },
      "source": [
        "**Check the data types of the columns for the dataset**"
      ]
    },
    {
      "cell_type": "code",
      "execution_count": 8,
      "metadata": {
        "id": "6TojyJDezOJ-",
        "colab": {
          "base_uri": "https://localhost:8080/"
        },
        "outputId": "e503fc45-331b-49b8-e320-3d5c441b441b"
      },
      "outputs": [
        {
          "output_type": "stream",
          "name": "stdout",
          "text": [
            "<class 'pandas.core.frame.DataFrame'>\n",
            "RangeIndex: 27114 entries, 0 to 27113\n",
            "Data columns (total 16 columns):\n",
            " #   Column         Non-Null Count  Dtype  \n",
            "---  ------         --------------  -----  \n",
            " 0   Suburb         27114 non-null  object \n",
            " 1   Rooms          27114 non-null  int64  \n",
            " 2   Type           27114 non-null  object \n",
            " 3   SellerG        27114 non-null  object \n",
            " 4   Date           27114 non-null  object \n",
            " 5   Distance       27113 non-null  float64\n",
            " 6   Postcode       27113 non-null  float64\n",
            " 7   Bedroom        20678 non-null  float64\n",
            " 8   Bathroom       20672 non-null  float64\n",
            " 9   Car            20297 non-null  float64\n",
            " 10  Landsize       17873 non-null  float64\n",
            " 11  BuildingArea   10543 non-null  object \n",
            " 12  YearBuilt      11985 non-null  float64\n",
            " 13  Regionname     27114 non-null  object \n",
            " 14  Propertycount  27114 non-null  int64  \n",
            " 15  Price          27114 non-null  int64  \n",
            "dtypes: float64(7), int64(3), object(6)\n",
            "memory usage: 3.3+ MB\n"
          ]
        }
      ],
      "source": [
        "data.info()"
      ]
    },
    {
      "cell_type": "markdown",
      "metadata": {
        "id": "8w5qKrVn7XHX"
      },
      "source": [
        "* There are 10 numerical columns in the data and 6 object type columns.\n",
        "* Date column is being read as object type column but it should be in date-time format.\n",
        "* BuildingArea is read as object type column but it should be a numerical column."
      ]
    },
    {
      "cell_type": "code",
      "execution_count": 9,
      "metadata": {
        "id": "tZRumqoi9Tge"
      },
      "outputs": [],
      "source": [
        "# changing the data type of Date column\n",
        "data[\"Date\"] = pd.to_datetime(data[\"Date\"], format='%d-%m-%Y')"
      ]
    },
    {
      "cell_type": "code",
      "source": [
        "data.info()"
      ],
      "metadata": {
        "colab": {
          "base_uri": "https://localhost:8080/"
        },
        "id": "SGV8ph4CO40e",
        "outputId": "14f466c2-2540-44bb-c81f-54b405eeb715"
      },
      "execution_count": 10,
      "outputs": [
        {
          "output_type": "stream",
          "name": "stdout",
          "text": [
            "<class 'pandas.core.frame.DataFrame'>\n",
            "RangeIndex: 27114 entries, 0 to 27113\n",
            "Data columns (total 16 columns):\n",
            " #   Column         Non-Null Count  Dtype         \n",
            "---  ------         --------------  -----         \n",
            " 0   Suburb         27114 non-null  object        \n",
            " 1   Rooms          27114 non-null  int64         \n",
            " 2   Type           27114 non-null  object        \n",
            " 3   SellerG        27114 non-null  object        \n",
            " 4   Date           27114 non-null  datetime64[ns]\n",
            " 5   Distance       27113 non-null  float64       \n",
            " 6   Postcode       27113 non-null  float64       \n",
            " 7   Bedroom        20678 non-null  float64       \n",
            " 8   Bathroom       20672 non-null  float64       \n",
            " 9   Car            20297 non-null  float64       \n",
            " 10  Landsize       17873 non-null  float64       \n",
            " 11  BuildingArea   10543 non-null  object        \n",
            " 12  YearBuilt      11985 non-null  float64       \n",
            " 13  Regionname     27114 non-null  object        \n",
            " 14  Propertycount  27114 non-null  int64         \n",
            " 15  Price          27114 non-null  int64         \n",
            "dtypes: datetime64[ns](1), float64(7), int64(3), object(5)\n",
            "memory usage: 3.3+ MB\n"
          ]
        }
      ]
    },
    {
      "cell_type": "code",
      "execution_count": 11,
      "metadata": {
        "id": "dyawvn_49av6",
        "colab": {
          "base_uri": "https://localhost:8080/"
        },
        "outputId": "0ae85473-0680-454d-b908-f23490e09134"
      },
      "outputs": [
        {
          "output_type": "execute_result",
          "data": {
            "text/plain": [
              "array(['225', '82', 'inf', '263', '242', '251', '117', 'missing', '76',\n",
              "       '399', '118', '103', '180', '123', '218', '129', '167', '154',\n",
              "       '275', '121', nan, '125', '255', '75', '156', '240', '268', '108',\n",
              "       '69', '140', '214', '253', '189', '215', '96', '104', '100', '313',\n",
              "       '144', '93', '110', '70', '122', '51', '147', '113', '83', '56',\n",
              "       '137', '85', '64', '175', '3558', '170', '265', '353', '138', '19',\n",
              "       '116', '87', '74', '320', '300', '210', '120', '86', '97', '200',\n",
              "       '106', '14', '161', '128', '185', '146', '133', '115', '143',\n",
              "       '150', '195', '236', '276', '188', '179', '249', '141', '34', '73',\n",
              "       '107', '84', '81', '207', '50', '264', '312', '235', '221', '183',\n",
              "       '132', '160', '186', '78', '105', '145', '62', '220', '315', '181',\n",
              "       '61', '112', '420', '226', '266', '410', '449', '356', '477',\n",
              "       '250', '95', '190', '284', '247', '213', '209', '119', '111',\n",
              "       '130', '348', '166', '44', '176', '98', '159', '79', '71', '60',\n",
              "       '33', '89', '217', '127', '187', '109', '53', '201', '12', '63',\n",
              "       '223', '102', '254', '327', '16', '165', '65', '139', '134', '280',\n",
              "       '67', '272', '38', '153', '66', '152', '135', '374', '163', '124',\n",
              "       '233', '39', '151', '279', '136', '405', '199', '158', '126', '80',\n",
              "       '57', '36', '142', '77', '435', '92', '149', '114', '349', '178',\n",
              "       '594', '274', '40', '68', '164', '204', '94', '257', '323', '314',\n",
              "       '378', '55', '91', '309', '88', '58', '172', '211', '148', '49',\n",
              "       '52', '174', '191', '335', '808', '168', '203', '520', '212',\n",
              "       '222', '171', '228', '101', '267', '90', '196', '157', '99', '256',\n",
              "       '15', '155', '162', '72', '252', '330', '177', '341', '197', '340',\n",
              "       '182', '245', '270', '42', '229', '232', '131', '297', '237',\n",
              "       '194', '173', '46', '360', '205', '45', '365', '321', '37', '304',\n",
              "       '54', '305', '244', '43', '41', '22', '169', '59', '258', '230',\n",
              "       '287', '618', '792', '355', '202', '395', '351', '325', '248',\n",
              "       '224', '426', '286', '308', '198', '260', '291', '277', '281',\n",
              "       '216', '262', '364', '30', '192', '47', '184', '25', '558', '362',\n",
              "       '375', '347', '241', '475', '413', '400', '101.37', '219', '239',\n",
              "       '123.21', '140.7481', '86.5', '30.6', '225.5', '322', '409.54',\n",
              "       '26', '156.6', '227.6', '104.63', '193', '443', '167.13', '148.5',\n",
              "       '270.18', '53.3', '98.5', '157.9351', '328', '94.3', '21', '310',\n",
              "       '95.88', '261', '105.7', '72.9', '45.4', '221.3', '113.2',\n",
              "       '186.75', '540', '127.8', '231', '106.4', '311', '234', '332',\n",
              "       '206', '259', '246', '296', '269', '306', '380', '302', '48',\n",
              "       '278', '35', '208', '467', '283', '458', '196.8', '106.2', '32',\n",
              "       '424', '430', '243', '290', '511', '500', '531', '508', '333',\n",
              "       '72.3', '66.23', '101.51', '292', '112.9', '99.5', '77.5', '293',\n",
              "       '105.23', '352', '391', '121.8', '82.6', '136.49', '502', '680',\n",
              "       '157.9352', '126.8', '100.6', '44.4', '151.54', '20', '397', '495',\n",
              "       '331', '294', '334', '303', '318', '273', '584', '958', '288',\n",
              "       '342', '354', '350', '465', '337', '317', '298', '529', '697',\n",
              "       '289', '602', '6791', '534', '227', '429', '802', '373', '358',\n",
              "       '238', '316', '393', '180.9', '826.8367', '366', '307', '625',\n",
              "       '419', '94.5', '392', '28', '116.65', '11', '134.6', '282',\n",
              "       '183.84', '431', '126.7', '18', '295', '390', '447', '271', '416',\n",
              "       '370', '660', '463', '361', '496', '324', '173.45', '134.3',\n",
              "       '464.3', '76.77', '113.76', '107.4', '255.79', '186.36', '490',\n",
              "       '103.6', '63.7', '106.76', '39.5', '423', '319', '437', '285',\n",
              "       '453', '472', '418', '487', '31', '301', '116.4', '182.85',\n",
              "       '109.5', '129.7', '665', '398', '148.47', '553', '182.9', '184.75',\n",
              "       '193.74', '68.5', '336', '346', '719', '3112', '414', '372', '525',\n",
              "       '367', '1561', '454', '720', '329', '381', '677', '439', '857',\n",
              "       '23', '503', '432', '377', '512', '425', '406', '389', '521',\n",
              "       '6178', '654', '727', '417', '560', '168.01', '306.19', '515.78',\n",
              "       '196.1', '789', '131.27', '167.87', '183.97', '199.5', '29', '446',\n",
              "       '75.45', '165.5', '263.5', '585', '516', '345', '27', '444', '427',\n",
              "       '326', '518', '13', '411', '1022', '339', '461', '376', '513',\n",
              "       '836', '464', '386', '603', '613', '179.3', '142.6', '147.2',\n",
              "       '225.98', '113.81', '401', '737', '530', '82.3', '110.87', '450',\n",
              "       '673', '109.98', '122.25', '105.9', '101.7', '106.9', '93.82',\n",
              "       '132.6', '154.3', '178.74', '88.3', '80.7', '89.25', '181.6',\n",
              "       '104.4', '180.56', '123.5', '1143', '506', '575', '859', '653',\n",
              "       '999', '445', '438', '686', '649', '736', '371.6122', '199.73',\n",
              "       '118.54', '298.21', '169.5', '42.2', '135.5', '266.76', '272.4',\n",
              "       '177.8', '139.4', '700', '766', '538', '528', '650', '368', '544',\n",
              "       '557', '396', '638', '101.76', '363', '634', '195.0964', '470',\n",
              "       '130.52', '547', '111.04', '63.4', '92.5', '115.96', '121.84',\n",
              "       '122.86', '114.2', '266.53', '78.54', '85.35', '1041', '607',\n",
              "       '478', '407', '344', '338', '501', '448', '357', '408', '412',\n",
              "       '466', '739', '614', '421', '385', '68.11', '153.1', '85.2',\n",
              "       '93.84', '124.45', '210.68', '200.71', '81.79', '934', '129.92',\n",
              "       '43.7', '113.6', '66.32', '35.64', '61.6', '388.5', '672'],\n",
              "      dtype=object)"
            ]
          },
          "metadata": {},
          "execution_count": 11
        }
      ],
      "source": [
        "# let's see why BuildingArea column has object data type\n",
        "data['BuildingArea'].unique()"
      ]
    },
    {
      "cell_type": "markdown",
      "metadata": {
        "id": "MVaXosBnBwrf"
      },
      "source": [
        "* It will be difficult to analyze each data point to find the categorical values in this column. Let's find the count of non-numeric values and see what are these values."
      ]
    },
    {
      "cell_type": "code",
      "execution_count": 12,
      "metadata": {
        "id": "RmNPNRdeBwrf",
        "colab": {
          "base_uri": "https://localhost:8080/",
          "height": 176
        },
        "outputId": "fe755e14-f882-45c9-f465-e77dce9e8632"
      },
      "outputs": [
        {
          "output_type": "execute_result",
          "data": {
            "text/plain": [
              "BuildingArea\n",
              "<class 'float'>    16571\n",
              "<class 'str'>      10543\n",
              "Name: count, dtype: int64"
            ],
            "text/html": [
              "<div>\n",
              "<style scoped>\n",
              "    .dataframe tbody tr th:only-of-type {\n",
              "        vertical-align: middle;\n",
              "    }\n",
              "\n",
              "    .dataframe tbody tr th {\n",
              "        vertical-align: top;\n",
              "    }\n",
              "\n",
              "    .dataframe thead th {\n",
              "        text-align: right;\n",
              "    }\n",
              "</style>\n",
              "<table border=\"1\" class=\"dataframe\">\n",
              "  <thead>\n",
              "    <tr style=\"text-align: right;\">\n",
              "      <th></th>\n",
              "      <th>count</th>\n",
              "    </tr>\n",
              "    <tr>\n",
              "      <th>BuildingArea</th>\n",
              "      <th></th>\n",
              "    </tr>\n",
              "  </thead>\n",
              "  <tbody>\n",
              "    <tr>\n",
              "      <th>&lt;class 'float'&gt;</th>\n",
              "      <td>16571</td>\n",
              "    </tr>\n",
              "    <tr>\n",
              "      <th>&lt;class 'str'&gt;</th>\n",
              "      <td>10543</td>\n",
              "    </tr>\n",
              "  </tbody>\n",
              "</table>\n",
              "</div><br><label><b>dtype:</b> int64</label>"
            ]
          },
          "metadata": {},
          "execution_count": 12
        }
      ],
      "source": [
        "# checking the count of different data types in BuildingArea column\n",
        "data['BuildingArea'].apply(type).value_counts()"
      ]
    },
    {
      "cell_type": "markdown",
      "metadata": {
        "id": "LVkxBaUT92TP"
      },
      "source": [
        "* We can see that there are mixed data type values in the column like - 'missing', 'inf' which should actually be read as missing values (NaN). Let's replace such data points with null values.\n"
      ]
    },
    {
      "cell_type": "code",
      "execution_count": 13,
      "metadata": {
        "id": "e5T0WOaq-FZp"
      },
      "outputs": [],
      "source": [
        "# replacing values with nan\n",
        "data['BuildingArea'] = data['BuildingArea'].replace(['missing','inf'],np.nan)\n",
        "\n",
        "# changing the data type to float\n",
        "data['BuildingArea'] = data['BuildingArea'].astype(float)"
      ]
    },
    {
      "cell_type": "code",
      "execution_count": 14,
      "metadata": {
        "id": "VjgpHCeo_Da-",
        "colab": {
          "base_uri": "https://localhost:8080/"
        },
        "outputId": "8f7f5fe0-54ca-41c7-d440-035eef1f0cca"
      },
      "outputs": [
        {
          "output_type": "stream",
          "name": "stdout",
          "text": [
            "<class 'pandas.core.frame.DataFrame'>\n",
            "RangeIndex: 27114 entries, 0 to 27113\n",
            "Data columns (total 16 columns):\n",
            " #   Column         Non-Null Count  Dtype         \n",
            "---  ------         --------------  -----         \n",
            " 0   Suburb         27114 non-null  object        \n",
            " 1   Rooms          27114 non-null  int64         \n",
            " 2   Type           27114 non-null  object        \n",
            " 3   SellerG        27114 non-null  object        \n",
            " 4   Date           27114 non-null  datetime64[ns]\n",
            " 5   Distance       27113 non-null  float64       \n",
            " 6   Postcode       27113 non-null  float64       \n",
            " 7   Bedroom        20678 non-null  float64       \n",
            " 8   Bathroom       20672 non-null  float64       \n",
            " 9   Car            20297 non-null  float64       \n",
            " 10  Landsize       17873 non-null  float64       \n",
            " 11  BuildingArea   10529 non-null  float64       \n",
            " 12  YearBuilt      11985 non-null  float64       \n",
            " 13  Regionname     27114 non-null  object        \n",
            " 14  Propertycount  27114 non-null  int64         \n",
            " 15  Price          27114 non-null  int64         \n",
            "dtypes: datetime64[ns](1), float64(8), int64(3), object(4)\n",
            "memory usage: 3.3+ MB\n"
          ]
        }
      ],
      "source": [
        "# let's check the data type of columns again\n",
        "data.info()"
      ]
    },
    {
      "cell_type": "markdown",
      "metadata": {
        "id": "qkt3vpiT_I4t"
      },
      "source": [
        "* We see that the data types of Date and BuildingArea columns have been fixed.\n",
        "* There are 11 numerical columns, 4 object type columns, and 1 date time column in the data.\n",
        "* We observe that some columns have less entries that other columns (less than 27114 rows) which indicates the presence of missing values in the data."
      ]
    },
    {
      "cell_type": "markdown",
      "metadata": {
        "id": "4HW4wXkDBwrg"
      },
      "source": [
        "**We could have also done this replacement of missing and inf to NaN while loading the data. Let's see how -**"
      ]
    },
    {
      "cell_type": "code",
      "execution_count": 15,
      "metadata": {
        "id": "IRqlUrq1Bwrg"
      },
      "outputs": [],
      "source": [
        "# using na_values to tell python which values it should consider as NaN\n",
        "data_new = pd.read_csv('/content/drive/MyDrive/Python Course/Melbourne_Housing.csv',na_values=['missing','inf'])"
      ]
    },
    {
      "cell_type": "markdown",
      "metadata": {
        "id": "21cmalTNBwrg"
      },
      "source": [
        "* This method is useful when we know what kind of values to consider as anomalies in the data."
      ]
    },
    {
      "cell_type": "code",
      "execution_count": 16,
      "metadata": {
        "id": "KtL1mqVZBwrg",
        "colab": {
          "base_uri": "https://localhost:8080/"
        },
        "outputId": "98fd78c7-2a43-4322-9eeb-661334473d85"
      },
      "outputs": [
        {
          "output_type": "execute_result",
          "data": {
            "text/plain": [
              "dtype('float64')"
            ]
          },
          "metadata": {},
          "execution_count": 16
        }
      ],
      "source": [
        "data_new['BuildingArea'].dtype"
      ]
    },
    {
      "cell_type": "markdown",
      "metadata": {
        "id": "t3lX87GSBwrg"
      },
      "source": [
        "* We observe that now building area is being considered as float after the 'missing' and 'inf' were read as NaN."
      ]
    },
    {
      "cell_type": "markdown",
      "metadata": {
        "id": "bJe1HIx9Acps"
      },
      "source": [
        "**What are missing values?**\n",
        "\n",
        "Missing values occur when no data value is stored for the variable in an observation. Missing data are a common occurrence and can have a significant effect on the conclusions that can be drawn from the data."
      ]
    },
    {
      "cell_type": "markdown",
      "metadata": {
        "id": "qjJEjUpU1l6E"
      },
      "source": [
        "**Checking for missing values in the data**"
      ]
    },
    {
      "cell_type": "code",
      "execution_count": 17,
      "metadata": {
        "id": "p6TCTCDAzUmR",
        "colab": {
          "base_uri": "https://localhost:8080/",
          "height": 579
        },
        "outputId": "08ea5fd6-6ce7-48cc-d1e3-b6c94447b711"
      },
      "outputs": [
        {
          "output_type": "execute_result",
          "data": {
            "text/plain": [
              "Suburb               0\n",
              "Rooms                0\n",
              "Type                 0\n",
              "SellerG              0\n",
              "Date                 0\n",
              "Distance             1\n",
              "Postcode             1\n",
              "Bedroom           6436\n",
              "Bathroom          6442\n",
              "Car               6817\n",
              "Landsize          9241\n",
              "BuildingArea     16585\n",
              "YearBuilt        15129\n",
              "Regionname           0\n",
              "Propertycount        0\n",
              "Price                0\n",
              "dtype: int64"
            ],
            "text/html": [
              "<div>\n",
              "<style scoped>\n",
              "    .dataframe tbody tr th:only-of-type {\n",
              "        vertical-align: middle;\n",
              "    }\n",
              "\n",
              "    .dataframe tbody tr th {\n",
              "        vertical-align: top;\n",
              "    }\n",
              "\n",
              "    .dataframe thead th {\n",
              "        text-align: right;\n",
              "    }\n",
              "</style>\n",
              "<table border=\"1\" class=\"dataframe\">\n",
              "  <thead>\n",
              "    <tr style=\"text-align: right;\">\n",
              "      <th></th>\n",
              "      <th>0</th>\n",
              "    </tr>\n",
              "  </thead>\n",
              "  <tbody>\n",
              "    <tr>\n",
              "      <th>Suburb</th>\n",
              "      <td>0</td>\n",
              "    </tr>\n",
              "    <tr>\n",
              "      <th>Rooms</th>\n",
              "      <td>0</td>\n",
              "    </tr>\n",
              "    <tr>\n",
              "      <th>Type</th>\n",
              "      <td>0</td>\n",
              "    </tr>\n",
              "    <tr>\n",
              "      <th>SellerG</th>\n",
              "      <td>0</td>\n",
              "    </tr>\n",
              "    <tr>\n",
              "      <th>Date</th>\n",
              "      <td>0</td>\n",
              "    </tr>\n",
              "    <tr>\n",
              "      <th>Distance</th>\n",
              "      <td>1</td>\n",
              "    </tr>\n",
              "    <tr>\n",
              "      <th>Postcode</th>\n",
              "      <td>1</td>\n",
              "    </tr>\n",
              "    <tr>\n",
              "      <th>Bedroom</th>\n",
              "      <td>6436</td>\n",
              "    </tr>\n",
              "    <tr>\n",
              "      <th>Bathroom</th>\n",
              "      <td>6442</td>\n",
              "    </tr>\n",
              "    <tr>\n",
              "      <th>Car</th>\n",
              "      <td>6817</td>\n",
              "    </tr>\n",
              "    <tr>\n",
              "      <th>Landsize</th>\n",
              "      <td>9241</td>\n",
              "    </tr>\n",
              "    <tr>\n",
              "      <th>BuildingArea</th>\n",
              "      <td>16585</td>\n",
              "    </tr>\n",
              "    <tr>\n",
              "      <th>YearBuilt</th>\n",
              "      <td>15129</td>\n",
              "    </tr>\n",
              "    <tr>\n",
              "      <th>Regionname</th>\n",
              "      <td>0</td>\n",
              "    </tr>\n",
              "    <tr>\n",
              "      <th>Propertycount</th>\n",
              "      <td>0</td>\n",
              "    </tr>\n",
              "    <tr>\n",
              "      <th>Price</th>\n",
              "      <td>0</td>\n",
              "    </tr>\n",
              "  </tbody>\n",
              "</table>\n",
              "</div><br><label><b>dtype:</b> int64</label>"
            ]
          },
          "metadata": {},
          "execution_count": 17
        }
      ],
      "source": [
        "data.isnull().sum()"
      ]
    },
    {
      "cell_type": "markdown",
      "metadata": {
        "id": "cjZbUhBj_XxX"
      },
      "source": [
        "* There are missing values in 8 columns of the data.\n",
        "* We will treat these missing values after understanding the distributions of features in the data, the relationships that exist in the data. This will help us impute these values more effectively."
      ]
    },
    {
      "cell_type": "markdown",
      "metadata": {
        "id": "MtKKvX_j1d2N"
      },
      "source": [
        "**Checking for duplicate entries in the data**"
      ]
    },
    {
      "cell_type": "code",
      "execution_count": 18,
      "metadata": {
        "id": "fO9oCJoazRM9",
        "colab": {
          "base_uri": "https://localhost:8080/"
        },
        "outputId": "41bdd1c3-7f94-4e27-e7fc-639c637a8c23"
      },
      "outputs": [
        {
          "output_type": "execute_result",
          "data": {
            "text/plain": [
              "11"
            ]
          },
          "metadata": {},
          "execution_count": 18
        }
      ],
      "source": [
        "data.duplicated().sum()"
      ]
    },
    {
      "cell_type": "markdown",
      "metadata": {
        "id": "pXWitpm97Xn_"
      },
      "source": [
        "* There are 11 duplicate entries in the data. Let's remove them."
      ]
    },
    {
      "cell_type": "code",
      "execution_count": 19,
      "metadata": {
        "id": "IRBahRHNJVgl"
      },
      "outputs": [],
      "source": [
        "# dropping duplicate entries from the data\n",
        "data.drop_duplicates(inplace=True)\n",
        "\n",
        "# resetting the index of data frame since some rows will be removed\n",
        "data.reset_index(drop=True,inplace=True)"
      ]
    },
    {
      "cell_type": "markdown",
      "metadata": {
        "id": "KEQH5qqXzWmo"
      },
      "source": [
        "**Let's check the statistical summary of the data.**"
      ]
    },
    {
      "cell_type": "code",
      "execution_count": 20,
      "metadata": {
        "id": "cCqbJH8T1tJJ",
        "colab": {
          "base_uri": "https://localhost:8080/",
          "height": 421
        },
        "outputId": "71385ad9-5999-4b8f-f4cb-33bfb4b2855b"
      },
      "outputs": [
        {
          "output_type": "execute_result",
          "data": {
            "text/plain": [
              "                  count                           mean                  min  \\\n",
              "Rooms         27103.000                          2.992                1.000   \n",
              "Date              27103  2017-05-23 12:25:09.441759488  2016-01-28 00:00:00   \n",
              "Distance      27102.000                         11.280                0.000   \n",
              "Postcode      27102.000                       3113.787             3000.000   \n",
              "Bedroom       20678.000                          3.046                0.000   \n",
              "Bathroom      20672.000                          1.592                0.000   \n",
              "Car           20297.000                          1.716                0.000   \n",
              "Landsize      17873.000                        560.537               50.000   \n",
              "BuildingArea  10529.000                        154.512               11.000   \n",
              "YearBuilt     11985.000                       1966.618             1850.000   \n",
              "Propertycount 27103.000                       7564.741               83.000   \n",
              "Price         27103.000                    1050664.131            85000.000   \n",
              "\n",
              "                               25%                  50%                  75%  \\\n",
              "Rooms                        2.000                3.000                4.000   \n",
              "Date           2016-11-19 00:00:00  2017-07-08 00:00:00  2017-10-28 00:00:00   \n",
              "Distance                     6.400               10.500               14.000   \n",
              "Postcode                  3046.000             3088.000             3153.000   \n",
              "Bedroom                      2.000                3.000                4.000   \n",
              "Bathroom                     1.000                1.000                2.000   \n",
              "Car                          1.000                2.000                2.000   \n",
              "Landsize                   220.000              513.000              664.000   \n",
              "BuildingArea               101.000              133.000              183.000   \n",
              "YearBuilt                 1950.000             1970.000             2000.000   \n",
              "Propertycount             4294.000             6567.000            10412.000   \n",
              "Price                   635000.000           871000.000          1300000.000   \n",
              "\n",
              "                               max        std  \n",
              "Rooms                       16.000      0.955  \n",
              "Date           2018-03-17 00:00:00        NaN  \n",
              "Distance                    48.100      6.784  \n",
              "Postcode                  3978.000    111.129  \n",
              "Bedroom                     20.000      0.955  \n",
              "Bathroom                     9.000      0.701  \n",
              "Car                         18.000      0.994  \n",
              "Landsize                 76000.000   1411.309  \n",
              "BuildingArea              6791.000    130.584  \n",
              "YearBuilt                 2019.000     36.042  \n",
              "Propertycount            21650.000   4494.028  \n",
              "Price                 11200000.000 641660.161  "
            ],
            "text/html": [
              "\n",
              "  <div id=\"df-53f252c8-d0f5-46eb-92b2-488948ef0fbf\" class=\"colab-df-container\">\n",
              "    <div>\n",
              "<style scoped>\n",
              "    .dataframe tbody tr th:only-of-type {\n",
              "        vertical-align: middle;\n",
              "    }\n",
              "\n",
              "    .dataframe tbody tr th {\n",
              "        vertical-align: top;\n",
              "    }\n",
              "\n",
              "    .dataframe thead th {\n",
              "        text-align: right;\n",
              "    }\n",
              "</style>\n",
              "<table border=\"1\" class=\"dataframe\">\n",
              "  <thead>\n",
              "    <tr style=\"text-align: right;\">\n",
              "      <th></th>\n",
              "      <th>count</th>\n",
              "      <th>mean</th>\n",
              "      <th>min</th>\n",
              "      <th>25%</th>\n",
              "      <th>50%</th>\n",
              "      <th>75%</th>\n",
              "      <th>max</th>\n",
              "      <th>std</th>\n",
              "    </tr>\n",
              "  </thead>\n",
              "  <tbody>\n",
              "    <tr>\n",
              "      <th>Rooms</th>\n",
              "      <td>27103.000</td>\n",
              "      <td>2.992</td>\n",
              "      <td>1.000</td>\n",
              "      <td>2.000</td>\n",
              "      <td>3.000</td>\n",
              "      <td>4.000</td>\n",
              "      <td>16.000</td>\n",
              "      <td>0.955</td>\n",
              "    </tr>\n",
              "    <tr>\n",
              "      <th>Date</th>\n",
              "      <td>27103</td>\n",
              "      <td>2017-05-23 12:25:09.441759488</td>\n",
              "      <td>2016-01-28 00:00:00</td>\n",
              "      <td>2016-11-19 00:00:00</td>\n",
              "      <td>2017-07-08 00:00:00</td>\n",
              "      <td>2017-10-28 00:00:00</td>\n",
              "      <td>2018-03-17 00:00:00</td>\n",
              "      <td>NaN</td>\n",
              "    </tr>\n",
              "    <tr>\n",
              "      <th>Distance</th>\n",
              "      <td>27102.000</td>\n",
              "      <td>11.280</td>\n",
              "      <td>0.000</td>\n",
              "      <td>6.400</td>\n",
              "      <td>10.500</td>\n",
              "      <td>14.000</td>\n",
              "      <td>48.100</td>\n",
              "      <td>6.784</td>\n",
              "    </tr>\n",
              "    <tr>\n",
              "      <th>Postcode</th>\n",
              "      <td>27102.000</td>\n",
              "      <td>3113.787</td>\n",
              "      <td>3000.000</td>\n",
              "      <td>3046.000</td>\n",
              "      <td>3088.000</td>\n",
              "      <td>3153.000</td>\n",
              "      <td>3978.000</td>\n",
              "      <td>111.129</td>\n",
              "    </tr>\n",
              "    <tr>\n",
              "      <th>Bedroom</th>\n",
              "      <td>20678.000</td>\n",
              "      <td>3.046</td>\n",
              "      <td>0.000</td>\n",
              "      <td>2.000</td>\n",
              "      <td>3.000</td>\n",
              "      <td>4.000</td>\n",
              "      <td>20.000</td>\n",
              "      <td>0.955</td>\n",
              "    </tr>\n",
              "    <tr>\n",
              "      <th>Bathroom</th>\n",
              "      <td>20672.000</td>\n",
              "      <td>1.592</td>\n",
              "      <td>0.000</td>\n",
              "      <td>1.000</td>\n",
              "      <td>1.000</td>\n",
              "      <td>2.000</td>\n",
              "      <td>9.000</td>\n",
              "      <td>0.701</td>\n",
              "    </tr>\n",
              "    <tr>\n",
              "      <th>Car</th>\n",
              "      <td>20297.000</td>\n",
              "      <td>1.716</td>\n",
              "      <td>0.000</td>\n",
              "      <td>1.000</td>\n",
              "      <td>2.000</td>\n",
              "      <td>2.000</td>\n",
              "      <td>18.000</td>\n",
              "      <td>0.994</td>\n",
              "    </tr>\n",
              "    <tr>\n",
              "      <th>Landsize</th>\n",
              "      <td>17873.000</td>\n",
              "      <td>560.537</td>\n",
              "      <td>50.000</td>\n",
              "      <td>220.000</td>\n",
              "      <td>513.000</td>\n",
              "      <td>664.000</td>\n",
              "      <td>76000.000</td>\n",
              "      <td>1411.309</td>\n",
              "    </tr>\n",
              "    <tr>\n",
              "      <th>BuildingArea</th>\n",
              "      <td>10529.000</td>\n",
              "      <td>154.512</td>\n",
              "      <td>11.000</td>\n",
              "      <td>101.000</td>\n",
              "      <td>133.000</td>\n",
              "      <td>183.000</td>\n",
              "      <td>6791.000</td>\n",
              "      <td>130.584</td>\n",
              "    </tr>\n",
              "    <tr>\n",
              "      <th>YearBuilt</th>\n",
              "      <td>11985.000</td>\n",
              "      <td>1966.618</td>\n",
              "      <td>1850.000</td>\n",
              "      <td>1950.000</td>\n",
              "      <td>1970.000</td>\n",
              "      <td>2000.000</td>\n",
              "      <td>2019.000</td>\n",
              "      <td>36.042</td>\n",
              "    </tr>\n",
              "    <tr>\n",
              "      <th>Propertycount</th>\n",
              "      <td>27103.000</td>\n",
              "      <td>7564.741</td>\n",
              "      <td>83.000</td>\n",
              "      <td>4294.000</td>\n",
              "      <td>6567.000</td>\n",
              "      <td>10412.000</td>\n",
              "      <td>21650.000</td>\n",
              "      <td>4494.028</td>\n",
              "    </tr>\n",
              "    <tr>\n",
              "      <th>Price</th>\n",
              "      <td>27103.000</td>\n",
              "      <td>1050664.131</td>\n",
              "      <td>85000.000</td>\n",
              "      <td>635000.000</td>\n",
              "      <td>871000.000</td>\n",
              "      <td>1300000.000</td>\n",
              "      <td>11200000.000</td>\n",
              "      <td>641660.161</td>\n",
              "    </tr>\n",
              "  </tbody>\n",
              "</table>\n",
              "</div>\n",
              "    <div class=\"colab-df-buttons\">\n",
              "\n",
              "  <div class=\"colab-df-container\">\n",
              "    <button class=\"colab-df-convert\" onclick=\"convertToInteractive('df-53f252c8-d0f5-46eb-92b2-488948ef0fbf')\"\n",
              "            title=\"Convert this dataframe to an interactive table.\"\n",
              "            style=\"display:none;\">\n",
              "\n",
              "  <svg xmlns=\"http://www.w3.org/2000/svg\" height=\"24px\" viewBox=\"0 -960 960 960\">\n",
              "    <path d=\"M120-120v-720h720v720H120Zm60-500h600v-160H180v160Zm220 220h160v-160H400v160Zm0 220h160v-160H400v160ZM180-400h160v-160H180v160Zm440 0h160v-160H620v160ZM180-180h160v-160H180v160Zm440 0h160v-160H620v160Z\"/>\n",
              "  </svg>\n",
              "    </button>\n",
              "\n",
              "  <style>\n",
              "    .colab-df-container {\n",
              "      display:flex;\n",
              "      gap: 12px;\n",
              "    }\n",
              "\n",
              "    .colab-df-convert {\n",
              "      background-color: #E8F0FE;\n",
              "      border: none;\n",
              "      border-radius: 50%;\n",
              "      cursor: pointer;\n",
              "      display: none;\n",
              "      fill: #1967D2;\n",
              "      height: 32px;\n",
              "      padding: 0 0 0 0;\n",
              "      width: 32px;\n",
              "    }\n",
              "\n",
              "    .colab-df-convert:hover {\n",
              "      background-color: #E2EBFA;\n",
              "      box-shadow: 0px 1px 2px rgba(60, 64, 67, 0.3), 0px 1px 3px 1px rgba(60, 64, 67, 0.15);\n",
              "      fill: #174EA6;\n",
              "    }\n",
              "\n",
              "    .colab-df-buttons div {\n",
              "      margin-bottom: 4px;\n",
              "    }\n",
              "\n",
              "    [theme=dark] .colab-df-convert {\n",
              "      background-color: #3B4455;\n",
              "      fill: #D2E3FC;\n",
              "    }\n",
              "\n",
              "    [theme=dark] .colab-df-convert:hover {\n",
              "      background-color: #434B5C;\n",
              "      box-shadow: 0px 1px 3px 1px rgba(0, 0, 0, 0.15);\n",
              "      filter: drop-shadow(0px 1px 2px rgba(0, 0, 0, 0.3));\n",
              "      fill: #FFFFFF;\n",
              "    }\n",
              "  </style>\n",
              "\n",
              "    <script>\n",
              "      const buttonEl =\n",
              "        document.querySelector('#df-53f252c8-d0f5-46eb-92b2-488948ef0fbf button.colab-df-convert');\n",
              "      buttonEl.style.display =\n",
              "        google.colab.kernel.accessAllowed ? 'block' : 'none';\n",
              "\n",
              "      async function convertToInteractive(key) {\n",
              "        const element = document.querySelector('#df-53f252c8-d0f5-46eb-92b2-488948ef0fbf');\n",
              "        const dataTable =\n",
              "          await google.colab.kernel.invokeFunction('convertToInteractive',\n",
              "                                                    [key], {});\n",
              "        if (!dataTable) return;\n",
              "\n",
              "        const docLinkHtml = 'Like what you see? Visit the ' +\n",
              "          '<a target=\"_blank\" href=https://colab.research.google.com/notebooks/data_table.ipynb>data table notebook</a>'\n",
              "          + ' to learn more about interactive tables.';\n",
              "        element.innerHTML = '';\n",
              "        dataTable['output_type'] = 'display_data';\n",
              "        await google.colab.output.renderOutput(dataTable, element);\n",
              "        const docLink = document.createElement('div');\n",
              "        docLink.innerHTML = docLinkHtml;\n",
              "        element.appendChild(docLink);\n",
              "      }\n",
              "    </script>\n",
              "  </div>\n",
              "\n",
              "\n",
              "<div id=\"df-8e1eab0f-1544-4d3d-bc55-085c7d9c8d93\">\n",
              "  <button class=\"colab-df-quickchart\" onclick=\"quickchart('df-8e1eab0f-1544-4d3d-bc55-085c7d9c8d93')\"\n",
              "            title=\"Suggest charts\"\n",
              "            style=\"display:none;\">\n",
              "\n",
              "<svg xmlns=\"http://www.w3.org/2000/svg\" height=\"24px\"viewBox=\"0 0 24 24\"\n",
              "     width=\"24px\">\n",
              "    <g>\n",
              "        <path d=\"M19 3H5c-1.1 0-2 .9-2 2v14c0 1.1.9 2 2 2h14c1.1 0 2-.9 2-2V5c0-1.1-.9-2-2-2zM9 17H7v-7h2v7zm4 0h-2V7h2v10zm4 0h-2v-4h2v4z\"/>\n",
              "    </g>\n",
              "</svg>\n",
              "  </button>\n",
              "\n",
              "<style>\n",
              "  .colab-df-quickchart {\n",
              "      --bg-color: #E8F0FE;\n",
              "      --fill-color: #1967D2;\n",
              "      --hover-bg-color: #E2EBFA;\n",
              "      --hover-fill-color: #174EA6;\n",
              "      --disabled-fill-color: #AAA;\n",
              "      --disabled-bg-color: #DDD;\n",
              "  }\n",
              "\n",
              "  [theme=dark] .colab-df-quickchart {\n",
              "      --bg-color: #3B4455;\n",
              "      --fill-color: #D2E3FC;\n",
              "      --hover-bg-color: #434B5C;\n",
              "      --hover-fill-color: #FFFFFF;\n",
              "      --disabled-bg-color: #3B4455;\n",
              "      --disabled-fill-color: #666;\n",
              "  }\n",
              "\n",
              "  .colab-df-quickchart {\n",
              "    background-color: var(--bg-color);\n",
              "    border: none;\n",
              "    border-radius: 50%;\n",
              "    cursor: pointer;\n",
              "    display: none;\n",
              "    fill: var(--fill-color);\n",
              "    height: 32px;\n",
              "    padding: 0;\n",
              "    width: 32px;\n",
              "  }\n",
              "\n",
              "  .colab-df-quickchart:hover {\n",
              "    background-color: var(--hover-bg-color);\n",
              "    box-shadow: 0 1px 2px rgba(60, 64, 67, 0.3), 0 1px 3px 1px rgba(60, 64, 67, 0.15);\n",
              "    fill: var(--button-hover-fill-color);\n",
              "  }\n",
              "\n",
              "  .colab-df-quickchart-complete:disabled,\n",
              "  .colab-df-quickchart-complete:disabled:hover {\n",
              "    background-color: var(--disabled-bg-color);\n",
              "    fill: var(--disabled-fill-color);\n",
              "    box-shadow: none;\n",
              "  }\n",
              "\n",
              "  .colab-df-spinner {\n",
              "    border: 2px solid var(--fill-color);\n",
              "    border-color: transparent;\n",
              "    border-bottom-color: var(--fill-color);\n",
              "    animation:\n",
              "      spin 1s steps(1) infinite;\n",
              "  }\n",
              "\n",
              "  @keyframes spin {\n",
              "    0% {\n",
              "      border-color: transparent;\n",
              "      border-bottom-color: var(--fill-color);\n",
              "      border-left-color: var(--fill-color);\n",
              "    }\n",
              "    20% {\n",
              "      border-color: transparent;\n",
              "      border-left-color: var(--fill-color);\n",
              "      border-top-color: var(--fill-color);\n",
              "    }\n",
              "    30% {\n",
              "      border-color: transparent;\n",
              "      border-left-color: var(--fill-color);\n",
              "      border-top-color: var(--fill-color);\n",
              "      border-right-color: var(--fill-color);\n",
              "    }\n",
              "    40% {\n",
              "      border-color: transparent;\n",
              "      border-right-color: var(--fill-color);\n",
              "      border-top-color: var(--fill-color);\n",
              "    }\n",
              "    60% {\n",
              "      border-color: transparent;\n",
              "      border-right-color: var(--fill-color);\n",
              "    }\n",
              "    80% {\n",
              "      border-color: transparent;\n",
              "      border-right-color: var(--fill-color);\n",
              "      border-bottom-color: var(--fill-color);\n",
              "    }\n",
              "    90% {\n",
              "      border-color: transparent;\n",
              "      border-bottom-color: var(--fill-color);\n",
              "    }\n",
              "  }\n",
              "</style>\n",
              "\n",
              "  <script>\n",
              "    async function quickchart(key) {\n",
              "      const quickchartButtonEl =\n",
              "        document.querySelector('#' + key + ' button');\n",
              "      quickchartButtonEl.disabled = true;  // To prevent multiple clicks.\n",
              "      quickchartButtonEl.classList.add('colab-df-spinner');\n",
              "      try {\n",
              "        const charts = await google.colab.kernel.invokeFunction(\n",
              "            'suggestCharts', [key], {});\n",
              "      } catch (error) {\n",
              "        console.error('Error during call to suggestCharts:', error);\n",
              "      }\n",
              "      quickchartButtonEl.classList.remove('colab-df-spinner');\n",
              "      quickchartButtonEl.classList.add('colab-df-quickchart-complete');\n",
              "    }\n",
              "    (() => {\n",
              "      let quickchartButtonEl =\n",
              "        document.querySelector('#df-8e1eab0f-1544-4d3d-bc55-085c7d9c8d93 button');\n",
              "      quickchartButtonEl.style.display =\n",
              "        google.colab.kernel.accessAllowed ? 'block' : 'none';\n",
              "    })();\n",
              "  </script>\n",
              "</div>\n",
              "\n",
              "    </div>\n",
              "  </div>\n"
            ],
            "application/vnd.google.colaboratory.intrinsic+json": {
              "type": "dataframe",
              "summary": "{\n  \"name\": \"data\",\n  \"rows\": 12,\n  \"fields\": [\n    {\n      \"column\": \"count\",\n      \"properties\": {\n        \"dtype\": \"date\",\n        \"min\": 10529.0,\n        \"max\": 27103.0,\n        \"num_unique_values\": 8,\n        \"samples\": [\n          27102.0,\n          17873.0,\n          27103.0\n        ],\n        \"semantic_type\": \"\",\n        \"description\": \"\"\n      }\n    },\n    {\n      \"column\": \"mean\",\n      \"properties\": {\n        \"dtype\": \"date\",\n        \"min\": \"1970-01-01 00:00:00.000000001\",\n        \"max\": \"2017-05-23 12:25:09.441759488\",\n        \"num_unique_values\": 12,\n        \"samples\": [\n          7564.7410249787845,\n          1966.6182728410513,\n          2.992473157952994\n        ],\n        \"semantic_type\": \"\",\n        \"description\": \"\"\n      }\n    },\n    {\n      \"column\": \"min\",\n      \"properties\": {\n        \"dtype\": \"date\",\n        \"min\": \"1970-01-01 00:00:00\",\n        \"max\": \"2016-01-28 00:00:00\",\n        \"num_unique_values\": 9,\n        \"samples\": [\n          83.0,\n          \"2016-01-28 00:00:00\",\n          11.0\n        ],\n        \"semantic_type\": \"\",\n        \"description\": \"\"\n      }\n    },\n    {\n      \"column\": \"25%\",\n      \"properties\": {\n        \"dtype\": \"date\",\n        \"min\": \"1970-01-01 00:00:00.000000001\",\n        \"max\": \"2016-11-19 00:00:00\",\n        \"num_unique_values\": 10,\n        \"samples\": [\n          4294.0,\n          \"2016-11-19 00:00:00\",\n          220.0\n        ],\n        \"semantic_type\": \"\",\n        \"description\": \"\"\n      }\n    },\n    {\n      \"column\": \"50%\",\n      \"properties\": {\n        \"dtype\": \"date\",\n        \"min\": \"1970-01-01 00:00:00.000000001\",\n        \"max\": \"2017-07-08 00:00:00\",\n        \"num_unique_values\": 11,\n        \"samples\": [\n          2.0,\n          3.0,\n          6567.0\n        ],\n        \"semantic_type\": \"\",\n        \"description\": \"\"\n      }\n    },\n    {\n      \"column\": \"75%\",\n      \"properties\": {\n        \"dtype\": \"date\",\n        \"min\": \"1970-01-01 00:00:00.000000002\",\n        \"max\": \"2017-10-28 00:00:00\",\n        \"num_unique_values\": 10,\n        \"samples\": [\n          10412.0,\n          \"2017-10-28 00:00:00\",\n          664.0\n        ],\n        \"semantic_type\": \"\",\n        \"description\": \"\"\n      }\n    },\n    {\n      \"column\": \"max\",\n      \"properties\": {\n        \"dtype\": \"date\",\n        \"min\": \"1970-01-01 00:00:00.000000009\",\n        \"max\": \"2018-03-17 00:00:00\",\n        \"num_unique_values\": 12,\n        \"samples\": [\n          21650.0,\n          2019.0,\n          16.0\n        ],\n        \"semantic_type\": \"\",\n        \"description\": \"\"\n      }\n    },\n    {\n      \"column\": \"std\",\n      \"properties\": {\n        \"dtype\": \"date\",\n        \"min\": 0.701106444276239,\n        \"max\": 641660.1614977306,\n        \"num_unique_values\": 11,\n        \"samples\": [\n          0.99448742139939,\n          0.9546669546632403,\n          4494.0283465199445\n        ],\n        \"semantic_type\": \"\",\n        \"description\": \"\"\n      }\n    }\n  ]\n}"
            }
          },
          "metadata": {},
          "execution_count": 20
        }
      ],
      "source": [
        "data.describe().T"
      ]
    },
    {
      "cell_type": "markdown",
      "metadata": {
        "id": "jcd5fPhMA-tQ"
      },
      "source": [
        "* `Rooms:` On average there are 3 rooms in a property. 75% of the properties have less than or equal to 4 rooms. There are some properties which have 16 rooms.\n",
        "* `Distance`: On average the properties are located within 11.28 Kms of central business district, while the median is 10.5 Kms. There is a huge difference between the maximum value and the 75% percentile of the data which indicates there might be outliers present in this column.\n",
        "* The distribution of the number of bedrooms, bathrooms, and car parking spaces is fine. The maximum values of these columns might require a quick check.\n",
        "* `Landsize`: The Landsize column has a huge standard deviation with a mean and median land size of 560.53 and 513 metres respectively. Also, there is a huge difference between the maximum value and the 75% percentile of the data which indicates there might be outliers present in this column.\n",
        "* `YearBuilt`: The latest property was built in 2019 while the earliest property was built in 1850.\n",
        "* `Propertycount`: On average a suburb has around 7564 properties. The column has a large standard deviation of 4494.02 units.\n",
        "* `Price`: On average the house prices are AUD 1050664. The median prices are AUD 871000. There is a huge difference between the maximum value and the 75% percentile of the data which indicates there might be outliers present in this column."
      ]
    },
    {
      "cell_type": "code",
      "execution_count": 21,
      "metadata": {
        "id": "zaEUQ1Ng_9vo",
        "colab": {
          "base_uri": "https://localhost:8080/"
        },
        "outputId": "1f3ccaa8-df44-49e7-db79-2ad909aab560"
      },
      "outputs": [
        {
          "output_type": "execute_result",
          "data": {
            "text/plain": [
              "209"
            ]
          },
          "metadata": {},
          "execution_count": 21
        }
      ],
      "source": [
        "# let's check the total number of unique values in the Postcode column\n",
        "data['Postcode'].nunique()"
      ]
    },
    {
      "cell_type": "markdown",
      "metadata": {
        "id": "Ernj0kh0GzBO"
      },
      "source": [
        "* There are a total of 209 different postcodes in the data."
      ]
    },
    {
      "cell_type": "markdown",
      "metadata": {
        "id": "NHBf6nG6GVFN"
      },
      "source": [
        "**Let's check the count and percentage of categorical levels in each column**"
      ]
    },
    {
      "cell_type": "code",
      "execution_count": 22,
      "metadata": {
        "id": "tuEDP6sd1vEU",
        "colab": {
          "base_uri": "https://localhost:8080/"
        },
        "outputId": "f86172da-754b-4296-94d8-1ef61aa1b496"
      },
      "outputs": [
        {
          "output_type": "stream",
          "name": "stdout",
          "text": [
            "Suburb\n",
            "Reservoir         724\n",
            "Bentleigh East    493\n",
            "Richmond          437\n",
            "Preston           410\n",
            "Brunswick         383\n",
            "                 ... \n",
            "Wandin North        1\n",
            "Ferny Creek         1\n",
            "Tecoma              1\n",
            "Montrose            1\n",
            "viewbank            1\n",
            "Name: count, Length: 345, dtype: int64\n",
            "--------------------------------------------------\n",
            "Type\n",
            "h    18394\n",
            "u     5882\n",
            "t     2827\n",
            "Name: count, dtype: int64\n",
            "--------------------------------------------------\n",
            "SellerG\n",
            "Nelson           2733\n",
            "Jellis           2516\n",
            "Barry            2385\n",
            "hockingstuart    2096\n",
            "Ray              1574\n",
            "                 ... \n",
            "Allan               1\n",
            "Jim                 1\n",
            "iProperty           1\n",
            "Batty               1\n",
            "Icon                1\n",
            "Name: count, Length: 347, dtype: int64\n",
            "--------------------------------------------------\n",
            "Regionname\n",
            "Southern Metropolitan         8480\n",
            "Northern Metropolitan         7809\n",
            "Western Metropolitan          5792\n",
            "Eastern Metropolitan          3264\n",
            "South-Eastern Metropolitan    1336\n",
            "Northern Victoria              165\n",
            "Eastern Victoria               163\n",
            "Western Victoria                94\n",
            "Name: count, dtype: int64\n",
            "--------------------------------------------------\n"
          ]
        }
      ],
      "source": [
        "# Making a list of all categorical variables\n",
        "cat_cols =  ['Suburb', 'Type', 'SellerG', 'Regionname']\n",
        "\n",
        "# Printing the count of unique categorical levels in each column\n",
        "for column in cat_cols:\n",
        "    print(data[column].value_counts())\n",
        "    print(\"-\" * 50)"
      ]
    },
    {
      "cell_type": "code",
      "execution_count": 23,
      "metadata": {
        "id": "DejV6efOBwri",
        "colab": {
          "base_uri": "https://localhost:8080/"
        },
        "outputId": "5f5e338c-8791-4b76-f9ae-da96304d1bff"
      },
      "outputs": [
        {
          "output_type": "stream",
          "name": "stdout",
          "text": [
            "Suburb\n",
            "Reservoir        0.027\n",
            "Bentleigh East   0.018\n",
            "Richmond         0.016\n",
            "Preston          0.015\n",
            "Brunswick        0.014\n",
            "                  ... \n",
            "Wandin North     0.000\n",
            "Ferny Creek      0.000\n",
            "Tecoma           0.000\n",
            "Montrose         0.000\n",
            "viewbank         0.000\n",
            "Name: proportion, Length: 345, dtype: float64\n",
            "--------------------------------------------------\n",
            "Type\n",
            "h   0.679\n",
            "u   0.217\n",
            "t   0.104\n",
            "Name: proportion, dtype: float64\n",
            "--------------------------------------------------\n",
            "SellerG\n",
            "Nelson          0.101\n",
            "Jellis          0.093\n",
            "Barry           0.088\n",
            "hockingstuart   0.077\n",
            "Ray             0.058\n",
            "                 ... \n",
            "Allan           0.000\n",
            "Jim             0.000\n",
            "iProperty       0.000\n",
            "Batty           0.000\n",
            "Icon            0.000\n",
            "Name: proportion, Length: 347, dtype: float64\n",
            "--------------------------------------------------\n",
            "Regionname\n",
            "Southern Metropolitan        0.313\n",
            "Northern Metropolitan        0.288\n",
            "Western Metropolitan         0.214\n",
            "Eastern Metropolitan         0.120\n",
            "South-Eastern Metropolitan   0.049\n",
            "Northern Victoria            0.006\n",
            "Eastern Victoria             0.006\n",
            "Western Victoria             0.003\n",
            "Name: proportion, dtype: float64\n",
            "--------------------------------------------------\n"
          ]
        }
      ],
      "source": [
        "# Printing the percentage of unique categorical levels in each column\n",
        "for column in cat_cols:\n",
        "    print(data[column].value_counts(normalize=True))\n",
        "    print(\"-\" * 50)"
      ]
    },
    {
      "cell_type": "markdown",
      "metadata": {
        "id": "9mqdfr8n16fu"
      },
      "source": [
        "**Observations**\n",
        "* Highest number (724) of the properties are in Reservoir suburb followed by 493 properties in Bentleigh East suburb.\n",
        "* Most of the properties (18394 or 67%) are of type 'h' that is houses/cottages/villas, etc followed by 5882 or 21% properties of type 'u' that is unit/duplex. The least number (2827 or 10%) is of type 't' that is townhouses.\n",
        "* Top 5 sellers of properties are  - Nelson, Jellis, Barry, hockingstuart, and Ray.\n",
        "* 31% of the properties are in Southern Metropolitan followed by 28% in Northern Metropolitan, and 21% in Western Metropolitan. This shows that our analysis will be biased towards Metropolitan regions than Victoria regions as around 98% of the data points are from Metropolitan region."
      ]
    },
    {
      "cell_type": "markdown",
      "metadata": {
        "id": "j6uAieYsNnL4"
      },
      "source": [
        "### 4.2 Univariate Analysis"
      ]
    },
    {
      "cell_type": "markdown",
      "metadata": {
        "id": "jVuRCQCsPdq5"
      },
      "source": [
        "**Let's check the distribution for numerical columns.**"
      ]
    },
    {
      "cell_type": "markdown",
      "metadata": {
        "id": "vz2c8XHoRMh4"
      },
      "source": [
        "**Observations on Distance**"
      ]
    },
    {
      "cell_type": "code",
      "execution_count": 24,
      "metadata": {
        "id": "4_Du3cBCNtXj",
        "colab": {
          "base_uri": "https://localhost:8080/",
          "height": 881
        },
        "outputId": "b74b7ed5-d2fa-4895-9e36-129d4ff39320"
      },
      "outputs": [
        {
          "output_type": "display_data",
          "data": {
            "text/plain": [
              "<Figure size 640x480 with 1 Axes>"
            ],
            "image/png": "[encoded data removed]"
          },
          "metadata": {}
        },
        {
          "output_type": "display_data",
          "data": {
            "text/plain": [
              "<Figure size 640x480 with 1 Axes>"
            ],
            "image/png": "[encoded data removed]"
          },
          "metadata": {}
        }
      ],
      "source": [
        "sns.histplot(data=data,x='Distance',stat='density')\n",
        "plt.show()\n",
        "sns.boxplot(data=data,x='Distance')\n",
        "plt.show()"
      ]
    },
    {
      "cell_type": "markdown",
      "metadata": {
        "id": "7aD6DGL1YEHy"
      },
      "source": [
        "* The distribution is skewed towards right.\n",
        "* There are many outliers present in this column.\n",
        "* Values above 25 Kms are being represented as outliers in the boxplot, indicating there there are many properties that are atleast 25 Kms away from CBD."
      ]
    },
    {
      "cell_type": "markdown",
      "metadata": {
        "id": "vWIAkz-ZRQrE"
      },
      "source": [
        "**Observations on Landsize**"
      ]
    },
    {
      "cell_type": "code",
      "execution_count": 25,
      "metadata": {
        "id": "6V1m7CPjO690",
        "colab": {
          "base_uri": "https://localhost:8080/",
          "height": 938
        },
        "outputId": "c5fcc7f0-22b3-4fd3-bfa3-32cdc09e91fc"
      },
      "outputs": [
        {
          "output_type": "display_data",
          "data": {
            "text/plain": [
              "<Figure size 500x500 with 1 Axes>"
            ],
            "image/png": "[encoded data removed]"
          },
          "metadata": {}
        },
        {
          "output_type": "display_data",
          "data": {
            "text/plain": [
              "<Figure size 640x480 with 1 Axes>"
            ],
            "image/png": "[encoded data removed]"
          },
          "metadata": {}
        }
      ],
      "source": [
        "sns.displot(data=data,x='Landsize',kind='kde')\n",
        "plt.show()\n",
        "sns.boxplot(data=data,x='Landsize')\n",
        "plt.show()"
      ]
    },
    {
      "cell_type": "code",
      "execution_count": 26,
      "metadata": {
        "id": "9U6-ed0jBwrk",
        "colab": {
          "base_uri": "https://localhost:8080/",
          "height": 938
        },
        "outputId": "f7937afb-f92f-443e-8ea9-21422cac0e2c"
      },
      "outputs": [
        {
          "output_type": "display_data",
          "data": {
            "text/plain": [
              "<Figure size 500x500 with 1 Axes>"
            ],
            "image/png": "[encoded data removed]"
          },
          "metadata": {}
        },
        {
          "output_type": "display_data",
          "data": {
            "text/plain": [
              "<Figure size 640x480 with 1 Axes>"
            ],
            "image/png": "[encoded data removed]"
          },
          "metadata": {}
        }
      ],
      "source": [
        "# converting Landsize to sq. kilometres from sq. metres\n",
        "sns.displot(data=data,x=data['Landsize']/1000000,kind='kde')\n",
        "plt.show()\n",
        "sns.boxplot(data=data,x=data['Landsize']/1000000)\n",
        "plt.show()"
      ]
    },
    {
      "cell_type": "markdown",
      "metadata": {
        "id": "_TkU7Lk7Y910"
      },
      "source": [
        "* The distribution is skewed towards the right, even after conversion to Kilometres.  \n",
        "* There are many outliers present in this column. Some properties have a landsize of more than 60000 sq meters. These value seems to be very high and can possibly be a data entry error. We should check it further."
      ]
    },
    {
      "cell_type": "code",
      "execution_count": 27,
      "metadata": {
        "id": "H3jiIhK6Bwrl",
        "colab": {
          "base_uri": "https://localhost:8080/",
          "height": 145
        },
        "outputId": "c268fd6b-3e33-4ba0-ac7b-bd03c775d9cb"
      },
      "outputs": [
        {
          "output_type": "execute_result",
          "data": {
            "text/plain": [
              "             Suburb  Rooms Type    SellerG       Date  Distance  Postcode  \\\n",
              "23897        Silvan      3    h  Harcourts 2017-05-27    34.600  3795.000   \n",
              "25079  Balwyn North      3    h        Kay 2016-08-28     9.200  3104.000   \n",
              "\n",
              "       Bedroom  Bathroom   Car  Landsize  BuildingArea  YearBuilt  \\\n",
              "23897    3.000     2.000 2.000 76000.000           NaN        NaN   \n",
              "25079    3.000     1.000 2.000 75100.000           NaN        NaN   \n",
              "\n",
              "                  Regionname  Propertycount    Price  \n",
              "23897       Eastern Victoria            457  1085000  \n",
              "25079  Southern Metropolitan           7809  2000000  "
            ],
            "text/html": [
              "\n",
              "  <div id=\"df-d6dd3b56-e3b4-49c4-95e7-163daee8a4df\" class=\"colab-df-container\">\n",
              "    <div>\n",
              "<style scoped>\n",
              "    .dataframe tbody tr th:only-of-type {\n",
              "        vertical-align: middle;\n",
              "    }\n",
              "\n",
              "    .dataframe tbody tr th {\n",
              "        vertical-align: top;\n",
              "    }\n",
              "\n",
              "    .dataframe thead th {\n",
              "        text-align: right;\n",
              "    }\n",
              "</style>\n",
              "<table border=\"1\" class=\"dataframe\">\n",
              "  <thead>\n",
              "    <tr style=\"text-align: right;\">\n",
              "      <th></th>\n",
              "      <th>Suburb</th>\n",
              "      <th>Rooms</th>\n",
              "      <th>Type</th>\n",
              "      <th>SellerG</th>\n",
              "      <th>Date</th>\n",
              "      <th>Distance</th>\n",
              "      <th>Postcode</th>\n",
              "      <th>Bedroom</th>\n",
              "      <th>Bathroom</th>\n",
              "      <th>Car</th>\n",
              "      <th>Landsize</th>\n",
              "      <th>BuildingArea</th>\n",
              "      <th>YearBuilt</th>\n",
              "      <th>Regionname</th>\n",
              "      <th>Propertycount</th>\n",
              "      <th>Price</th>\n",
              "    </tr>\n",
              "  </thead>\n",
              "  <tbody>\n",
              "    <tr>\n",
              "      <th>23897</th>\n",
              "      <td>Silvan</td>\n",
              "      <td>3</td>\n",
              "      <td>h</td>\n",
              "      <td>Harcourts</td>\n",
              "      <td>2017-05-27</td>\n",
              "      <td>34.600</td>\n",
              "      <td>3795.000</td>\n",
              "      <td>3.000</td>\n",
              "      <td>2.000</td>\n",
              "      <td>2.000</td>\n",
              "      <td>76000.000</td>\n",
              "      <td>NaN</td>\n",
              "      <td>NaN</td>\n",
              "      <td>Eastern Victoria</td>\n",
              "      <td>457</td>\n",
              "      <td>1085000</td>\n",
              "    </tr>\n",
              "    <tr>\n",
              "      <th>25079</th>\n",
              "      <td>Balwyn North</td>\n",
              "      <td>3</td>\n",
              "      <td>h</td>\n",
              "      <td>Kay</td>\n",
              "      <td>2016-08-28</td>\n",
              "      <td>9.200</td>\n",
              "      <td>3104.000</td>\n",
              "      <td>3.000</td>\n",
              "      <td>1.000</td>\n",
              "      <td>2.000</td>\n",
              "      <td>75100.000</td>\n",
              "      <td>NaN</td>\n",
              "      <td>NaN</td>\n",
              "      <td>Southern Metropolitan</td>\n",
              "      <td>7809</td>\n",
              "      <td>2000000</td>\n",
              "    </tr>\n",
              "  </tbody>\n",
              "</table>\n",
              "</div>\n",
              "    <div class=\"colab-df-buttons\">\n",
              "\n",
              "  <div class=\"colab-df-container\">\n",
              "    <button class=\"colab-df-convert\" onclick=\"convertToInteractive('df-d6dd3b56-e3b4-49c4-95e7-163daee8a4df')\"\n",
              "            title=\"Convert this dataframe to an interactive table.\"\n",
              "            style=\"display:none;\">\n",
              "\n",
              "  <svg xmlns=\"http://www.w3.org/2000/svg\" height=\"24px\" viewBox=\"0 -960 960 960\">\n",
              "    <path d=\"M120-120v-720h720v720H120Zm60-500h600v-160H180v160Zm220 220h160v-160H400v160Zm0 220h160v-160H400v160ZM180-400h160v-160H180v160Zm440 0h160v-160H620v160ZM180-180h160v-160H180v160Zm440 0h160v-160H620v160Z\"/>\n",
              "  </svg>\n",
              "    </button>\n",
              "\n",
              "  <style>\n",
              "    .colab-df-container {\n",
              "      display:flex;\n",
              "      gap: 12px;\n",
              "    }\n",
              "\n",
              "    .colab-df-convert {\n",
              "      background-color: #E8F0FE;\n",
              "      border: none;\n",
              "      border-radius: 50%;\n",
              "      cursor: pointer;\n",
              "      display: none;\n",
              "      fill: #1967D2;\n",
              "      height: 32px;\n",
              "      padding: 0 0 0 0;\n",
              "      width: 32px;\n",
              "    }\n",
              "\n",
              "    .colab-df-convert:hover {\n",
              "      background-color: #E2EBFA;\n",
              "      box-shadow: 0px 1px 2px rgba(60, 64, 67, 0.3), 0px 1px 3px 1px rgba(60, 64, 67, 0.15);\n",
              "      fill: #174EA6;\n",
              "    }\n",
              "\n",
              "    .colab-df-buttons div {\n",
              "      margin-bottom: 4px;\n",
              "    }\n",
              "\n",
              "    [theme=dark] .colab-df-convert {\n",
              "      background-color: #3B4455;\n",
              "      fill: #D2E3FC;\n",
              "    }\n",
              "\n",
              "    [theme=dark] .colab-df-convert:hover {\n",
              "      background-color: #434B5C;\n",
              "      box-shadow: 0px 1px 3px 1px rgba(0, 0, 0, 0.15);\n",
              "      filter: drop-shadow(0px 1px 2px rgba(0, 0, 0, 0.3));\n",
              "      fill: #FFFFFF;\n",
              "    }\n",
              "  </style>\n",
              "\n",
              "    <script>\n",
              "      const buttonEl =\n",
              "        document.querySelector('#df-d6dd3b56-e3b4-49c4-95e7-163daee8a4df button.colab-df-convert');\n",
              "      buttonEl.style.display =\n",
              "        google.colab.kernel.accessAllowed ? 'block' : 'none';\n",
              "\n",
              "      async function convertToInteractive(key) {\n",
              "        const element = document.querySelector('#df-d6dd3b56-e3b4-49c4-95e7-163daee8a4df');\n",
              "        const dataTable =\n",
              "          await google.colab.kernel.invokeFunction('convertToInteractive',\n",
              "                                                    [key], {});\n",
              "        if (!dataTable) return;\n",
              "\n",
              "        const docLinkHtml = 'Like what you see? Visit the ' +\n",
              "          '<a target=\"_blank\" href=https://colab.research.google.com/notebooks/data_table.ipynb>data table notebook</a>'\n",
              "          + ' to learn more about interactive tables.';\n",
              "        element.innerHTML = '';\n",
              "        dataTable['output_type'] = 'display_data';\n",
              "        await google.colab.output.renderOutput(dataTable, element);\n",
              "        const docLink = document.createElement('div');\n",
              "        docLink.innerHTML = docLinkHtml;\n",
              "        element.appendChild(docLink);\n",
              "      }\n",
              "    </script>\n",
              "  </div>\n",
              "\n",
              "\n",
              "<div id=\"df-822b1419-319b-4794-a1cc-469d66aa1f27\">\n",
              "  <button class=\"colab-df-quickchart\" onclick=\"quickchart('df-822b1419-319b-4794-a1cc-469d66aa1f27')\"\n",
              "            title=\"Suggest charts\"\n",
              "            style=\"display:none;\">\n",
              "\n",
              "<svg xmlns=\"http://www.w3.org/2000/svg\" height=\"24px\"viewBox=\"0 0 24 24\"\n",
              "     width=\"24px\">\n",
              "    <g>\n",
              "        <path d=\"M19 3H5c-1.1 0-2 .9-2 2v14c0 1.1.9 2 2 2h14c1.1 0 2-.9 2-2V5c0-1.1-.9-2-2-2zM9 17H7v-7h2v7zm4 0h-2V7h2v10zm4 0h-2v-4h2v4z\"/>\n",
              "    </g>\n",
              "</svg>\n",
              "  </button>\n",
              "\n",
              "<style>\n",
              "  .colab-df-quickchart {\n",
              "      --bg-color: #E8F0FE;\n",
              "      --fill-color: #1967D2;\n",
              "      --hover-bg-color: #E2EBFA;\n",
              "      --hover-fill-color: #174EA6;\n",
              "      --disabled-fill-color: #AAA;\n",
              "      --disabled-bg-color: #DDD;\n",
              "  }\n",
              "\n",
              "  [theme=dark] .colab-df-quickchart {\n",
              "      --bg-color: #3B4455;\n",
              "      --fill-color: #D2E3FC;\n",
              "      --hover-bg-color: #434B5C;\n",
              "      --hover-fill-color: #FFFFFF;\n",
              "      --disabled-bg-color: #3B4455;\n",
              "      --disabled-fill-color: #666;\n",
              "  }\n",
              "\n",
              "  .colab-df-quickchart {\n",
              "    background-color: var(--bg-color);\n",
              "    border: none;\n",
              "    border-radius: 50%;\n",
              "    cursor: pointer;\n",
              "    display: none;\n",
              "    fill: var(--fill-color);\n",
              "    height: 32px;\n",
              "    padding: 0;\n",
              "    width: 32px;\n",
              "  }\n",
              "\n",
              "  .colab-df-quickchart:hover {\n",
              "    background-color: var(--hover-bg-color);\n",
              "    box-shadow: 0 1px 2px rgba(60, 64, 67, 0.3), 0 1px 3px 1px rgba(60, 64, 67, 0.15);\n",
              "    fill: var(--button-hover-fill-color);\n",
              "  }\n",
              "\n",
              "  .colab-df-quickchart-complete:disabled,\n",
              "  .colab-df-quickchart-complete:disabled:hover {\n",
              "    background-color: var(--disabled-bg-color);\n",
              "    fill: var(--disabled-fill-color);\n",
              "    box-shadow: none;\n",
              "  }\n",
              "\n",
              "  .colab-df-spinner {\n",
              "    border: 2px solid var(--fill-color);\n",
              "    border-color: transparent;\n",
              "    border-bottom-color: var(--fill-color);\n",
              "    animation:\n",
              "      spin 1s steps(1) infinite;\n",
              "  }\n",
              "\n",
              "  @keyframes spin {\n",
              "    0% {\n",
              "      border-color: transparent;\n",
              "      border-bottom-color: var(--fill-color);\n",
              "      border-left-color: var(--fill-color);\n",
              "    }\n",
              "    20% {\n",
              "      border-color: transparent;\n",
              "      border-left-color: var(--fill-color);\n",
              "      border-top-color: var(--fill-color);\n",
              "    }\n",
              "    30% {\n",
              "      border-color: transparent;\n",
              "      border-left-color: var(--fill-color);\n",
              "      border-top-color: var(--fill-color);\n",
              "      border-right-color: var(--fill-color);\n",
              "    }\n",
              "    40% {\n",
              "      border-color: transparent;\n",
              "      border-right-color: var(--fill-color);\n",
              "      border-top-color: var(--fill-color);\n",
              "    }\n",
              "    60% {\n",
              "      border-color: transparent;\n",
              "      border-right-color: var(--fill-color);\n",
              "    }\n",
              "    80% {\n",
              "      border-color: transparent;\n",
              "      border-right-color: var(--fill-color);\n",
              "      border-bottom-color: var(--fill-color);\n",
              "    }\n",
              "    90% {\n",
              "      border-color: transparent;\n",
              "      border-bottom-color: var(--fill-color);\n",
              "    }\n",
              "  }\n",
              "</style>\n",
              "\n",
              "  <script>\n",
              "    async function quickchart(key) {\n",
              "      const quickchartButtonEl =\n",
              "        document.querySelector('#' + key + ' button');\n",
              "      quickchartButtonEl.disabled = true;  // To prevent multiple clicks.\n",
              "      quickchartButtonEl.classList.add('colab-df-spinner');\n",
              "      try {\n",
              "        const charts = await google.colab.kernel.invokeFunction(\n",
              "            'suggestCharts', [key], {});\n",
              "      } catch (error) {\n",
              "        console.error('Error during call to suggestCharts:', error);\n",
              "      }\n",
              "      quickchartButtonEl.classList.remove('colab-df-spinner');\n",
              "      quickchartButtonEl.classList.add('colab-df-quickchart-complete');\n",
              "    }\n",
              "    (() => {\n",
              "      let quickchartButtonEl =\n",
              "        document.querySelector('#df-822b1419-319b-4794-a1cc-469d66aa1f27 button');\n",
              "      quickchartButtonEl.style.display =\n",
              "        google.colab.kernel.accessAllowed ? 'block' : 'none';\n",
              "    })();\n",
              "  </script>\n",
              "</div>\n",
              "\n",
              "    </div>\n",
              "  </div>\n"
            ],
            "application/vnd.google.colaboratory.intrinsic+json": {
              "type": "dataframe",
              "summary": "{\n  \"name\": \"data\",\n  \"rows\": 2,\n  \"fields\": [\n    {\n      \"column\": \"Suburb\",\n      \"properties\": {\n        \"dtype\": \"string\",\n        \"num_unique_values\": 2,\n        \"samples\": [\n          \"Balwyn North\",\n          \"Silvan\"\n        ],\n        \"semantic_type\": \"\",\n        \"description\": \"\"\n      }\n    },\n    {\n      \"column\": \"Rooms\",\n      \"properties\": {\n        \"dtype\": \"number\",\n        \"std\": 0,\n        \"min\": 3,\n        \"max\": 3,\n        \"num_unique_values\": 1,\n        \"samples\": [\n          3\n        ],\n        \"semantic_type\": \"\",\n        \"description\": \"\"\n      }\n    },\n    {\n      \"column\": \"Type\",\n      \"properties\": {\n        \"dtype\": \"string\",\n        \"num_unique_values\": 1,\n        \"samples\": [\n          \"h\"\n        ],\n        \"semantic_type\": \"\",\n        \"description\": \"\"\n      }\n    },\n    {\n      \"column\": \"SellerG\",\n      \"properties\": {\n        \"dtype\": \"string\",\n        \"num_unique_values\": 2,\n        \"samples\": [\n          \"Kay\"\n        ],\n        \"semantic_type\": \"\",\n        \"description\": \"\"\n      }\n    },\n    {\n      \"column\": \"Date\",\n      \"properties\": {\n        \"dtype\": \"date\",\n        \"min\": \"2016-08-28 00:00:00\",\n        \"max\": \"2017-05-27 00:00:00\",\n        \"num_unique_values\": 2,\n        \"samples\": [\n          \"2016-08-28 00:00:00\"\n        ],\n        \"semantic_type\": \"\",\n        \"description\": \"\"\n      }\n    },\n    {\n      \"column\": \"Distance\",\n      \"properties\": {\n        \"dtype\": \"number\",\n        \"std\": 17.960512242138307,\n        \"min\": 9.2,\n        \"max\": 34.6,\n        \"num_unique_values\": 2,\n        \"samples\": [\n          9.2\n        ],\n        \"semantic_type\": \"\",\n        \"description\": \"\"\n      }\n    },\n    {\n      \"column\": \"Postcode\",\n      \"properties\": {\n        \"dtype\": \"number\",\n        \"std\": 488.61078579990436,\n        \"min\": 3104.0,\n        \"max\": 3795.0,\n        \"num_unique_values\": 2,\n        \"samples\": [\n          3104.0\n        ],\n        \"semantic_type\": \"\",\n        \"description\": \"\"\n      }\n    },\n    {\n      \"column\": \"Bedroom\",\n      \"properties\": {\n        \"dtype\": \"number\",\n        \"std\": 0.0,\n        \"min\": 3.0,\n        \"max\": 3.0,\n        \"num_unique_values\": 1,\n        \"samples\": [\n          3.0\n        ],\n        \"semantic_type\": \"\",\n        \"description\": \"\"\n      }\n    },\n    {\n      \"column\": \"Bathroom\",\n      \"properties\": {\n        \"dtype\": \"number\",\n        \"std\": 0.7071067811865476,\n        \"min\": 1.0,\n        \"max\": 2.0,\n        \"num_unique_values\": 2,\n        \"samples\": [\n          1.0\n        ],\n        \"semantic_type\": \"\",\n        \"description\": \"\"\n      }\n    },\n    {\n      \"column\": \"Car\",\n      \"properties\": {\n        \"dtype\": \"number\",\n        \"std\": 0.0,\n        \"min\": 2.0,\n        \"max\": 2.0,\n        \"num_unique_values\": 1,\n        \"samples\": [\n          2.0\n        ],\n        \"semantic_type\": \"\",\n        \"description\": \"\"\n      }\n    },\n    {\n      \"column\": \"Landsize\",\n      \"properties\": {\n        \"dtype\": \"number\",\n        \"std\": 636.3961030678928,\n        \"min\": 75100.0,\n        \"max\": 76000.0,\n        \"num_unique_values\": 2,\n        \"samples\": [\n          75100.0\n        ],\n        \"semantic_type\": \"\",\n        \"description\": \"\"\n      }\n    },\n    {\n      \"column\": \"BuildingArea\",\n      \"properties\": {\n        \"dtype\": \"number\",\n        \"std\": null,\n        \"min\": null,\n        \"max\": null,\n        \"num_unique_values\": 0,\n        \"samples\": [],\n        \"semantic_type\": \"\",\n        \"description\": \"\"\n      }\n    },\n    {\n      \"column\": \"YearBuilt\",\n      \"properties\": {\n        \"dtype\": \"number\",\n        \"std\": null,\n        \"min\": null,\n        \"max\": null,\n        \"num_unique_values\": 0,\n        \"samples\": [],\n        \"semantic_type\": \"\",\n        \"description\": \"\"\n      }\n    },\n    {\n      \"column\": \"Regionname\",\n      \"properties\": {\n        \"dtype\": \"string\",\n        \"num_unique_values\": 2,\n        \"samples\": [],\n        \"semantic_type\": \"\",\n        \"description\": \"\"\n      }\n    },\n    {\n      \"column\": \"Propertycount\",\n      \"properties\": {\n        \"dtype\": \"number\",\n        \"std\": 5198,\n        \"min\": 457,\n        \"max\": 7809,\n        \"num_unique_values\": 2,\n        \"samples\": [],\n        \"semantic_type\": \"\",\n        \"description\": \"\"\n      }\n    },\n    {\n      \"column\": \"Price\",\n      \"properties\": {\n        \"dtype\": \"number\",\n        \"std\": 647002,\n        \"min\": 1085000,\n        \"max\": 2000000,\n        \"num_unique_values\": 2,\n        \"samples\": [],\n        \"semantic_type\": \"\",\n        \"description\": \"\"\n      }\n    }\n  ]\n}"
            }
          },
          "metadata": {},
          "execution_count": 27
        }
      ],
      "source": [
        "data.loc[data['Landsize']>60000]"
      ]
    },
    {
      "cell_type": "markdown",
      "metadata": {
        "id": "aOI62hdhBwrl"
      },
      "source": [
        "* Just by looking at these observation it is difficult to say whether these are data entry errors or not. Although the land size does look very high."
      ]
    },
    {
      "cell_type": "markdown",
      "metadata": {
        "id": "RVeizFUbRSm6"
      },
      "source": [
        "**Observations on BuildingArea**"
      ]
    },
    {
      "cell_type": "code",
      "execution_count": 28,
      "metadata": {
        "id": "TY76HkfaQYjo",
        "colab": {
          "base_uri": "https://localhost:8080/",
          "height": 938
        },
        "outputId": "1f48c820-7fa7-4a92-b1af-ed722329c178"
      },
      "outputs": [
        {
          "output_type": "display_data",
          "data": {
            "text/plain": [
              "<Figure size 500x500 with 1 Axes>"
            ],
            "image/png": "[encoded data removed]"
          },
          "metadata": {}
        },
        {
          "output_type": "display_data",
          "data": {
            "text/plain": [
              "<Figure size 640x480 with 1 Axes>"
            ],
            "image/png": "[encoded data removed]"
          },
          "metadata": {}
        }
      ],
      "source": [
        "sns.displot(data=data,x='BuildingArea',kind='kde')\n",
        "plt.show()\n",
        "sns.boxplot(data=data,x='BuildingArea')\n",
        "plt.show()"
      ]
    },
    {
      "cell_type": "code",
      "execution_count": 29,
      "metadata": {
        "id": "9Yc9iUFWBwrl",
        "colab": {
          "base_uri": "https://localhost:8080/",
          "height": 938
        },
        "outputId": "f6cf20c9-dab4-45d1-981f-6ed168541bc4"
      },
      "outputs": [
        {
          "output_type": "display_data",
          "data": {
            "text/plain": [
              "<Figure size 500x500 with 1 Axes>"
            ],
            "image/png": "[encoded data removed]"
          },
          "metadata": {}
        },
        {
          "output_type": "display_data",
          "data": {
            "text/plain": [
              "<Figure size 640x480 with 1 Axes>"
            ],
            "image/png": "[encoded data removed]"
          },
          "metadata": {}
        }
      ],
      "source": [
        "\n",
        "sns.displot(data=data,x=data['BuildingArea'],kind='kde')\n",
        "plt.show()\n",
        "sns.boxplot(data=data,x=data['BuildingArea'])\n",
        "plt.show()"
      ]
    },
    {
      "cell_type": "markdown",
      "metadata": {
        "id": "VHecWkKeavN4"
      },
      "source": [
        "* The distribution of BuildingArea is similar to Landsize that is right skewed.\n",
        "* It has many outliers. There are values above 4000 sq meters which seems high."
      ]
    },
    {
      "cell_type": "markdown",
      "metadata": {
        "id": "VLfP2dYjRUEV"
      },
      "source": [
        "**Observations on Price**"
      ]
    },
    {
      "cell_type": "code",
      "execution_count": 30,
      "metadata": {
        "id": "LPBoV_-WQoHw",
        "colab": {
          "base_uri": "https://localhost:8080/",
          "height": 881
        },
        "outputId": "11b0c484-023a-4cc8-c4b5-2a2193162a86"
      },
      "outputs": [
        {
          "output_type": "display_data",
          "data": {
            "text/plain": [
              "<Figure size 640x480 with 1 Axes>"
            ],
            "image/png": "[encoded data removed]"
          },
          "metadata": {}
        },
        {
          "output_type": "display_data",
          "data": {
            "text/plain": [
              "<Figure size 640x480 with 1 Axes>"
            ],
            "image/png": "[encoded data removed]"
          },
          "metadata": {}
        }
      ],
      "source": [
        "sns.histplot(data=data,x='Price')\n",
        "plt.show()\n",
        "sns.boxplot(data=data,x='Price')\n",
        "plt.show()"
      ]
    },
    {
      "cell_type": "markdown",
      "metadata": {
        "id": "ElTxj8DDQuHK"
      },
      "source": [
        "* The distribution of the Price is skewed towards the right.\n",
        "* There are many outliers in this variable and the values above 2000000 are being represented as outliers by the boxplot.\n",
        "* The values seem fine as the selling price of the properties varies and depends upon various factors. For example, distance, if the properties are closer to CBD they might have a higher selling price."
      ]
    },
    {
      "cell_type": "markdown",
      "metadata": {
        "id": "q09RzXRfdrUk"
      },
      "source": [
        "**Observations on Rooms**\n"
      ]
    },
    {
      "cell_type": "code",
      "execution_count": 31,
      "metadata": {
        "id": "K89at1LGdtjT",
        "colab": {
          "base_uri": "https://localhost:8080/",
          "height": 449
        },
        "outputId": "5a69b27a-412f-4e08-9d3e-34b30e9336cd"
      },
      "outputs": [
        {
          "output_type": "display_data",
          "data": {
            "text/plain": [
              "<Figure size 640x480 with 1 Axes>"
            ],
            "image/png": "[encoded data removed]"
          },
          "metadata": {}
        }
      ],
      "source": [
        "sns.boxplot(data=data,x='Rooms')\n",
        "plt.show()"
      ]
    },
    {
      "cell_type": "markdown",
      "metadata": {
        "id": "GnTqFnz9dzKa"
      },
      "source": [
        "* Properties with more than 7 rooms are being represented as outliers by the boxplot.\n",
        "* Let's find out how many such properties are there which have more than 7 rooms and what are the types of such properties."
      ]
    },
    {
      "cell_type": "code",
      "execution_count": 32,
      "metadata": {
        "id": "u3VC50JQeBTO",
        "colab": {
          "base_uri": "https://localhost:8080/"
        },
        "outputId": "fb7cb30c-1cbf-482d-b9e3-0fae5ec6f883"
      },
      "outputs": [
        {
          "output_type": "execute_result",
          "data": {
            "text/plain": [
              "(23, 16)"
            ]
          },
          "metadata": {},
          "execution_count": 32
        }
      ],
      "source": [
        "data.loc[data['Rooms']>7].shape"
      ]
    },
    {
      "cell_type": "markdown",
      "metadata": {
        "id": "HhACMibUeFMu"
      },
      "source": [
        "* There are only 23 such properties which have more than 7 rooms."
      ]
    },
    {
      "cell_type": "code",
      "execution_count": 33,
      "metadata": {
        "id": "Gd7VKGxrbokS",
        "colab": {
          "base_uri": "https://localhost:8080/",
          "height": 176
        },
        "outputId": "635225d1-6baa-4060-c279-123236830f25"
      },
      "outputs": [
        {
          "output_type": "execute_result",
          "data": {
            "text/plain": [
              "Type\n",
              "h    21\n",
              "u     2\n",
              "Name: count, dtype: int64"
            ],
            "text/html": [
              "<div>\n",
              "<style scoped>\n",
              "    .dataframe tbody tr th:only-of-type {\n",
              "        vertical-align: middle;\n",
              "    }\n",
              "\n",
              "    .dataframe tbody tr th {\n",
              "        vertical-align: top;\n",
              "    }\n",
              "\n",
              "    .dataframe thead th {\n",
              "        text-align: right;\n",
              "    }\n",
              "</style>\n",
              "<table border=\"1\" class=\"dataframe\">\n",
              "  <thead>\n",
              "    <tr style=\"text-align: right;\">\n",
              "      <th></th>\n",
              "      <th>count</th>\n",
              "    </tr>\n",
              "    <tr>\n",
              "      <th>Type</th>\n",
              "      <th></th>\n",
              "    </tr>\n",
              "  </thead>\n",
              "  <tbody>\n",
              "    <tr>\n",
              "      <th>h</th>\n",
              "      <td>21</td>\n",
              "    </tr>\n",
              "    <tr>\n",
              "      <th>u</th>\n",
              "      <td>2</td>\n",
              "    </tr>\n",
              "  </tbody>\n",
              "</table>\n",
              "</div><br><label><b>dtype:</b> int64</label>"
            ]
          },
          "metadata": {},
          "execution_count": 33
        }
      ],
      "source": [
        "# findig the type of such properties\n",
        "data.loc[data['Rooms']>7,'Type'].value_counts()"
      ]
    },
    {
      "cell_type": "markdown",
      "metadata": {
        "id": "PGjmmShTcy5A"
      },
      "source": [
        "* There are no townhouses in these.\n",
        "* Most of these properties are houses/villas,etc\n",
        "* Only 2 of such properties are units/duplexes.\n",
        "* This indicates that 'h' type properties are a more likely choice for customers who are looking for bigger properties."
      ]
    },
    {
      "cell_type": "markdown",
      "metadata": {
        "id": "5XMEy7wmekJY"
      },
      "source": [
        "**Observations on Region Name**"
      ]
    },
    {
      "cell_type": "code",
      "execution_count": 34,
      "metadata": {
        "id": "gpN8Ov7MeohE",
        "colab": {
          "base_uri": "https://localhost:8080/",
          "height": 626
        },
        "outputId": "5529ec83-d4e3-4f72-96e7-42b9fa23369c"
      },
      "outputs": [
        {
          "output_type": "display_data",
          "data": {
            "text/plain": [
              "<Figure size 640x480 with 1 Axes>"
            ],
            "image/png": "[encoded data removed]"
          },
          "metadata": {}
        }
      ],
      "source": [
        "sns.countplot(data=data,x='Regionname')\n",
        "plt.xticks(rotation=90)\n",
        "plt.show()"
      ]
    },
    {
      "cell_type": "markdown",
      "metadata": {
        "id": "wzjtzCSje0LV"
      },
      "source": [
        "* Eastern, Northern, and Western Victoria have very less number of properties.\n",
        "* Southern and Northern Metropolitan have the most number of properties."
      ]
    },
    {
      "cell_type": "markdown",
      "metadata": {
        "id": "Ne1w2APnhozJ"
      },
      "source": [
        "### 4.3 Bivariate Analysis"
      ]
    },
    {
      "cell_type": "code",
      "source": [
        "data.corr()"
      ],
      "metadata": {
        "id": "w9hPpKvG9xsc",
        "outputId": "cfbd81d7-514a-4f0c-d07c-b2898c66c5a7",
        "colab": {
          "base_uri": "https://localhost:8080/",
          "height": 282
        }
      },
      "execution_count": 38,
      "outputs": [
        {
          "output_type": "error",
          "ename": "ValueError",
          "evalue": "could not convert string to float: 'Airport West'",
          "traceback": [
            "\u001b[0;31m---------------------------------------------------------------------------\u001b[0m",
            "\u001b[0;31mValueError\u001b[0m                                Traceback (most recent call last)",
            "\u001b[0;32m<ipython-input-38-c44ded798807>\u001b[0m in \u001b[0;36m<cell line: 0>\u001b[0;34m()\u001b[0m\n\u001b[0;32m----> 1\u001b[0;31m \u001b[0mdata\u001b[0m\u001b[0;34m.\u001b[0m\u001b[0mcorr\u001b[0m\u001b[0;34m(\u001b[0m\u001b[0;34m)\u001b[0m\u001b[0;34m\u001b[0m\u001b[0;34m\u001b[0m\u001b[0m\n\u001b[0m",
            "\u001b[0;32m/usr/local/lib/python3.11/dist-packages/pandas/core/frame.py\u001b[0m in \u001b[0;36mcorr\u001b[0;34m(self, method, min_periods, numeric_only)\u001b[0m\n\u001b[1;32m  11047\u001b[0m         \u001b[0mcols\u001b[0m \u001b[0;34m=\u001b[0m \u001b[0mdata\u001b[0m\u001b[0;34m.\u001b[0m\u001b[0mcolumns\u001b[0m\u001b[0;34m\u001b[0m\u001b[0;34m\u001b[0m\u001b[0m\n\u001b[1;32m  11048\u001b[0m         \u001b[0midx\u001b[0m \u001b[0;34m=\u001b[0m \u001b[0mcols\u001b[0m\u001b[0;34m.\u001b[0m\u001b[0mcopy\u001b[0m\u001b[0;34m(\u001b[0m\u001b[0;34m)\u001b[0m\u001b[0;34m\u001b[0m\u001b[0;34m\u001b[0m\u001b[0m\n\u001b[0;32m> 11049\u001b[0;31m         \u001b[0mmat\u001b[0m \u001b[0;34m=\u001b[0m \u001b[0mdata\u001b[0m\u001b[0;34m.\u001b[0m\u001b[0mto_numpy\u001b[0m\u001b[0;34m(\u001b[0m\u001b[0mdtype\u001b[0m\u001b[0;34m=\u001b[0m\u001b[0mfloat\u001b[0m\u001b[0;34m,\u001b[0m \u001b[0mna_value\u001b[0m\u001b[0;34m=\u001b[0m\u001b[0mnp\u001b[0m\u001b[0;34m.\u001b[0m\u001b[0mnan\u001b[0m\u001b[0;34m,\u001b[0m \u001b[0mcopy\u001b[0m\u001b[0;34m=\u001b[0m\u001b[0;32mFalse\u001b[0m\u001b[0;34m)\u001b[0m\u001b[0;34m\u001b[0m\u001b[0;34m\u001b[0m\u001b[0m\n\u001b[0m\u001b[1;32m  11050\u001b[0m \u001b[0;34m\u001b[0m\u001b[0m\n\u001b[1;32m  11051\u001b[0m         \u001b[0;32mif\u001b[0m \u001b[0mmethod\u001b[0m \u001b[0;34m==\u001b[0m \u001b[0;34m\"pearson\"\u001b[0m\u001b[0;34m:\u001b[0m\u001b[0;34m\u001b[0m\u001b[0;34m\u001b[0m\u001b[0m\n",
            "\u001b[0;32m/usr/local/lib/python3.11/dist-packages/pandas/core/frame.py\u001b[0m in \u001b[0;36mto_numpy\u001b[0;34m(self, dtype, copy, na_value)\u001b[0m\n\u001b[1;32m   1991\u001b[0m         \u001b[0;32mif\u001b[0m \u001b[0mdtype\u001b[0m \u001b[0;32mis\u001b[0m \u001b[0;32mnot\u001b[0m \u001b[0;32mNone\u001b[0m\u001b[0;34m:\u001b[0m\u001b[0;34m\u001b[0m\u001b[0;34m\u001b[0m\u001b[0m\n\u001b[1;32m   1992\u001b[0m             \u001b[0mdtype\u001b[0m \u001b[0;34m=\u001b[0m \u001b[0mnp\u001b[0m\u001b[0;34m.\u001b[0m\u001b[0mdtype\u001b[0m\u001b[0;34m(\u001b[0m\u001b[0mdtype\u001b[0m\u001b[0;34m)\u001b[0m\u001b[0;34m\u001b[0m\u001b[0;34m\u001b[0m\u001b[0m\n\u001b[0;32m-> 1993\u001b[0;31m         \u001b[0mresult\u001b[0m \u001b[0;34m=\u001b[0m \u001b[0mself\u001b[0m\u001b[0;34m.\u001b[0m\u001b[0m_mgr\u001b[0m\u001b[0;34m.\u001b[0m\u001b[0mas_array\u001b[0m\u001b[0;34m(\u001b[0m\u001b[0mdtype\u001b[0m\u001b[0;34m=\u001b[0m\u001b[0mdtype\u001b[0m\u001b[0;34m,\u001b[0m \u001b[0mcopy\u001b[0m\u001b[0;34m=\u001b[0m\u001b[0mcopy\u001b[0m\u001b[0;34m,\u001b[0m \u001b[0mna_value\u001b[0m\u001b[0;34m=\u001b[0m\u001b[0mna_value\u001b[0m\u001b[0;34m)\u001b[0m\u001b[0;34m\u001b[0m\u001b[0;34m\u001b[0m\u001b[0m\n\u001b[0m\u001b[1;32m   1994\u001b[0m         \u001b[0;32mif\u001b[0m \u001b[0mresult\u001b[0m\u001b[0;34m.\u001b[0m\u001b[0mdtype\u001b[0m \u001b[0;32mis\u001b[0m \u001b[0;32mnot\u001b[0m \u001b[0mdtype\u001b[0m\u001b[0;34m:\u001b[0m\u001b[0;34m\u001b[0m\u001b[0;34m\u001b[0m\u001b[0m\n\u001b[1;32m   1995\u001b[0m             \u001b[0mresult\u001b[0m \u001b[0;34m=\u001b[0m \u001b[0mnp\u001b[0m\u001b[0;34m.\u001b[0m\u001b[0masarray\u001b[0m\u001b[0;34m(\u001b[0m\u001b[0mresult\u001b[0m\u001b[0;34m,\u001b[0m \u001b[0mdtype\u001b[0m\u001b[0;34m=\u001b[0m\u001b[0mdtype\u001b[0m\u001b[0;34m)\u001b[0m\u001b[0;34m\u001b[0m\u001b[0;34m\u001b[0m\u001b[0m\n",
            "\u001b[0;32m/usr/local/lib/python3.11/dist-packages/pandas/core/internals/managers.py\u001b[0m in \u001b[0;36mas_array\u001b[0;34m(self, dtype, copy, na_value)\u001b[0m\n\u001b[1;32m   1692\u001b[0m                 \u001b[0marr\u001b[0m\u001b[0;34m.\u001b[0m\u001b[0mflags\u001b[0m\u001b[0;34m.\u001b[0m\u001b[0mwriteable\u001b[0m \u001b[0;34m=\u001b[0m \u001b[0;32mFalse\u001b[0m\u001b[0;34m\u001b[0m\u001b[0;34m\u001b[0m\u001b[0m\n\u001b[1;32m   1693\u001b[0m         \u001b[0;32melse\u001b[0m\u001b[0;34m:\u001b[0m\u001b[0;34m\u001b[0m\u001b[0;34m\u001b[0m\u001b[0m\n\u001b[0;32m-> 1694\u001b[0;31m             \u001b[0marr\u001b[0m \u001b[0;34m=\u001b[0m \u001b[0mself\u001b[0m\u001b[0;34m.\u001b[0m\u001b[0m_interleave\u001b[0m\u001b[0;34m(\u001b[0m\u001b[0mdtype\u001b[0m\u001b[0;34m=\u001b[0m\u001b[0mdtype\u001b[0m\u001b[0;34m,\u001b[0m \u001b[0mna_value\u001b[0m\u001b[0;34m=\u001b[0m\u001b[0mna_value\u001b[0m\u001b[0;34m)\u001b[0m\u001b[0;34m\u001b[0m\u001b[0;34m\u001b[0m\u001b[0m\n\u001b[0m\u001b[1;32m   1695\u001b[0m             \u001b[0;31m# The underlying data was copied within _interleave, so no need\u001b[0m\u001b[0;34m\u001b[0m\u001b[0;34m\u001b[0m\u001b[0m\n\u001b[1;32m   1696\u001b[0m             \u001b[0;31m# to further copy if copy=True or setting na_value\u001b[0m\u001b[0;34m\u001b[0m\u001b[0;34m\u001b[0m\u001b[0m\n",
            "\u001b[0;32m/usr/local/lib/python3.11/dist-packages/pandas/core/internals/managers.py\u001b[0m in \u001b[0;36m_interleave\u001b[0;34m(self, dtype, na_value)\u001b[0m\n\u001b[1;32m   1751\u001b[0m             \u001b[0;32melse\u001b[0m\u001b[0;34m:\u001b[0m\u001b[0;34m\u001b[0m\u001b[0;34m\u001b[0m\u001b[0m\n\u001b[1;32m   1752\u001b[0m                 \u001b[0marr\u001b[0m \u001b[0;34m=\u001b[0m \u001b[0mblk\u001b[0m\u001b[0;34m.\u001b[0m\u001b[0mget_values\u001b[0m\u001b[0;34m(\u001b[0m\u001b[0mdtype\u001b[0m\u001b[0;34m)\u001b[0m\u001b[0;34m\u001b[0m\u001b[0;34m\u001b[0m\u001b[0m\n\u001b[0;32m-> 1753\u001b[0;31m             \u001b[0mresult\u001b[0m\u001b[0;34m[\u001b[0m\u001b[0mrl\u001b[0m\u001b[0;34m.\u001b[0m\u001b[0mindexer\u001b[0m\u001b[0;34m]\u001b[0m \u001b[0;34m=\u001b[0m \u001b[0marr\u001b[0m\u001b[0;34m\u001b[0m\u001b[0;34m\u001b[0m\u001b[0m\n\u001b[0m\u001b[1;32m   1754\u001b[0m             \u001b[0mitemmask\u001b[0m\u001b[0;34m[\u001b[0m\u001b[0mrl\u001b[0m\u001b[0;34m.\u001b[0m\u001b[0mindexer\u001b[0m\u001b[0;34m]\u001b[0m \u001b[0;34m=\u001b[0m \u001b[0;36m1\u001b[0m\u001b[0;34m\u001b[0m\u001b[0;34m\u001b[0m\u001b[0m\n\u001b[1;32m   1755\u001b[0m \u001b[0;34m\u001b[0m\u001b[0m\n",
            "\u001b[0;31mValueError\u001b[0m: could not convert string to float: 'Airport West'"
          ]
        }
      ]
    },
    {
      "cell_type": "code",
      "execution_count": 37,
      "metadata": {
        "id": "Lkz2y_9zhrOk",
        "colab": {
          "base_uri": "https://localhost:8080/",
          "height": 535
        },
        "outputId": "bb3c8a5a-49f3-47d6-f938-61e00faf19ab"
      },
      "outputs": [
        {
          "output_type": "display_data",
          "data": {
            "text/plain": [
              "<Figure size 1000x500 with 2 Axes>"
            ],
            "image/png": "[encoded data removed]"
          },
          "metadata": {}
        }
      ],
      "source": [
        "plt.figure(figsize=(10,5))\n",
        "#sns.heatmap(data.corr(),annot=True,cmap='Spectral',vmin=-1,vmax=1)\n",
        "sns.heatmap(data.select_dtypes(include=np.number).corr(),annot=True,cmap='Spectral',vmin=-1,vmax=1)\n",
        "plt.show()"
      ]
    },
    {
      "cell_type": "markdown",
      "metadata": {
        "id": "xtMi3rnBh06a"
      },
      "source": [
        "**Observations**\n",
        "* Price column shows a high correlation with number of rooms, bedrooms, bathrooms and car parking spaces. This indicates that more the number of rooms, bedrooms, etc more will be the selling price of a property.\n",
        "* Price has a negative correlation with Distance column. This indicates as the distance increases the selling price of a property will decrease.\n",
        "* Price has a negative correlation with YearBuilt column. This indicates that vintage properties have higher selling price as compared to properties built recently.\n",
        "* Rooms, Bedrooms, and Bathrooms show a high correlation with each other which is expected.\n",
        "* BuildingArea and Landsize shows a positive correlation which makes sense as if the land size is more the building area will also be more.\n",
        "* We should not consider the correlation value with Postcode because this column is a unique identifier for an area, and an increase or decrease in postcode can not impact any other feature."
      ]
    },
    {
      "cell_type": "markdown",
      "metadata": {
        "id": "UHfmNHyjjxFT"
      },
      "source": [
        "**Properties which have more space for living or more number of rooms, bedrooms and bathrooms generally tend to have higher selling prices. Let's analyze the relationship between the price and total number of rooms in a property**"
      ]
    },
    {
      "cell_type": "code",
      "execution_count": 1,
      "metadata": {
        "id": "ttM_i-3Kkcef",
        "colab": {
          "base_uri": "https://localhost:8080/",
          "height": 173
        },
        "outputId": "7014f916-a4c0-4af0-8ca5-4938aa886c09"
      },
      "outputs": [
        {
          "output_type": "error",
          "ename": "NameError",
          "evalue": "name 'data' is not defined",
          "traceback": [
            "\u001b[0;31m---------------------------------------------------------------------------\u001b[0m",
            "\u001b[0;31mNameError\u001b[0m                                 Traceback (most recent call last)",
            "\u001b[0;32m<ipython-input-1-6ba73fcb3db2>\u001b[0m in \u001b[0;36m<cell line: 0>\u001b[0;34m()\u001b[0m\n\u001b[1;32m      1\u001b[0m \u001b[0;31m# let's create a column with a sum of number of rooms, bedrooms, bathrooms, and car parking spaces\u001b[0m\u001b[0;34m\u001b[0m\u001b[0;34m\u001b[0m\u001b[0m\n\u001b[0;32m----> 2\u001b[0;31m \u001b[0mdata\u001b[0m\u001b[0;34m[\u001b[0m\u001b[0;34m'Total Space'\u001b[0m\u001b[0;34m]\u001b[0m \u001b[0;34m=\u001b[0m \u001b[0mdata\u001b[0m\u001b[0;34m[\u001b[0m\u001b[0;34m'Rooms'\u001b[0m\u001b[0;34m]\u001b[0m \u001b[0;34m+\u001b[0m \u001b[0mdata\u001b[0m\u001b[0;34m[\u001b[0m\u001b[0;34m'Bedroom'\u001b[0m\u001b[0;34m]\u001b[0m \u001b[0;34m+\u001b[0m \u001b[0mdata\u001b[0m\u001b[0;34m[\u001b[0m\u001b[0;34m'Bathroom'\u001b[0m\u001b[0;34m]\u001b[0m \u001b[0;34m+\u001b[0m \u001b[0mdata\u001b[0m\u001b[0;34m[\u001b[0m\u001b[0;34m'Car'\u001b[0m\u001b[0;34m]\u001b[0m\u001b[0;34m\u001b[0m\u001b[0;34m\u001b[0m\u001b[0m\n\u001b[0m\u001b[1;32m      3\u001b[0m \u001b[0mdata\u001b[0m\u001b[0;34m.\u001b[0m\u001b[0mhead\u001b[0m\u001b[0;34m(\u001b[0m\u001b[0;34m)\u001b[0m\u001b[0;34m\u001b[0m\u001b[0;34m\u001b[0m\u001b[0m\n",
            "\u001b[0;31mNameError\u001b[0m: name 'data' is not defined"
          ]
        }
      ],
      "source": [
        "# let's create a column with a sum of number of rooms, bedrooms, bathrooms, and car parking spaces\n",
        "data['Total Space'] = data['Rooms'] + data['Bedroom'] + data['Bathroom'] + data['Car']\n",
        "data.head()\n"
      ]
    },
    {
      "cell_type": "markdown",
      "metadata": {
        "id": "b_1dHSCtksIb"
      },
      "source": [
        "* The column has been successfully added in the data frame."
      ]
    },
    {
      "cell_type": "code",
      "execution_count": null,
      "metadata": {
        "id": "-GURbUCUk4lX"
      },
      "outputs": [],
      "source": [
        "plt.figure(figsize=(10,5))\n",
        "sns.scatterplot(data=data,x='Total Space',y='Price')\n",
        "plt.show()"
      ]
    },
    {
      "cell_type": "markdown",
      "metadata": {
        "id": "gg3lKcnpBwrn"
      },
      "source": [
        "* We can see an increasing trend of selling price with total space. Let's visualize the trend using lmplot()."
      ]
    },
    {
      "cell_type": "code",
      "execution_count": null,
      "metadata": {
        "id": "aOHwBExOBwro"
      },
      "outputs": [],
      "source": [
        "sns.lmplot(data=data,x='Total Space',y='Price',height=5,aspect=2)\n",
        "plt.xlim(0,55)\n",
        "plt.show()"
      ]
    },
    {
      "cell_type": "markdown",
      "metadata": {
        "id": "eLrZu7iVk-Dk"
      },
      "source": [
        "* A positive correlation or an increasing trend can be clearly observed between the total number of rooms and the selling price of the property, although the line plotted by lmlot() doesn't show a high correlation. Let's check the correlation value further.\n",
        "* The positive correlation indicates that more living space implies a higher selling price."
      ]
    },
    {
      "cell_type": "code",
      "execution_count": null,
      "metadata": {
        "id": "YzLfovNbBwro"
      },
      "outputs": [],
      "source": [
        "# lets check the correlation between Total space and Price\n",
        "data[['Total Space','Price']].corr()"
      ]
    },
    {
      "cell_type": "markdown",
      "metadata": {
        "id": "EhnHr0blBwro"
      },
      "source": [
        "* As expected, there is a positive correlation between Total Space and Price but it is not very high."
      ]
    },
    {
      "cell_type": "markdown",
      "metadata": {
        "id": "5dsmoF3qlf8S"
      },
      "source": [
        "**The distance of the property from the key facilities play a cruicial role in deciding the selling price of a property. The properties located closer to key facilities tend to be priced higher and vice versa. Let's find out if the same relationship exists in our data**"
      ]
    },
    {
      "cell_type": "code",
      "execution_count": null,
      "metadata": {
        "id": "9mpaFosXme6m"
      },
      "outputs": [],
      "source": [
        "plt.figure(figsize=(15,7))\n",
        "sns.scatterplot(data=data, x='Distance', y ='Price')\n",
        "plt.show()"
      ]
    },
    {
      "cell_type": "code",
      "execution_count": null,
      "metadata": {
        "id": "rEYQwTUldmDN"
      },
      "outputs": [],
      "source": [
        "plt.figure(figsize=(15,7))\n",
        "sns.lineplot(data=data, x='Distance', y ='Price',ci=None)\n",
        "plt.show()"
      ]
    },
    {
      "cell_type": "markdown",
      "metadata": {
        "id": "36a27fNQmkOF"
      },
      "source": [
        "* We observe that after 20-25 Kms the selling price of the properties starts decreasing which indicates that distance plays a key role in deciding the selling price of a property.\n",
        "* Let's create bins/buckets for the Distance column to get better visualization of the relationship between Price and Distance."
      ]
    },
    {
      "cell_type": "markdown",
      "metadata": {
        "id": "A-hrbCddBwro"
      },
      "source": [
        "**Creating bins for distance column**\n",
        "* 0 - 15  KMs  - The property will be said to be in **`Nearby`** location.\n",
        "* 15 - 30 KMs - The property will be said to be in **`Moderately Close`** location.\n",
        "* 30 - 50 KMs - The property will be said to be in **`Far`** away location.\n",
        "\n",
        "We will use **pd.cut() function** to create the bins in Distance column.\n",
        "\n",
        "    Syntax: pd.cut(x, bins, labels=None, right=False)\n",
        "    \n",
        "    x - column/array to binned\n",
        "    bins - number of bins to create or an input of list for the range of bins\n",
        "    labels - specifies the labels for the bins\n",
        "    right - If set to False, it excludes the rightmost edge of the interval"
      ]
    },
    {
      "cell_type": "code",
      "execution_count": null,
      "metadata": {
        "id": "EnTlfSg-Bwro"
      },
      "outputs": [],
      "source": [
        "# using pd.cut() function to create bins\n",
        "data['Distance_bins'] = pd.cut(data['Distance'],bins=[0,15,30,50],labels=['Nearby','Moderately Close','Far'], right = False)"
      ]
    },
    {
      "cell_type": "code",
      "execution_count": null,
      "metadata": {
        "id": "lUGEHaCrYZoE"
      },
      "outputs": [],
      "source": [
        "data.head()"
      ]
    },
    {
      "cell_type": "markdown",
      "metadata": {
        "id": "u-KCtqAiBwro"
      },
      "source": [
        "**Let's check the price with the distance bins**"
      ]
    },
    {
      "cell_type": "code",
      "execution_count": null,
      "metadata": {
        "id": "VFyJ1YC8Bwro"
      },
      "outputs": [],
      "source": [
        "sns.boxplot(data=data,x='Distance_bins',y='Price')\n",
        "plt.show()"
      ]
    },
    {
      "cell_type": "markdown",
      "metadata": {
        "id": "Uqj7_htCBwrp"
      },
      "source": [
        "* It is a little difficult to make observations from here with so many outliers present in the data. Let's turn off these outliers (not removing from data) and see if we can observe any noticeable difference."
      ]
    },
    {
      "cell_type": "code",
      "execution_count": null,
      "metadata": {
        "id": "p0rN1R-PBwrp"
      },
      "outputs": [],
      "source": [
        "sns.boxplot(data=data,x='Distance_bins',y='Price',showfliers=False) # showfliers parameter controls the representation of outliers in the boxplot\n",
        "plt.show()"
      ]
    },
    {
      "cell_type": "markdown",
      "metadata": {
        "id": "nQ9a9_U8Bwrp"
      },
      "source": [
        "* We can see that as the distance increases the selling price of the property decreases.\n",
        "* The properties closer to CBD have a high variance in the selling price. This variance in price decreases with the increase in distance.\n",
        "* Considering that a customer has planned the budget for buying a property as the 'median' selling price for nearby, moderately close, and far away properties.\n",
        "\n",
        "  This variation in the selling price of a property might impact the planned budget of the customer who is looking to buy a property near CBD (as the variance is high). The customer might be able to get the property within the planned budget for properties that are far from CBD.\n"
      ]
    },
    {
      "cell_type": "markdown",
      "metadata": {
        "id": "NPFk_f7Gnx-2"
      },
      "source": [
        "**As we observed in the correlation plot there is a negative correlation between the selling price of a property and the year it was built. Let's analyze it further**"
      ]
    },
    {
      "cell_type": "code",
      "execution_count": null,
      "metadata": {
        "id": "IGmui9zb5cPt"
      },
      "outputs": [],
      "source": [
        "# let's first calculate the age of a property from the year it was built in to see how the prices vary with it\n",
        "year_at_sale = data['Date'].dt.year\n",
        "year_at_sale"
      ]
    },
    {
      "cell_type": "code",
      "execution_count": null,
      "metadata": {
        "id": "yduUaOkIb52Z"
      },
      "outputs": [],
      "source": [
        "np.max(year_at_sale)"
      ]
    },
    {
      "cell_type": "code",
      "execution_count": null,
      "metadata": {
        "id": "-9VRTW7Ho8KE"
      },
      "outputs": [],
      "source": [
        "data['AgeofProp'] = year_at_sale - data['YearBuilt']\n",
        "data.head()"
      ]
    },
    {
      "cell_type": "markdown",
      "metadata": {
        "id": "vSCy0TtDo9WV"
      },
      "source": [
        "* The column was added in the data frame."
      ]
    },
    {
      "cell_type": "code",
      "execution_count": null,
      "metadata": {
        "id": "ca46zfxi67M7"
      },
      "outputs": [],
      "source": [
        "data[data['AgeofProp']==-2]"
      ]
    },
    {
      "cell_type": "code",
      "execution_count": null,
      "metadata": {
        "id": "Odl2YnQjpegW"
      },
      "outputs": [],
      "source": [
        "plt.figure(figsize=(15,5))\n",
        "sns.lineplot(data=data,x='AgeofProp',y='Price',ci=None)\n",
        "plt.show()"
      ]
    },
    {
      "cell_type": "markdown",
      "metadata": {
        "id": "cwfm2hlspiXC"
      },
      "source": [
        "* We observe an increasing trend indicating the properties which are older (vintage properties) have higher selling prices.\n",
        "* The customers who wish to live in vintage properties might have to spend more money.\n",
        "* Let's see this trend for all the regions"
      ]
    },
    {
      "cell_type": "markdown",
      "metadata": {
        "id": "zWq3n1onBwrp"
      },
      "source": [
        "* sns.relplot() is used to visualize any statistical relationships between quantitative variables.\n",
        "* Why use relplot() instead of scatterplot() ?\n",
        "    * relplot() lets you create multiple plots on a single axis.\n",
        "        - kind - specifies the kind of plot to draw (scatter or line)\n",
        "        - ci - specifies the confidence interval\n",
        "        - col_wrap - specifies the number of columns in the grid"
      ]
    },
    {
      "cell_type": "code",
      "execution_count": null,
      "metadata": {
        "id": "IMw4MEBgBwrq"
      },
      "outputs": [],
      "source": [
        "sns.relplot(data=data,x='AgeofProp',y='Price',col='Regionname',kind='line', ci=None, col_wrap=4)\n",
        "plt.show()\n",
        "# double click on the plot to zoom in"
      ]
    },
    {
      "cell_type": "markdown",
      "metadata": {
        "id": "8HYwdrlhBwrq"
      },
      "source": [
        "* The trend of selling price increasing with the increase in age of the property is evident from the plot for Metropolitan regions.\n",
        "* The trend of Victoria regions is slightly unclear, but this was expected as the number of data points for these regions is very low."
      ]
    },
    {
      "cell_type": "markdown",
      "metadata": {
        "id": "bH1Z559QroOZ"
      },
      "source": [
        "**The price of properties vary based on the type of the property. For example, a villa may be priced higher than a duplex because of more amenities. Let's see which type of property is priced higher.**"
      ]
    },
    {
      "cell_type": "code",
      "execution_count": null,
      "metadata": {
        "id": "NAWsl0n2rc74"
      },
      "outputs": [],
      "source": [
        "plt.figure(figsize=(10,5))\n",
        "sns.boxplot(data=data,x='Type',y='Price',showfliers=False) # turning off outliers\n",
        "plt.show()"
      ]
    },
    {
      "cell_type": "markdown",
      "metadata": {
        "id": "t33ijNWCreh0"
      },
      "source": [
        "* The properties like villa, cottage, etc have a higher median price as compared to a townhouse and a duplex.\n",
        "* The townhouses have a higher median price than unit, duplex properties.\n",
        "* Customers planning to buy 'h' type property might have to invest more."
      ]
    },
    {
      "cell_type": "markdown",
      "metadata": {
        "id": "V_wgsd9vsiiS"
      },
      "source": [
        "**Similarly the region of the property will play an integral role in deciding the selling price. Let' do a similar analysis with regions as well**"
      ]
    },
    {
      "cell_type": "code",
      "execution_count": null,
      "metadata": {
        "id": "dmhtEvgvs6VQ"
      },
      "outputs": [],
      "source": [
        "plt.figure(figsize=(10,5))\n",
        "sns.boxplot(data=data,x='Regionname',y='Price',showfliers=False) # turning off outliers\n",
        "plt.xticks(rotation=90)\n",
        "plt.show()"
      ]
    },
    {
      "cell_type": "code",
      "execution_count": null,
      "metadata": {
        "id": "FU_v-EQwBwrq"
      },
      "outputs": [],
      "source": [
        "# Dispersion of price in every region\n",
        "sns.catplot(x='Price',\n",
        "            col='Regionname',\n",
        "            data=data,\n",
        "            col_wrap=4,\n",
        "            kind=\"violin\")\n",
        "plt.show()"
      ]
    },
    {
      "cell_type": "markdown",
      "metadata": {
        "id": "OKwDi0-CtAKP"
      },
      "source": [
        "* In Metropolitan, the southern and eastern regions have the costliest properties while the northern and western properties are priced similarly.\n",
        "\n",
        "* In Victoria, there is an increasing trend of prices, western having the lowest priced properties while northern has moderately priced properties, and eastern region having high priced properties."
      ]
    },
    {
      "cell_type": "markdown",
      "metadata": {
        "id": "rHgXtgbEzbHe"
      },
      "source": [
        "### 4.4 Missing value treatment"
      ]
    },
    {
      "cell_type": "markdown",
      "metadata": {
        "id": "UoaEmEheBwrr"
      },
      "source": [
        "* There is no universally accepted method of dealing with missing values.\n",
        "* It is often left to the discretion of the data scientist to take a decision on missing values that is whether to impute them or drop them.\n",
        "* However, it is sometimes a good practice to impute the missing values rather than dropping them, because it can lead to loss of information in other features where values are present."
      ]
    },
    {
      "cell_type": "markdown",
      "metadata": {
        "id": "p73w0vczBwrr"
      },
      "source": [
        "**How to treat missing values?**\n",
        "\n",
        "One of the commonly used method to deal with the missing values is to impute them with the central tendencies - mean, median, and mode of a column.\n",
        "\n",
        "* `Replacing with mean`: In this method the missing values are imputed with the mean of the column. Mean gets impacted by the presence of outliers, and in such cases where the column has outliers using this method may lead to erroneous imputations.\n",
        "\n",
        "* `Replacing with median`: In this method the missing values are imputed with the median of the column. In cases where the column has outliers, median is an appropriate measure of central tendency to deal with the missing values over mean.\n",
        "\n",
        "* `Replacing with mode`: In this method the missing values are imputed with the mode of the column. This method is generally preferred with categorical data.\n",
        "\n",
        "* Other methods include k-NN, MICE, SMOTE, deep learning, ..."
      ]
    },
    {
      "cell_type": "markdown",
      "metadata": {
        "id": "Q4qAvBaiBwrr"
      },
      "source": [
        "**Limitations of imputing missing values with central tendencies**\n",
        "\n",
        "* When we impute the missing values with central tendencies the original distribution of the feature can get distorted.\n",
        "* After imputation with the central value the variance and standard deviation of a feature can get drastically impacted.\n",
        "* The impact of distortion is higher with higher percentage of missing values.\n",
        "\n",
        "So, before directly imputing the missing values with central values of column we should investigate the missing data closely to observe the pattern of missing values, and then take a decision to impute the missing value with appropriate measure."
      ]
    },
    {
      "cell_type": "markdown",
      "metadata": {
        "id": "41gFeMafBwrr"
      },
      "source": [
        "**Lets see the count and the percentage of missing values in each column**"
      ]
    },
    {
      "cell_type": "code",
      "execution_count": null,
      "metadata": {
        "id": "idjRhUThziwX"
      },
      "outputs": [],
      "source": [
        "# data.shape[0] will give us the number of rows in the dataset\n",
        "# selecting the instances where missing value is greater than 0\n",
        "pd.DataFrame({'Count':data.isnull().sum()[data.isnull().sum()>0],'Percentage':(data.isnull().sum()[data.isnull().sum()>0]/data.shape[0])*100})"
      ]
    },
    {
      "cell_type": "markdown",
      "metadata": {
        "id": "RK_EH8zD1Ho4"
      },
      "source": [
        "* BuildingArea and YearBuilt columns have the highest percentage of missing values.\n",
        "* Distance and Postcode have the least number of missing values.\n",
        "* Bedroom, Bathroom, and Car have almost equal percentage of missing values.\n",
        "* AgeofProp and Total Space has equal percentage of missing values as YearBuilt and Bedroom, Bathroom, and Car because the information here were extracted using these columns.\n",
        "* Landsize has around 34% missing values."
      ]
    },
    {
      "cell_type": "markdown",
      "metadata": {
        "id": "XdP8Ae1P7NuP"
      },
      "source": [
        "**Missing value treatment for Distance column**"
      ]
    },
    {
      "cell_type": "code",
      "execution_count": null,
      "metadata": {
        "id": "xTV2VhRh6PyU"
      },
      "outputs": [],
      "source": [
        "# extracting all the information of other variables where Distance is null\n",
        "data.loc[data['Distance'].isnull()==True]"
      ]
    },
    {
      "cell_type": "markdown",
      "metadata": {
        "id": "HpZlOaRy7bqB"
      },
      "source": [
        "* We observe that the data is missing for other attributes as well. This is a common problem with data collection where sometimes the data is not missing randomly and has a pattern in missingness.\n",
        "* Let's see if we can find more information using the name of the Suburb."
      ]
    },
    {
      "cell_type": "code",
      "execution_count": null,
      "metadata": {
        "id": "aF1Zr5Zz6qQj"
      },
      "outputs": [],
      "source": [
        "data.loc[data['Suburb']=='Fawkner Lot']"
      ]
    },
    {
      "cell_type": "markdown",
      "metadata": {
        "id": "tVzaT5mJ7qa7"
      },
      "source": [
        "* We see that there is only one data entry for the Fawkner Lot suburb and in this case it is possible that data for this suburb was not collected. This shows that data is not missing randomly rather has pattern in missingness.\n",
        "* Imputing the Distance as well other information will not be a suitable approach as the imputed values will not be reliable. Hence, we will drop this row."
      ]
    },
    {
      "cell_type": "code",
      "execution_count": null,
      "metadata": {
        "id": "B3FS30bE8Qdz"
      },
      "outputs": [],
      "source": [
        "# adding the index value of the row in data.drop() function\n",
        "data = data.drop(9590).reset_index(drop=True)"
      ]
    },
    {
      "cell_type": "code",
      "execution_count": null,
      "metadata": {
        "id": "0I34B2Iv9B6T"
      },
      "outputs": [],
      "source": [
        "pd.DataFrame({'Count':data.isnull().sum()[data.isnull().sum()>0],'Percentage':(data.isnull().sum()[data.isnull().sum()>0]/data.shape[0])*100})"
      ]
    },
    {
      "cell_type": "code",
      "execution_count": null,
      "metadata": {
        "id": "yRmcOn2CBwrs"
      },
      "outputs": [],
      "source": [
        "# extracting all the information of other variable where Bedroom is null\n",
        "data.loc[data['Bedroom'].isnull()==True]"
      ]
    },
    {
      "cell_type": "markdown",
      "metadata": {
        "id": "pbswZ3BlBwrs"
      },
      "source": [
        "* It looks like wherever Bedroom is null the data points in other columns are also missing. Let's check this."
      ]
    },
    {
      "cell_type": "code",
      "execution_count": null,
      "metadata": {
        "id": "ZyonhP1eBwrs",
        "scrolled": true
      },
      "outputs": [],
      "source": [
        "data.loc[data['Bedroom'].isnull()==True,'Bathroom'].value_counts(dropna=False)"
      ]
    },
    {
      "cell_type": "code",
      "execution_count": null,
      "metadata": {
        "id": "TuL-_5ypBwrs"
      },
      "outputs": [],
      "source": [
        "data.loc[data['Bedroom'].isnull()==True,'Car'].value_counts(dropna=False)"
      ]
    },
    {
      "cell_type": "code",
      "execution_count": null,
      "metadata": {
        "id": "YHbt5A8bBwrs"
      },
      "outputs": [],
      "source": [
        "data.loc[data['Bedroom'].isnull()==True,'Landsize'].value_counts(dropna=False)"
      ]
    },
    {
      "cell_type": "code",
      "execution_count": null,
      "metadata": {
        "id": "G8ba0xFoBwrt"
      },
      "outputs": [],
      "source": [
        "data.loc[data['Bedroom'].isnull()==True,'BuildingArea'].value_counts(dropna=False)"
      ]
    },
    {
      "cell_type": "code",
      "execution_count": null,
      "metadata": {
        "id": "eNpvkb8TBwrt"
      },
      "outputs": [],
      "source": [
        "data.loc[data['Bedroom'].isnull()==True,'YearBuilt'].value_counts(dropna=False)"
      ]
    },
    {
      "cell_type": "markdown",
      "metadata": {
        "id": "lEapdRPSBwru"
      },
      "source": [
        "* There seems to be a strong pattern in missing values, as wherever the Bedroom column has missing data the other columns like Bathroom, Car, Landsize, BuildingArea, and YearBuilt also have missing values.\n",
        "* Let's see if the missing data has some pattern in suburbs, and regions of properties."
      ]
    },
    {
      "cell_type": "code",
      "execution_count": null,
      "metadata": {
        "id": "DEB3bLT0Bwru"
      },
      "outputs": [],
      "source": [
        "data.loc[data['Bedroom'].isnull()==True,'Suburb'].value_counts(dropna=False)"
      ]
    },
    {
      "cell_type": "code",
      "execution_count": null,
      "metadata": {
        "id": "ABvRH-hVBwru"
      },
      "outputs": [],
      "source": [
        "# to find the total number of unique values in a suburb\n",
        "data['Suburb'].nunique()"
      ]
    },
    {
      "cell_type": "markdown",
      "metadata": {
        "id": "6lYtXtAUBwru"
      },
      "source": [
        "* Across 344 suburbs the missing values are present in 307 suburbs, indicating that the most suburbs have missing values.\n",
        "* There seems to be no pattern of missing values with respect to suburb column."
      ]
    },
    {
      "cell_type": "code",
      "execution_count": null,
      "metadata": {
        "id": "ryrYtB5aBwru"
      },
      "outputs": [],
      "source": [
        "data.loc[data['Bedroom'].isnull()==True,'Regionname'].value_counts(dropna=False)"
      ]
    },
    {
      "cell_type": "markdown",
      "metadata": {
        "id": "dX9FthhKBwrv"
      },
      "source": [
        "* Similar to suburbs there seems to be no notable pattern across different regions."
      ]
    },
    {
      "cell_type": "markdown",
      "metadata": {
        "id": "nPfQ8qpE-eHW"
      },
      "source": [
        "**Missing value treatment for Bedroom, Bathroom, and Car columns**"
      ]
    },
    {
      "cell_type": "markdown",
      "metadata": {
        "id": "wjZh2ev5-ojX"
      },
      "source": [
        "* One of the approaches to treat the missing values of these columns would be to group the data on the basis of Region and Type of the property to get a better idea of the average number of bedrooms, bathrooms, and car parking spaces.\n",
        "* It is more likely that a property of certain type in a given region would have similar number of bedrooms, bathrooms, and car parking spaces."
      ]
    },
    {
      "cell_type": "code",
      "execution_count": null,
      "metadata": {
        "id": "8xotQYE_1S_m"
      },
      "outputs": [],
      "source": [
        "# checking the average number of bedrooms, bathrooms, and car parking spaces in a region\n",
        "data.groupby(['Regionname','Type'])[['Bedroom','Bathroom','Car']].mean()"
      ]
    },
    {
      "cell_type": "markdown",
      "metadata": {
        "id": "Qg5fkq3pBwrv"
      },
      "source": [
        "* We have received the mean number of Bedrooms, Bathrooms, and Car parking spaces for each type of property in a specific region."
      ]
    },
    {
      "cell_type": "markdown",
      "metadata": {
        "id": "39YodvZfBwrv"
      },
      "source": [
        "We will use fillna() function and transform method of pandas to impute the missing values.\n",
        "\n",
        "**fillna() Function -** The fillna() function is used to fill NaN values using the provide input value.\n",
        "\n",
        "       Syntax of fillna():  data['column'].fillna(value = x)\n",
        "\n",
        "-----\n",
        "\n",
        "**transform function -** The transform() function works on each value of  a DataFrame and allows to execute a specified function on each value.\n",
        "\n",
        "    Sytanx of transform function: data.transform(func = function name)\n",
        "\n",
        "    * func - A function to be executed on the values of the DataFrame.\n"
      ]
    },
    {
      "cell_type": "code",
      "execution_count": null,
      "metadata": {
        "id": "FbnmlIf9Bwrv"
      },
      "outputs": [],
      "source": [
        "# imputing missing values in Bedroom column\n",
        "data['Bedroom'] = data['Bedroom'].fillna(value = data.groupby(['Regionname','Type'])['Bedroom'].transform('mean'))"
      ]
    },
    {
      "cell_type": "code",
      "execution_count": null,
      "metadata": {
        "id": "_z5WG2G5Bwrv"
      },
      "outputs": [],
      "source": [
        "# imputing missing values in Bathroom column\n",
        "data['Bathroom'] = data['Bathroom'].fillna(value = data.groupby(['Regionname','Type'])['Bathroom'].transform('mean'))"
      ]
    },
    {
      "cell_type": "code",
      "execution_count": null,
      "metadata": {
        "id": "cvwer1wwBwrv"
      },
      "outputs": [],
      "source": [
        "# imputing missing values in Car column\n",
        "data['Car'] = data['Car'].fillna(value = data.groupby(['Regionname','Type'])['Car'].transform('mean'))"
      ]
    },
    {
      "cell_type": "code",
      "execution_count": null,
      "metadata": {
        "id": "5MBmIBJjAN20"
      },
      "outputs": [],
      "source": [
        "# checking if all the missing values were imputed in Bedroom, Bathroom, and Car columns\n",
        "pd.DataFrame({'Count':data.isnull().sum()[data.isnull().sum()>0],'Percentage':(data.isnull().sum()[data.isnull().sum()>0]/data.shape[0])*100})"
      ]
    },
    {
      "cell_type": "markdown",
      "metadata": {
        "id": "bMi5QV6xBwrw"
      },
      "source": [
        "* We see that the missing values have been imputed.\n",
        "* Let's convert all the values of Bedroom, Bathroom, and Car to integer type as these columns have discrete values."
      ]
    },
    {
      "cell_type": "code",
      "execution_count": null,
      "metadata": {
        "id": "efxuOMysRbwV"
      },
      "outputs": [],
      "source": [
        "data['Bedroom'] = data['Bedroom'].astype(int)\n",
        "data['Bathroom'] = data['Bathroom'].astype(int)\n",
        "data['Car'] = data['Car'].astype(int)"
      ]
    },
    {
      "cell_type": "markdown",
      "metadata": {
        "id": "TXuDuhKwHi69"
      },
      "source": [
        "**Missing values of Total Space column**\n",
        "\n",
        "We can create this feature again from the combination of Rooms, Bedroom, Bathroom, and Car as the missing values have now been imputed."
      ]
    },
    {
      "cell_type": "code",
      "execution_count": null,
      "metadata": {
        "id": "6ZYu-m0rHyxJ"
      },
      "outputs": [],
      "source": [
        "# removing Total Space column\n",
        "data.drop('Total Space',axis=1,inplace=True)\n",
        "\n",
        "# creating new Total Space column\n",
        "data['Total_Space_New'] = data['Rooms'] + data['Bedroom'] + data['Bathroom'] + data['Car']\n",
        "data['Total_Space_New'] = data['Total_Space_New'].astype(int)"
      ]
    },
    {
      "cell_type": "markdown",
      "metadata": {
        "id": "MBQ0nT5bII8D"
      },
      "source": [
        "**Note:**\n",
        "\n",
        "It is a good idea to check the distributions of the column again after missing value imputation"
      ]
    },
    {
      "cell_type": "markdown",
      "metadata": {
        "id": "QwLyui3aJUeH"
      },
      "source": [
        "**Let's check the relationship of Total Space column with Price once again**"
      ]
    },
    {
      "cell_type": "code",
      "execution_count": null,
      "metadata": {
        "id": "J1Jjc94dIbcr"
      },
      "outputs": [],
      "source": [
        "sns.scatterplot(data=data,x='Total_Space_New',y='Price')\n",
        "plt.show()"
      ]
    },
    {
      "cell_type": "markdown",
      "metadata": {
        "id": "7J6SHamcIirI"
      },
      "source": [
        "* We observe that the relationship between Total Space and Price has not changed and the positive relation between these variables is still maintained, which is a good thing."
      ]
    },
    {
      "cell_type": "markdown",
      "metadata": {
        "id": "UqN3s1coDbl9"
      },
      "source": [
        "**Missing value Treatment for Landsize**"
      ]
    },
    {
      "cell_type": "markdown",
      "metadata": {
        "id": "5iMDHeHzEo4y"
      },
      "source": [
        "* We will use similar approach we took for imputing missing values in Bedroom, Bathroom, and Car columns. Using region and type of property will be a good way to find the size of land.\n",
        "* Let's plot the distribution of Landsize."
      ]
    },
    {
      "cell_type": "code",
      "execution_count": null,
      "metadata": {
        "id": "5sEYJdCpBwrx"
      },
      "outputs": [],
      "source": [
        "sns.displot(data=data,x='Landsize',kind='kde')\n",
        "plt.show()"
      ]
    },
    {
      "cell_type": "markdown",
      "metadata": {
        "id": "vyR5G20dBwrx"
      },
      "source": [
        "* As Landsize column is skewed, using average value for imputation might not be the correct method as mean gets impacted by outliers. So we will use median value to impute the missing values of this column as median is not affected by the outliers."
      ]
    },
    {
      "cell_type": "code",
      "execution_count": null,
      "metadata": {
        "id": "7XtAYLABGAu5"
      },
      "outputs": [],
      "source": [
        "data.groupby(['Regionname','Type'])[['Landsize']].median()"
      ]
    },
    {
      "cell_type": "markdown",
      "metadata": {
        "id": "n2OQgkZXGKzp"
      },
      "source": [
        "* We have received the median value of Landsize for each type of property in a specific region."
      ]
    },
    {
      "cell_type": "code",
      "execution_count": null,
      "metadata": {
        "id": "Jx_4fIgSFYna"
      },
      "outputs": [],
      "source": [
        "# grouping data on region and type of property\n",
        "# finding the median of landsize for each group and imputing the missing data with it\n",
        "data['Landsize'] = data['Landsize'].fillna(value = data.groupby(['Regionname','Type'])['Landsize'].transform('median'))"
      ]
    },
    {
      "cell_type": "code",
      "execution_count": null,
      "metadata": {
        "id": "YOVY5E1AFtae"
      },
      "outputs": [],
      "source": [
        "# checking if all the missing values were imputed in Landsize column\n",
        "pd.DataFrame({'Count':data.isnull().sum()[data.isnull().sum()>0],'Percentage':(data.isnull().sum()[data.isnull().sum()>0]/data.shape[0])*100})"
      ]
    },
    {
      "cell_type": "markdown",
      "metadata": {
        "id": "o7GDDc-hBwrx"
      },
      "source": [
        "**Missing value treatment for BuildingArea, YearBuilt, and AgeofProp**"
      ]
    },
    {
      "cell_type": "markdown",
      "metadata": {
        "id": "A5TbK4MFGx4p"
      },
      "source": [
        "* We will not do any imputation for Building Area and Year Built as these columns have more than 50% of missing data. As AgeofProp was extracted from YearBuilt column we can not do imputations in it as well.\n",
        "* Any imputation in these columns will result in creation of new data points which will not be reliable to extract insights from.\n",
        "* We have two options here -\n",
        "    * Option 1 - We can use the data which is not null to proceed with the analysis which will allow us to preserve the data which is not missing\n",
        "    * Option 2- We can drop these columns from the data but it will lead to loss of data points from the data frame.\n",
        "    "
      ]
    },
    {
      "cell_type": "code",
      "execution_count": null,
      "metadata": {
        "id": "naN_cvUfBwry"
      },
      "outputs": [],
      "source": [
        "# Taking option 1 to remove the 61% null values from the building area column\n",
        "new_data = data[data['BuildingArea'].notnull()]\n",
        "new_data.head()"
      ]
    },
    {
      "cell_type": "markdown",
      "metadata": {
        "id": "kT6D1LS7Bwry"
      },
      "source": [
        "* We observe that the index of data frame has changed and the rows which had missing values in BuildingArea column have been removed.\n",
        "* Similarly the above steps can be repeated for YearBuilt and AgeofProp column."
      ]
    },
    {
      "cell_type": "code",
      "execution_count": null,
      "metadata": {
        "id": "XEF9gbMTHUs2"
      },
      "outputs": [],
      "source": [
        "# Option 2 -  dropping columns BuildingArea, YearBuilt, and AgeofProp from the data frame\n",
        "data = data.drop(['BuildingArea','YearBuilt','AgeofProp'],axis=1)"
      ]
    },
    {
      "cell_type": "code",
      "execution_count": null,
      "metadata": {
        "id": "4HhmDonjN_VX"
      },
      "outputs": [],
      "source": [
        "# saving the dataset with all the missing values treated\n",
        "data.to_csv('/content/drive/MyDrive/Python Course/Melbourne_Housing_NoMissing.csv',index=False)"
      ]
    },
    {
      "cell_type": "markdown",
      "metadata": {
        "id": "-LJmcUgkIxXd"
      },
      "source": [
        "### 4.5 Outlier Detection and Treatment"
      ]
    },
    {
      "cell_type": "code",
      "execution_count": null,
      "metadata": {
        "id": "2ZOIRsE_Bwry"
      },
      "outputs": [],
      "source": [
        "from IPython.display import Image\n",
        "Image(\"/content/drive/MyDrive/Python Course/boxplot.png\")"
      ]
    },
    {
      "cell_type": "markdown",
      "metadata": {
        "id": "h7qsikUBBwry"
      },
      "source": [
        "* An outlier is a data point that are abnormally/unrealistically distant from other points in the data.\n",
        "\n",
        "* The challenge with outlier detection is determining if a point is truly a problem or simply a large value. If a point is genuine then it is very important to keep it in the data as otherwise we're removing the most interesting data points.\n",
        "\n",
        "* It is left to the best judgement of the investigator to decide whether treating outliers is necessary and how to go about it. Domain Knowledge and impact of the business problem tend to drive this decision."
      ]
    },
    {
      "cell_type": "markdown",
      "metadata": {
        "id": "TRw_FYSqBwry"
      },
      "source": [
        "**Handling outliers**\n",
        "\n",
        "Some of the commonly methods to deal with the data points that we actually flag as outliers are:\n",
        "\n",
        "* Replacement with null values - We can consider these data points as missing data and replace the abnormal values with NaNs.\n",
        "* IQR method - Replace the data points with the lower whisker (Q1 - 1.5 * IQR) or upper whisker (Q3 + 1.5 * IQR) value.\n",
        "* We can also drop these observations, but we might end up with losing other relevant observations as well.\n",
        "\n",
        "So, it is often a good idea to examine the results by  running an analysis with and without outliers."
      ]
    },
    {
      "cell_type": "code",
      "execution_count": null,
      "metadata": {
        "id": "kXc5d3m0P_-8"
      },
      "outputs": [],
      "source": [
        "# reading the dataset\n",
        "data = pd.read_csv('Melbourne_Housing_NoMissing.csv')\n",
        "data.head()"
      ]
    },
    {
      "cell_type": "markdown",
      "metadata": {
        "id": "RRJfDtTkKpUL"
      },
      "source": [
        "**Let's visualize all the outliers present in data together**"
      ]
    },
    {
      "cell_type": "code",
      "execution_count": null,
      "metadata": {
        "id": "W88hFlzFJ0Qo"
      },
      "outputs": [],
      "source": [
        "# outlier detection using boxplot\n",
        "# selecting the numerical columns of data and adding their names in a list\n",
        "numeric_columns = ['Rooms', 'Distance', 'Postcode', 'Bedroom', 'Bathroom', 'Car','Landsize',\n",
        "                   'Propertycount', 'Price']\n",
        "plt.figure(figsize=(15, 12))\n",
        "\n",
        "for i, variable in enumerate(numeric_columns):\n",
        "    plt.subplot(4, 4, i + 1)\n",
        "    plt.boxplot(data[variable], whis=1.5)\n",
        "    plt.tight_layout()\n",
        "    plt.title(variable)\n",
        "\n",
        "plt.show()"
      ]
    },
    {
      "cell_type": "markdown",
      "metadata": {
        "id": "Hf7XwqkXMDOv"
      },
      "source": [
        "We can see that all the numerical features in the data set have outliers present in them.\n",
        "\n",
        "\n",
        "**Let's analyze each column to see if the values in them can be considered as outliers or not.**\n",
        "  \n",
        "  \n",
        " * Rooms, Bedroom, Bathroom, Car - The values which are being represented as outliers in the above boxplot may not seem realistic in some cases. For example- It is not common to have more than 15 rooms, 15 bedrooms, and more than 10 car parking spaces in a general scenario.\n",
        "\n",
        "Although these values can not be considered to be unrealistic but we will rarely see such high number of rooms, bedrooms, bathrooms and car parking in a property. So, we will treat the outliers in this column.\n",
        "  \n",
        "  \n",
        " * Distance - The outliers in this column can be considered as genuine values because a property can be at varying distances from the C.B.D. In the context of this problem we will not consider these values as outliers.\n",
        "\n",
        "\n",
        " * Postcode - Postcodes are a combination of several numerical values based on region, sub-region, etc and these cannot be considered as outliers.\n",
        "\n",
        "\n",
        "\n",
        " * Landsize - The values in this column seem unrealistic as some of the properties have a Land size greater than 0.1 Sq Kms. So, we will treat the outliers in this column.\n",
        "\n",
        "\n",
        "\n",
        " * Propertycount- Each suburb can have varying number of properties depending upon the region and the area of a suburb. Hence, the count of properties in a suburb can be considered as genuine values and not outliers.\n",
        "\n",
        "\n",
        "\n",
        " * Price - The selling price of properties depends upon various factors (for example location of a property) and the prices can change from time to time. Hence, the selling price of properties can be considered as genuine values and not outliers."
      ]
    },
    {
      "cell_type": "markdown",
      "metadata": {
        "id": "9eEwAfXVKBpQ"
      },
      "source": [
        "**Let's find the percentage of outliers, in each column of the data, using IQR.**"
      ]
    },
    {
      "cell_type": "code",
      "execution_count": null,
      "metadata": {
        "id": "oGVSduRmnIgg"
      },
      "outputs": [],
      "source": [
        "# to find the 25th percentile and 75th percentile for the numerical columns.\n",
        "Q1 = data[numeric_columns].quantile(0.25)\n",
        "Q3 = data[numeric_columns].quantile(0.75)\n",
        "\n",
        "IQR = Q3 - Q1                   #Inter Quantile Range (75th percentile - 25th percentile)\n",
        "\n",
        "lower_whisker = Q1 - 1.5*IQR    #Finding lower and upper bounds for all values. All values outside these bounds are outliers\n",
        "upper_whisker = Q3 + 1.5*IQR"
      ]
    },
    {
      "cell_type": "code",
      "execution_count": null,
      "metadata": {
        "id": "DnlOSPRIL37P"
      },
      "outputs": [],
      "source": [
        "# Percentage of outliers in each column\n",
        "((data[numeric_columns] < lower_whisker) | (data[numeric_columns] > upper_whisker)).sum()/data.shape[0]*100"
      ]
    },
    {
      "cell_type": "markdown",
      "metadata": {
        "id": "4YwDh9wQBwrz"
      },
      "source": [
        "**Treating outliers**\n",
        "\n",
        "We will cap/clip the minimum and maximum value of these columns to the lower and upper whisker value of the boxplot found using  **Q1 - 1.5*IQR** and **Q3 + 1.5*IQR**, respectively.\n",
        "\n",
        "**Note**: Generally, a value of 1.5 * IQR is taken to cap the values of outliers to upper and lower whiskers but any number (example 0.5, 2, 3, etc) other than 1.5 can be chosen. The value depends upon the business problem statement."
      ]
    },
    {
      "cell_type": "markdown",
      "metadata": {
        "id": "i9xyIcIJVJTL"
      },
      "source": [
        "**Creating a function to floor and cap/clip outliers in a column**"
      ]
    },
    {
      "cell_type": "code",
      "execution_count": null,
      "metadata": {
        "id": "z6EV9RLefUob"
      },
      "outputs": [],
      "source": [
        "def treat_outliers(df, col):\n",
        "    \"\"\"\n",
        "    treats outliers in a variable\n",
        "    col: str, name of the numerical variable\n",
        "    df: dataframe\n",
        "    col: name of the column\n",
        "    \"\"\"\n",
        "    Q1 = df[col].quantile(0.25)  # 25th quantile\n",
        "    Q3 = df[col].quantile(0.75)  # 75th quantile\n",
        "    IQR = Q3 - Q1                # Inter Quantile Range (75th perentile - 25th percentile)\n",
        "    lower_whisker = Q1 - 1.5 * IQR\n",
        "    upper_whisker = Q3 + 1.5 * IQR\n",
        "\n",
        "    # all the values smaller than lower_whisker will be assigned the value of lower_whisker\n",
        "    # all the values greater than upper_whisker will be assigned the value of upper_whisker\n",
        "    # the assignment will be done by using the clip function of NumPy\n",
        "    df[col] = np.clip(df[col], lower_whisker, upper_whisker)\n",
        "\n",
        "    return df"
      ]
    },
    {
      "cell_type": "markdown",
      "metadata": {
        "id": "bjGsTBjkVj4R"
      },
      "source": [
        "**Treating outliers in Rooms column**"
      ]
    },
    {
      "cell_type": "code",
      "execution_count": null,
      "metadata": {
        "id": "JNMfF7jyiSK3"
      },
      "outputs": [],
      "source": [
        "data = treat_outliers(data,'Rooms')\n",
        "\n",
        "# visualizing the column after outlier treatment\n",
        "sns.boxplot(data=data,x='Rooms')\n",
        "plt.show()"
      ]
    },
    {
      "cell_type": "markdown",
      "metadata": {
        "id": "0vbp-pFaVtaF"
      },
      "source": [
        "* The maximum number of rooms in a property have been capped to 7. All the values greater than 7 (whisker value) have been treated."
      ]
    },
    {
      "cell_type": "markdown",
      "metadata": {
        "id": "Cig_wpR2Bwr0"
      },
      "source": [
        "**Similarly we will treat the outliers in other columns using the same approach**"
      ]
    },
    {
      "cell_type": "code",
      "execution_count": null,
      "metadata": {
        "id": "otsh8UaHiwmu"
      },
      "outputs": [],
      "source": [
        "# treating outliers of Bedroom column\n",
        "data = treat_outliers(data,'Bedroom')\n",
        "\n",
        "# treating outliers of Car column\n",
        "data = treat_outliers(data,'Car')\n",
        "\n",
        "# treating outliers of Bathroom column\n",
        "data = treat_outliers(data,'Bathroom')\n",
        "\n",
        "# treating outliers of Landsize column\n",
        "data = treat_outliers(data,'Landsize')"
      ]
    },
    {
      "cell_type": "markdown",
      "metadata": {
        "id": "3VgXiAO3Bwr0"
      },
      "source": [
        "**Let's visualize numerical columns where outliers were treated**"
      ]
    },
    {
      "cell_type": "code",
      "execution_count": null,
      "metadata": {
        "id": "_q-mbT3eBwr0"
      },
      "outputs": [],
      "source": [
        "# outlier detection using boxplot\n",
        "# selecting the numerical columns where outliers were treated\n",
        "numeric_columns = ['Rooms', 'Bedroom', 'Bathroom', 'Car','Landsize']\n",
        "plt.figure(figsize=(15, 12))\n",
        "\n",
        "for i, variable in enumerate(numeric_columns):\n",
        "    plt.subplot(4, 4, i + 1)\n",
        "    plt.boxplot(data[variable], whis=1.5)\n",
        "    plt.tight_layout()\n",
        "    plt.title(variable)\n",
        "\n",
        "plt.show()"
      ]
    },
    {
      "cell_type": "markdown",
      "metadata": {
        "id": "wnA-7GnSf_gp"
      },
      "source": [
        "* All the outliers have been treated.\n",
        "* We observe that the data type of Bedroom, Bathroom, and Car has changed to float which we should change to the integer type.\n",
        "* We can also see that the distribution of Landsize column doesn't look heavily right-skewed now."
      ]
    },
    {
      "cell_type": "markdown",
      "metadata": {
        "id": "Wsow2sRqBwr0"
      },
      "source": [
        "**Setting the data type to integer for Bedroom, Bathroom, and Car columns**"
      ]
    },
    {
      "cell_type": "code",
      "execution_count": null,
      "metadata": {
        "id": "zKcslNMkBwr0"
      },
      "outputs": [],
      "source": [
        "data['Bedroom'] = data['Bedroom'].astype(int)\n",
        "data['Bathroom'] = data['Bathroom'].astype(int)\n",
        "data['Car'] = data['Car'].astype(int)"
      ]
    },
    {
      "cell_type": "code",
      "execution_count": null,
      "metadata": {
        "id": "T6a1ic9RBwr0"
      },
      "outputs": [],
      "source": [
        "# saving the dataset with all the outlier values treated\n",
        "data.to_csv('/content/drive/MyDrive/Python Course/Melbourne_Housing_NoOutliers.csv',index=False)"
      ]
    }
  ],
  "metadata": {
    "colab": {
      "collapsed_sections": [
        "JffhyoX0BwrY",
        "j6uAieYsNnL4",
        "Ne1w2APnhozJ",
        "rHgXtgbEzbHe",
        "-LJmcUgkIxXd"
      ],
      "name": "Hands-on Notebook - ExploratoryDataAnalysis.ipynb",
      "provenance": []
    },
    "kernelspec": {
      "display_name": "Python 3 (ipykernel)",
      "language": "python",
      "name": "python3"
    },
    "language_info": {
      "codemirror_mode": {
        "name": "ipython",
        "version": 3
      },
      "file_extension": ".py",
      "mimetype": "text/x-python",
      "name": "python",
      "nbconvert_exporter": "python",
      "pygments_lexer": "ipython3",
      "version": "3.8.12"
    }
  },
  "nbformat": 4,
  "nbformat_minor": 0
}